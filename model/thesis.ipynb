{
 "cells": [
  {
   "metadata": {},
   "cell_type": "markdown",
   "source": "## Imports\n"
  },
  {
   "cell_type": "code",
   "metadata": {},
   "source": [
    "# imports\n",
    "import os\n",
    "import shutil\n",
    "import random\n",
    "import kaggle\n",
    "import torch\n",
    "from torchvision import transforms\n",
    "from torchvision import datasets\n",
    "from torchvision import models\n",
    "from torchsummary import summary\n",
    "import matplotlib.pyplot as plt\n",
    "import numpy as np\n"
   ],
   "outputs": [],
   "execution_count": null
  },
  {
   "cell_type": "markdown",
   "metadata": {},
   "source": [
    "## Prepare data"
   ]
  },
  {
   "cell_type": "code",
   "metadata": {},
   "source": [
    "# paths\n",
    "tmp_path = 'tmp'\n",
    "train_dataset_path = f'{tmp_path}/train_dataset'\n",
    "test_dataset_path = f'{tmp_path}/test_dataset'\n"
   ],
   "outputs": [],
   "execution_count": null
  },
  {
   "cell_type": "code",
   "metadata": {},
   "source": [
    "# download dataset\n",
    "if not os.path.exists(train_dataset_path) or not os.path.exists(test_dataset_path):\n",
    "    kaggle.api.authenticate()\n",
    "    kaggle.api.dataset_download_files('grassknoted/asl-alphabet', path=tmp_path, unzip=True)\n",
    "\n",
    "    shutil.move(f\"{tmp_path}/asl_alphabet_train/asl_alphabet_train\", train_dataset_path)\n",
    "    shutil.move(f\"{tmp_path}/asl_alphabet_test/asl_alphabet_test\", test_dataset_path)\n",
    "\n",
    "    shutil.rmtree(f\"{tmp_path}/asl_alphabet_train\")\n",
    "    shutil.rmtree(f\"{tmp_path}/asl_alphabet_test\")\n"
   ],
   "outputs": [],
   "execution_count": null
  },
  {
   "cell_type": "markdown",
   "metadata": {},
   "source": [
    "## Configure PyTorch\n"
   ]
  },
  {
   "cell_type": "code",
   "metadata": {},
   "source": [
    "# PyTorch device\n",
    "os.environ['CUDA_LAUNCH_BLOCKING'] = '1'\n",
    "device = torch.device(\"cuda\" if torch.cuda.is_available() else \"cpu\")\n",
    "device\n"
   ],
   "outputs": [],
   "execution_count": null
  },
  {
   "cell_type": "markdown",
   "metadata": {},
   "source": [
    "## Prepare data\n"
   ]
  },
  {
   "cell_type": "code",
   "metadata": {},
   "source": [
    "# Define transform\n",
    "transform = transforms.Compose([\n",
    "    transforms.Resize((200, 200)),\n",
    "    transforms.ToTensor(),\n",
    "    transforms.Normalize(mean=[0.485, 0.456, 0.406], std=[0.229, 0.224, 0.225]),\n",
    "])\n",
    "transform\n"
   ],
   "outputs": [],
   "execution_count": null
  },
  {
   "cell_type": "code",
   "metadata": {},
   "source": [
    "# Load dataset\n",
    "dataset = datasets.ImageFolder(root=train_dataset_path, transform=transform)\n",
    "dataset\n"
   ],
   "outputs": [],
   "execution_count": null
  },
  {
   "cell_type": "code",
   "metadata": {},
   "source": [
    "# Get classes\n",
    "classes = dataset.classes\n",
    "classes\n"
   ],
   "outputs": [],
   "execution_count": null
  },
  {
   "cell_type": "code",
   "metadata": {},
   "source": [
    "# Count classes\n",
    "classes_count = len(classes)\n",
    "classes_count\n"
   ],
   "outputs": [],
   "execution_count": null
  },
  {
   "cell_type": "code",
   "metadata": {},
   "source": [
    "# Set train/test split ratio\n",
    "train_ratio = 0.8\n",
    "test_ratio = 0.2\n",
    "{\"train_ratio\": train_ratio, \"test_ratio\": test_ratio}\n"
   ],
   "outputs": [],
   "execution_count": null
  },
  {
   "cell_type": "code",
   "metadata": {},
   "source": [
    "# Set train/test sizes\n",
    "train_size = int(train_ratio * len(dataset))\n",
    "test_size = int(test_ratio * len(dataset))\n",
    "{\"train_size\": train_size, \"test_size\": test_size}\n"
   ],
   "outputs": [],
   "execution_count": null
  },
  {
   "cell_type": "code",
   "metadata": {},
   "source": [
    "# Split dataset into train and test\n",
    "train_dataset, test_dataset = torch.utils.data.random_split(dataset, [train_size, test_size])\n"
   ],
   "outputs": [],
   "execution_count": null
  },
  {
   "cell_type": "code",
   "metadata": {},
   "source": [
    "# Count train/test dataset sizes\n",
    "train_dataset_count = len(train_dataset)\n",
    "test_dataset_count = len(test_dataset)\n",
    "{\"train_dataset_count\": train_dataset_count, \"test_dataset_count\": test_dataset_count}\n"
   ],
   "outputs": [],
   "execution_count": null
  },
  {
   "cell_type": "code",
   "metadata": {},
   "source": [
    "# Create data loaders\n",
    "train_loader = torch.utils.data.DataLoader(train_dataset, batch_size=32, shuffle=True)\n",
    "test_loader = torch.utils.data.DataLoader(test_dataset, batch_size=32, shuffle=True)\n"
   ],
   "outputs": [],
   "execution_count": null
  },
  {
   "cell_type": "code",
   "metadata": {},
   "source": [
    "# Display random images function\n",
    "def show_random_samples(dataset, classes, num_samples=5):\n",
    "    fig, axs = plt.subplots(1, num_samples, figsize=(15, 15))\n",
    "\n",
    "    for i in range(num_samples):\n",
    "        index = np.random.randint(0, len(dataset) - 1)\n",
    "        image, label = dataset[index]\n",
    "\n",
    "        axs[i].imshow(image.permute(1, 2, 0))\n",
    "        axs[i].set_title(classes[label])\n",
    "        axs[i].axis('off')\n",
    "\n",
    "    plt.show()\n"
   ],
   "outputs": [],
   "execution_count": null
  },
  {
   "cell_type": "code",
   "metadata": {},
   "source": [
    "# Display random images from train dataset\n",
    "show_random_samples(train_dataset, classes)\n"
   ],
   "outputs": [],
   "execution_count": null
  },
  {
   "cell_type": "code",
   "metadata": {},
   "source": [
    "# Display random images from test dataset\n",
    "show_random_samples(test_dataset, classes)\n"
   ],
   "outputs": [],
   "execution_count": null
  },
  {
   "cell_type": "markdown",
   "metadata": {},
   "source": [
    "## Prepare models\n"
   ]
  },
  {
   "metadata": {},
   "cell_type": "markdown",
   "source": "### Make models folder"
  },
  {
   "metadata": {},
   "cell_type": "code",
   "source": "os.makedirs('tmp/models', exist_ok=True)\n",
   "outputs": [],
   "execution_count": null
  },
  {
   "cell_type": "markdown",
   "metadata": {},
   "source": [
    "### AlexNet\n"
   ]
  },
  {
   "cell_type": "code",
   "metadata": {},
   "source": [
    "AlexNet_model = models.alexnet()\n",
    "\n",
    "# Freeze model parameters\n",
    "for param in AlexNet_model.parameters():\n",
    "    param.requires_grad = False\n",
    "\n",
    "# Modify the last fully connected layer to fit your number of classes\n",
    "AlexNet_model.classifier[6] = torch.nn.Linear(AlexNet_model.classifier[6].in_features, classes_count)\n",
    "\n",
    "# Move the model to the device (GPU if available)\n",
    "AlexNet_model.to(device)\n",
    "\n",
    "# Define loss function and optimizer\n",
    "AlexNet_model_criterion = torch.nn.CrossEntropyLoss()\n",
    "AlexNet_model_optimizer = torch.optim.Adam(AlexNet_model.parameters(), lr=0.001)\n"
   ],
   "outputs": [],
   "execution_count": null
  },
  {
   "cell_type": "code",
   "metadata": {},
   "source": [
    "summary(AlexNet_model, input_size=(3, 200, 200))\n"
   ],
   "outputs": [],
   "execution_count": null
  },
  {
   "cell_type": "markdown",
   "metadata": {},
   "source": [
    "### GoogleNet\n"
   ]
  },
  {
   "cell_type": "code",
   "metadata": {},
   "source": [
    "GoogleNet_model = models.googlenet(models.GoogLeNet_Weights.DEFAULT)\n",
    "\n",
    "# Freeze model parameters\n",
    "for param in GoogleNet_model.parameters():\n",
    "    param.requires_grad = False\n",
    "\n",
    "# Modify the last fully connected layer to fit your number of classes\n",
    "GoogleNet_model.fc = torch.nn.Linear(GoogleNet_model.fc.in_features, classes_count)\n",
    "\n",
    "# Move the model to the device (GPU if available)\n",
    "GoogleNet_model.to(device)\n",
    "\n",
    "# Define loss function and optimizer\n",
    "GoogleNet_model_criterion = torch.nn.CrossEntropyLoss()\n",
    "GoogleNet_model_optimizer = torch.optim.Adam(GoogleNet_model.parameters(), lr=0.001)\n"
   ],
   "outputs": [],
   "execution_count": null
  },
  {
   "cell_type": "code",
   "metadata": {},
   "source": [
    "summary(GoogleNet_model, input_size=(3, 200, 200))\n"
   ],
   "outputs": [],
   "execution_count": null
  },
  {
   "cell_type": "markdown",
   "metadata": {},
   "source": [
    "### MobileNet V2\n"
   ]
  },
  {
   "cell_type": "code",
   "metadata": {},
   "source": [
    "# MobileNetV2_model = models.MobileNetV2()\n",
    "\n",
    "# # Freeze model parameters\n",
    "# for param in MobileNetV2_model.parameters():\n",
    "#     param.requires_grad = False\n",
    "\n",
    "# # Modify the last fully connected layer to fit your number of classes\n",
    "# MobileNetV2_model.classifier[6] = torch.nn.Linear(MobileNetV2_model.classifier[6].in_features, classes_count)\n",
    "\n",
    "# # Move the model to the device (GPU if available)\n",
    "# MobileNetV2_model.to(device)\n",
    "\n",
    "# # Define loss function and optimizer\n",
    "# MobileNetV2_model_criterion = torch.nn.CrossEntropyLoss()\n",
    "# MobileNetV2_model_optimizer = torch.optim.Adam(MobileNetV2_model.parameters(), lr=0.001)\n"
   ],
   "outputs": [],
   "execution_count": null
  },
  {
   "cell_type": "code",
   "metadata": {},
   "source": [
    "# summary(MobileNetV2_model, input_size=(3, 200, 200))\n"
   ],
   "outputs": [],
   "execution_count": null
  },
  {
   "cell_type": "markdown",
   "metadata": {},
   "source": [
    "### MobileNet V3\n"
   ]
  },
  {
   "cell_type": "code",
   "metadata": {},
   "source": [
    "# MobileNetV3_model = models.MobileNetV3()\n",
    "\n",
    "# # Freeze model parameters\n",
    "# for param in MobileNetV3_model.parameters():\n",
    "#     param.requires_grad = False\n",
    "\n",
    "# # Modify the last fully connected layer to fit your number of classes\n",
    "# MobileNetV3_model.classifier[6] = torch.nn.Linear(MobileNetV3_model.classifier[6].in_features, classes_count)\n",
    "\n",
    "# # Move the model to the device (GPU if available)\n",
    "# MobileNetV3_model.to(device)\n",
    "\n",
    "# # Define loss function and optimizer\n",
    "# MobileNetV3_model_criterion = torch.nn.CrossEntropyLoss()\n",
    "# MobileNetV3_model_optimizer = torch.optim.Adam(MobileNetV3_model.parameters(), lr=0.001)\n"
   ],
   "outputs": [],
   "execution_count": null
  },
  {
   "cell_type": "code",
   "metadata": {},
   "source": [
    "# summary(MobileNetV3_model, input_size=(3, 200, 200))\n"
   ],
   "outputs": [],
   "execution_count": null
  },
  {
   "cell_type": "markdown",
   "metadata": {},
   "source": [
    "### ResNet 18\n"
   ]
  },
  {
   "cell_type": "code",
   "metadata": {},
   "source": [
    "ResNet18_model = models.resnet18()\n",
    "\n",
    "# Freeze model parameters\n",
    "for param in ResNet18_model.parameters():\n",
    "    param.requires_grad = False\n",
    "\n",
    "# Modify the last fully connected layer to fit your number of classes\n",
    "ResNet18_model.fc = torch.nn.Linear(ResNet18_model.fc.in_features, classes_count)\n",
    "\n",
    "# Move the model to the device (GPU if available)\n",
    "ResNet18_model.to(device)\n",
    "\n",
    "# Define loss function and optimizer\n",
    "ResNet18_model_criterion = torch.nn.CrossEntropyLoss()\n",
    "ResNet18_model_optimizer = torch.optim.Adam(ResNet18_model.parameters(), lr=0.001)\n"
   ],
   "outputs": [],
   "execution_count": null
  },
  {
   "cell_type": "code",
   "metadata": {},
   "source": [
    "summary(ResNet18_model, input_size=(3, 200, 200))\n"
   ],
   "outputs": [],
   "execution_count": null
  },
  {
   "cell_type": "markdown",
   "metadata": {},
   "source": [
    "### ResNet 50\n"
   ]
  },
  {
   "cell_type": "code",
   "metadata": {},
   "source": [
    "ResNet50_model = models.resnet50()\n",
    "\n",
    "# Freeze model parameters\n",
    "for param in ResNet50_model.parameters():\n",
    "    param.requires_grad = False\n",
    "\n",
    "# Modify the last fully connected layer to fit your number of classes\n",
    "ResNet50_model.fc = torch.nn.Linear(ResNet50_model.fc.in_features, classes_count)\n",
    "\n",
    "# Move the model to the device (GPU if available)\n",
    "ResNet50_model.to(device)\n",
    "\n",
    "# Define loss function and optimizer\n",
    "ResNet50_model_criterion = torch.nn.CrossEntropyLoss()\n",
    "ResNet50_model_optimizer = torch.optim.Adam(ResNet50_model.parameters(), lr=0.001)\n"
   ],
   "outputs": [],
   "execution_count": null
  },
  {
   "cell_type": "code",
   "metadata": {},
   "source": [
    "summary(ResNet50_model, input_size=(3, 200, 200))\n"
   ],
   "outputs": [],
   "execution_count": null
  },
  {
   "cell_type": "markdown",
   "metadata": {},
   "source": [
    "### Vgg16\n"
   ]
  },
  {
   "cell_type": "code",
   "metadata": {},
   "source": [
    "Vgg16_model = models.vgg16()\n",
    "\n",
    "# Freeze model parameters\n",
    "for param in Vgg16_model.parameters():\n",
    "    param.requires_grad = False\n",
    "\n",
    "# Modify the last fully connected layer to fit your number of classes\n",
    "Vgg16_model.classifier[6] = torch.nn.Linear(Vgg16_model.classifier[6].in_features, classes_count)\n",
    "\n",
    "# Move the model to the device (GPU if available)\n",
    "Vgg16_model.to(device)\n",
    "\n",
    "# Define loss function and optimizer\n",
    "Vgg16_model_criterion = torch.nn.CrossEntropyLoss()\n",
    "Vgg16_model_optimizer = torch.optim.Adam(Vgg16_model.parameters(), lr=0.001)\n"
   ],
   "outputs": [],
   "execution_count": null
  },
  {
   "cell_type": "code",
   "metadata": {},
   "source": [
    "summary(Vgg16_model, input_size=(3, 200, 200))\n"
   ],
   "outputs": [],
   "execution_count": null
  },
  {
   "cell_type": "markdown",
   "metadata": {},
   "source": [
    "### Vgg19\n"
   ]
  },
  {
   "cell_type": "code",
   "metadata": {},
   "source": [
    "Vgg19_model = models.vgg16()\n",
    "\n",
    "# Freeze model parameters\n",
    "for param in Vgg19_model.parameters():\n",
    "    param.requires_grad = False\n",
    "\n",
    "# Modify the last fully connected layer to fit your number of classes\n",
    "Vgg19_model.classifier[6] = torch.nn.Linear(Vgg19_model.classifier[6].in_features, classes_count)\n",
    "\n",
    "# Move the model to the device (GPU if available)\n",
    "Vgg19_model.to(device)\n",
    "\n",
    "# Define loss function and optimizer\n",
    "Vgg19_model_criterion = torch.nn.CrossEntropyLoss()\n",
    "Vgg19_model_optimizer = torch.optim.Adam(Vgg19_model.parameters(), lr=0.001)\n"
   ],
   "outputs": [],
   "execution_count": null
  },
  {
   "cell_type": "code",
   "metadata": {},
   "source": [
    "summary(Vgg19_model, input_size=(3, 200, 200))\n"
   ],
   "outputs": [],
   "execution_count": null
  },
  {
   "cell_type": "markdown",
   "metadata": {},
   "source": [
    "### Custom\n"
   ]
  },
  {
   "cell_type": "code",
   "metadata": {},
   "source": [],
   "outputs": [],
   "execution_count": null
  },
  {
   "cell_type": "code",
   "metadata": {},
   "source": [],
   "outputs": [],
   "execution_count": null
  },
  {
   "cell_type": "markdown",
   "metadata": {},
   "source": [
    "## Train models\n"
   ]
  },
  {
   "cell_type": "code",
   "metadata": {},
   "source": [
    "# train model function\n",
    "def train_model(model, train_loader, criterion, optimizer, device, num_epochs=10):\n",
    "    epochs_losses = []\n",
    "    i = 1\n",
    "    for epoch in range(num_epochs):\n",
    "        model.train()\n",
    "        epoch_loss = 0.0\n",
    "        for inputs, labels in train_loader:\n",
    "            inputs, labels = inputs.to(device), labels.to(device)\n",
    "            optimizer.zero_grad()\n",
    "            outputs = model(inputs)\n",
    "            loss = criterion(outputs, labels)\n",
    "            loss.backward()\n",
    "            optimizer.step()\n",
    "            epoch_loss += loss.item() * inputs.size(0)\n",
    "        epoch_loss /= len(train_loader.dataset)\n",
    "        epochs_losses[i] = epoch_loss\n",
    "        i = i + 1\n",
    "        print(f\"Epoch {epoch+1}/{num_epochs}, Loss: {epoch_loss:.4f}\")\n",
    "    return epochs_losses\n"
   ],
   "outputs": [],
   "execution_count": null
  },
  {
   "cell_type": "markdown",
   "metadata": {},
   "source": [
    "### AlexNet\n"
   ]
  },
  {
   "cell_type": "code",
   "metadata": {},
   "source": [
    "model_path = 'tmp/models/ASL_AlexNet_model_V1.0.0.pth'\n",
    "if not os.path.exists(model_path):\n",
    "    AlexNet_model_losses = train_model(AlexNet_model, train_loader, AlexNet_model_criterion, AlexNet_model_optimizer, device, num_epochs=10)\n",
    "    torch.save(AlexNet_model, model_path)\n"
   ],
   "outputs": [],
   "execution_count": null
  },
  {
   "metadata": {},
   "cell_type": "code",
   "source": "AlexNet_model_losses\n",
   "outputs": [],
   "execution_count": null
  },
  {
   "cell_type": "markdown",
   "metadata": {},
   "source": [
    "### GoogleNet\n"
   ]
  },
  {
   "cell_type": "code",
   "metadata": {},
   "source": [
    "model_path = 'tmp/models/ASL_GoogleNet_model_V1.0.0.pth'\n",
    "if not os.path.exists(model_path):\n",
    "    GoogleNet_model_losses = train_model(GoogleNet_model, train_loader, GoogleNet_model_criterion, GoogleNet_model_optimizer, device, num_epochs=10)\n",
    "    torch.save(GoogleNet_model, model_path)\n"
   ],
   "outputs": [],
   "execution_count": null
  },
  {
   "metadata": {},
   "cell_type": "code",
   "source": "GoogleNet_model_losses\n",
   "outputs": [],
   "execution_count": null
  },
  {
   "cell_type": "markdown",
   "metadata": {},
   "source": [
    "### MobileNet V2\n"
   ]
  },
  {
   "cell_type": "code",
   "metadata": {},
   "source": [
    "# model_path = 'tmp/models/ASL_MobileNetV2_model_V1.0.0.pth'\n",
    "# if not os.path.exists(model_path):\n",
    "#     MobileNetV2_model_losses = train_model(MobileNetV2_model, train_loader, MobileNetV2_model_criterion, MobileNetV2_model_optimizer, device, num_epochs=10)\n",
    "#     torch.save(MobileNetV2_model, model_path)\n"
   ],
   "outputs": [],
   "execution_count": null
  },
  {
   "metadata": {},
   "cell_type": "code",
   "source": "# MobileNetV2_model_losses\n",
   "outputs": [],
   "execution_count": null
  },
  {
   "cell_type": "markdown",
   "metadata": {},
   "source": [
    "### MobileNet V3\n"
   ]
  },
  {
   "cell_type": "code",
   "metadata": {},
   "source": [
    "# model_path = 'tmp/models/ASL_MobileNetV3_model_V1.0.0.pth'\n",
    "# if not os.path.exists(model_path):\n",
    "#     MobileNetV3_model_losses = train_model(MobileNetV3_model, train_loader, MobileNetV3_model_criterion, MobileNetV3_model_optimizer, device, num_epochs=10)\n",
    "#     torch.save(MobileNetV3_model, model_path)\n"
   ],
   "outputs": [],
   "execution_count": null
  },
  {
   "metadata": {},
   "cell_type": "code",
   "source": "# MobileNetV3_model_losses\n",
   "outputs": [],
   "execution_count": null
  },
  {
   "cell_type": "markdown",
   "metadata": {},
   "source": [
    "### ResNet 18\n"
   ]
  },
  {
   "cell_type": "code",
   "metadata": {},
   "source": [
    "model_path = 'tmp/models/ASL_ResNet18_model_V1.0.0.pth'\n",
    "if not os.path.exists(model_path):\n",
    "    ResNet18_model_losses = train_model(ResNet18_model, train_loader, ResNet18_model_criterion, ResNet18_model_optimizer, device, num_epochs=10)\n",
    "    torch.save(ResNet18_model, model_path)\n"
   ],
   "outputs": [],
   "execution_count": null
  },
  {
   "metadata": {},
   "cell_type": "code",
   "source": "ResNet18_model_losses\n",
   "outputs": [],
   "execution_count": null
  },
  {
   "cell_type": "markdown",
   "metadata": {},
   "source": [
    "### ResNet 50\n"
   ]
  },
  {
   "cell_type": "code",
   "metadata": {},
   "source": [
    "model_path = 'tmp/models/ASL_ResNet50_model_V1.0.0.pth'\n",
    "if not os.path.exists(model_path):\n",
    "    ResNet50_model_losses = train_model(ResNet50_model, train_loader, ResNet50_model_criterion, ResNet50_model_optimizer, device, num_epochs=10)\n",
    "    torch.save(ResNet50_model, model_path)\n"
   ],
   "outputs": [],
   "execution_count": null
  },
  {
   "metadata": {},
   "cell_type": "code",
   "source": "ResNet50_model_losses\n",
   "outputs": [],
   "execution_count": null
  },
  {
   "cell_type": "markdown",
   "metadata": {},
   "source": [
    "### Vgg16\n"
   ]
  },
  {
   "cell_type": "code",
   "metadata": {},
   "source": [
    "model_path = 'tmp/models/ASL_Vgg16_model_V1.0.0.pth'\n",
    "if not os.path.exists(model_path):\n",
    "    Vgg16_model_losses = train_model(Vgg16_model, train_loader, Vgg16_model_criterion, Vgg16_model_optimizer, device, num_epochs=10)\n",
    "    torch.save(Vgg16_model, model_path)\n"
   ],
   "outputs": [],
   "execution_count": null
  },
  {
   "metadata": {},
   "cell_type": "code",
   "source": "Vgg16_model_losses\n",
   "outputs": [],
   "execution_count": null
  },
  {
   "cell_type": "markdown",
   "metadata": {},
   "source": [
    "### Vgg19\n"
   ]
  },
  {
   "cell_type": "code",
   "metadata": {},
   "source": [
    "model_path = 'tmp/models/ASL_Vgg19_model_V1.0.0.pth'\n",
    "if not os.path.exists(model_path):\n",
    "    Vgg19_model_losses = train_model(Vgg19_model, train_loader, Vgg19_model_criterion, Vgg19_model_optimizer, device, num_epochs=10)\n",
    "    torch.save(Vgg19_model, model_path)\n"
   ],
   "outputs": [],
   "execution_count": null
  },
  {
   "metadata": {},
   "cell_type": "code",
   "source": "Vgg19_model_losses\n",
   "outputs": [],
   "execution_count": null
  },
  {
   "cell_type": "markdown",
   "metadata": {},
   "source": [
    "### Custom\n"
   ]
  },
  {
   "cell_type": "code",
   "metadata": {},
   "source": [
    "# model_path = 'tmp/models/ASL_Custom_model_V1.0.0.pth'\n",
    "# if not os.path.exists(model_path):\n",
    "#     Custom_model_losses = train_model(Custom_model, train_loader, Custom_model_criterion, Custom_model_optimizer, device, num_epochs=10)\n",
    "#     torch.save(Custom_model, model_path)\n"
   ],
   "outputs": [],
   "execution_count": null
  },
  {
   "metadata": {},
   "cell_type": "code",
   "source": "# Custom_model_losses\n",
   "outputs": [],
   "execution_count": null
  },
  {
   "cell_type": "markdown",
   "metadata": {},
   "source": [
    "## Evaluate\n"
   ]
  },
  {
   "cell_type": "markdown",
   "metadata": {},
   "source": [
    "### AlexNet\n"
   ]
  },
  {
   "cell_type": "markdown",
   "metadata": {},
   "source": [
    "### GoogleNet\n"
   ]
  },
  {
   "cell_type": "markdown",
   "metadata": {},
   "source": [
    "### MobileNet V2\n"
   ]
  },
  {
   "cell_type": "markdown",
   "metadata": {},
   "source": [
    "### MobileNet V3\n"
   ]
  },
  {
   "cell_type": "markdown",
   "metadata": {},
   "source": [
    "### ResNet 18\n"
   ]
  },
  {
   "cell_type": "markdown",
   "metadata": {},
   "source": [
    "### ResNet 50\n"
   ]
  },
  {
   "cell_type": "markdown",
   "metadata": {},
   "source": [
    "### Vgg16\n"
   ]
  },
  {
   "cell_type": "markdown",
   "metadata": {},
   "source": [
    "### Vgg19\n"
   ]
  },
  {
   "cell_type": "markdown",
   "metadata": {},
   "source": [
    "### Custom\n"
   ]
  },
  {
   "cell_type": "markdown",
   "metadata": {},
   "source": [
    "## Test\n"
   ]
  },
  {
   "cell_type": "markdown",
   "metadata": {},
   "source": [
    "### AlexNet\n"
   ]
  },
  {
   "cell_type": "markdown",
   "metadata": {},
   "source": [
    "### GoogleNet\n"
   ]
  },
  {
   "cell_type": "markdown",
   "metadata": {},
   "source": [
    "### MobileNet V2\n"
   ]
  },
  {
   "cell_type": "markdown",
   "metadata": {},
   "source": [
    "### MobileNet V3\n"
   ]
  },
  {
   "cell_type": "markdown",
   "metadata": {},
   "source": [
    "### ResNet 18\n"
   ]
  },
  {
   "cell_type": "markdown",
   "metadata": {},
   "source": [
    "### ResNet 50\n"
   ]
  },
  {
   "cell_type": "markdown",
   "metadata": {},
   "source": [
    "### Vgg16\n"
   ]
  },
  {
   "cell_type": "markdown",
   "metadata": {},
   "source": [
    "### Vgg19\n"
   ]
  },
  {
   "cell_type": "markdown",
   "metadata": {},
   "source": [
    "### Custom\n"
   ]
  }
 ],
 "metadata": {
  "kernelspec": {
   "display_name": "venv",
   "language": "python",
   "name": "python3"
  },
  "language_info": {
   "codemirror_mode": {
    "name": "ipython",
    "version": 3
   },
   "file_extension": ".py",
   "mimetype": "text/x-python",
   "name": "python",
   "nbconvert_exporter": "python",
   "pygments_lexer": "ipython3",
   "version": "3.12.3"
  }
 },
 "nbformat": 4,
 "nbformat_minor": 0
}
