{
 "cells": [
  {
   "metadata": {},
   "cell_type": "markdown",
   "source": "## Imports\n"
  },
  {
   "cell_type": "code",
   "metadata": {
    "ExecuteTime": {
     "end_time": "2024-08-12T10:38:39.583697Z",
     "start_time": "2024-08-12T10:38:36.685844Z"
    }
   },
   "source": [
    "# imports\n",
    "import os\n",
    "import shutil\n",
    "import json\n",
    "import random\n",
    "import kaggle\n",
    "import torch\n",
    "from torchvision import transforms\n",
    "from torchvision import datasets\n",
    "from torchvision import models\n",
    "from torchsummary import summary\n",
    "import matplotlib.pyplot as plt\n",
    "import numpy as np\n",
    "import pandas as pd\n",
    "from PIL import Image\n"
   ],
   "outputs": [],
   "execution_count": 1
  },
  {
   "cell_type": "markdown",
   "metadata": {},
   "source": [
    "## Prepare data"
   ]
  },
  {
   "cell_type": "code",
   "metadata": {
    "ExecuteTime": {
     "end_time": "2024-08-12T10:38:39.587636Z",
     "start_time": "2024-08-12T10:38:39.585264Z"
    }
   },
   "source": [
    "# paths\n",
    "tmp_path = 'tmp'\n",
    "train_dataset_path = f'{tmp_path}/train_dataset'\n",
    "test_dataset_path = f'{tmp_path}/test_dataset'\n"
   ],
   "outputs": [],
   "execution_count": 2
  },
  {
   "cell_type": "code",
   "metadata": {
    "ExecuteTime": {
     "end_time": "2024-08-12T10:38:39.600666Z",
     "start_time": "2024-08-12T10:38:39.588699Z"
    }
   },
   "source": [
    "# download dataset\n",
    "if not os.path.exists(train_dataset_path) or not os.path.exists(test_dataset_path):\n",
    "    kaggle.api.authenticate()\n",
    "    kaggle.api.dataset_download_files('grassknoted/asl-alphabet', path=tmp_path, unzip=True)\n",
    "\n",
    "    shutil.move(f\"{tmp_path}/asl_alphabet_train/asl_alphabet_train\", train_dataset_path)\n",
    "    shutil.move(f\"{tmp_path}/asl_alphabet_test/asl_alphabet_test\", test_dataset_path)\n",
    "\n",
    "    shutil.rmtree(f\"{tmp_path}/asl_alphabet_train\")\n",
    "    shutil.rmtree(f\"{tmp_path}/asl_alphabet_test\")\n"
   ],
   "outputs": [],
   "execution_count": 3
  },
  {
   "cell_type": "markdown",
   "metadata": {},
   "source": [
    "## Configure PyTorch\n"
   ]
  },
  {
   "cell_type": "code",
   "metadata": {
    "ExecuteTime": {
     "end_time": "2024-08-12T10:38:39.637761Z",
     "start_time": "2024-08-12T10:38:39.601638Z"
    }
   },
   "source": [
    "# PyTorch device\n",
    "os.environ['CUDA_LAUNCH_BLOCKING'] = '1'\n",
    "device = torch.device(\"cuda\" if torch.cuda.is_available() else \"cpu\")\n",
    "device\n"
   ],
   "outputs": [
    {
     "data": {
      "text/plain": [
       "device(type='cuda')"
      ]
     },
     "execution_count": 4,
     "metadata": {},
     "output_type": "execute_result"
    }
   ],
   "execution_count": 4
  },
  {
   "cell_type": "markdown",
   "metadata": {},
   "source": [
    "## Prepare data\n"
   ]
  },
  {
   "cell_type": "code",
   "metadata": {
    "ExecuteTime": {
     "end_time": "2024-08-12T10:38:39.643721Z",
     "start_time": "2024-08-12T10:38:39.639568Z"
    }
   },
   "source": [
    "# Define transform\n",
    "transform = transforms.Compose([\n",
    "    transforms.Resize((200, 200)),\n",
    "    transforms.ToTensor(),\n",
    "    transforms.Normalize(mean=[0.485, 0.456, 0.406], std=[0.229, 0.224, 0.225]),\n",
    "])\n",
    "transform\n"
   ],
   "outputs": [
    {
     "data": {
      "text/plain": [
       "Compose(\n",
       "    Resize(size=(200, 200), interpolation=bilinear, max_size=None, antialias=True)\n",
       "    ToTensor()\n",
       "    Normalize(mean=[0.485, 0.456, 0.406], std=[0.229, 0.224, 0.225])\n",
       ")"
      ]
     },
     "execution_count": 5,
     "metadata": {},
     "output_type": "execute_result"
    }
   ],
   "execution_count": 5
  },
  {
   "cell_type": "code",
   "metadata": {
    "ExecuteTime": {
     "end_time": "2024-08-12T10:38:39.940408Z",
     "start_time": "2024-08-12T10:38:39.645217Z"
    }
   },
   "source": [
    "# Load dataset\n",
    "dataset = datasets.ImageFolder(root=train_dataset_path, transform=transform)\n",
    "dataset\n"
   ],
   "outputs": [
    {
     "data": {
      "text/plain": [
       "Dataset ImageFolder\n",
       "    Number of datapoints: 87000\n",
       "    Root location: tmp/train_dataset\n",
       "    StandardTransform\n",
       "Transform: Compose(\n",
       "               Resize(size=(200, 200), interpolation=bilinear, max_size=None, antialias=True)\n",
       "               ToTensor()\n",
       "               Normalize(mean=[0.485, 0.456, 0.406], std=[0.229, 0.224, 0.225])\n",
       "           )"
      ]
     },
     "execution_count": 6,
     "metadata": {},
     "output_type": "execute_result"
    }
   ],
   "execution_count": 6
  },
  {
   "cell_type": "code",
   "metadata": {
    "ExecuteTime": {
     "end_time": "2024-08-12T10:38:39.945167Z",
     "start_time": "2024-08-12T10:38:39.941594Z"
    }
   },
   "source": [
    "# Get classes\n",
    "classes = dataset.classes\n",
    "classes\n"
   ],
   "outputs": [
    {
     "data": {
      "text/plain": [
       "['A',\n",
       " 'B',\n",
       " 'C',\n",
       " 'D',\n",
       " 'E',\n",
       " 'F',\n",
       " 'G',\n",
       " 'H',\n",
       " 'I',\n",
       " 'J',\n",
       " 'K',\n",
       " 'L',\n",
       " 'M',\n",
       " 'N',\n",
       " 'O',\n",
       " 'P',\n",
       " 'Q',\n",
       " 'R',\n",
       " 'S',\n",
       " 'T',\n",
       " 'U',\n",
       " 'V',\n",
       " 'W',\n",
       " 'X',\n",
       " 'Y',\n",
       " 'Z',\n",
       " 'del',\n",
       " 'nothing',\n",
       " 'space']"
      ]
     },
     "execution_count": 7,
     "metadata": {},
     "output_type": "execute_result"
    }
   ],
   "execution_count": 7
  },
  {
   "cell_type": "code",
   "metadata": {
    "ExecuteTime": {
     "end_time": "2024-08-12T10:38:39.959534Z",
     "start_time": "2024-08-12T10:38:39.946258Z"
    }
   },
   "source": [
    "# Count classes\n",
    "classes_count = len(classes)\n",
    "classes_count\n"
   ],
   "outputs": [
    {
     "data": {
      "text/plain": [
       "29"
      ]
     },
     "execution_count": 8,
     "metadata": {},
     "output_type": "execute_result"
    }
   ],
   "execution_count": 8
  },
  {
   "cell_type": "code",
   "metadata": {
    "ExecuteTime": {
     "end_time": "2024-08-12T10:38:39.964007Z",
     "start_time": "2024-08-12T10:38:39.960510Z"
    }
   },
   "source": [
    "# Set train/test split ratio\n",
    "train_ratio = 0.8\n",
    "test_ratio = 0.2\n",
    "{\"train_ratio\": train_ratio, \"test_ratio\": test_ratio}\n"
   ],
   "outputs": [
    {
     "data": {
      "text/plain": [
       "{'train_ratio': 0.8, 'test_ratio': 0.2}"
      ]
     },
     "execution_count": 9,
     "metadata": {},
     "output_type": "execute_result"
    }
   ],
   "execution_count": 9
  },
  {
   "cell_type": "code",
   "metadata": {
    "ExecuteTime": {
     "end_time": "2024-08-12T10:38:39.969649Z",
     "start_time": "2024-08-12T10:38:39.965471Z"
    }
   },
   "source": [
    "# Set train/test sizes\n",
    "train_size = int(train_ratio * len(dataset))\n",
    "test_size = int(test_ratio * len(dataset))\n",
    "{\"train_size\": train_size, \"test_size\": test_size}\n"
   ],
   "outputs": [
    {
     "data": {
      "text/plain": [
       "{'train_size': 69600, 'test_size': 17400}"
      ]
     },
     "execution_count": 10,
     "metadata": {},
     "output_type": "execute_result"
    }
   ],
   "execution_count": 10
  },
  {
   "cell_type": "code",
   "metadata": {
    "ExecuteTime": {
     "end_time": "2024-08-12T10:38:39.978487Z",
     "start_time": "2024-08-12T10:38:39.971211Z"
    }
   },
   "source": [
    "# Split dataset into train and test\n",
    "train_dataset, test_dataset = torch.utils.data.random_split(dataset, [train_size, test_size])\n"
   ],
   "outputs": [],
   "execution_count": 11
  },
  {
   "cell_type": "code",
   "metadata": {
    "ExecuteTime": {
     "end_time": "2024-08-12T10:38:39.983116Z",
     "start_time": "2024-08-12T10:38:39.979634Z"
    }
   },
   "source": [
    "# Count train/test dataset sizes\n",
    "train_dataset_count = len(train_dataset)\n",
    "test_dataset_count = len(test_dataset)\n",
    "{\"train_dataset_count\": train_dataset_count, \"test_dataset_count\": test_dataset_count}\n"
   ],
   "outputs": [
    {
     "data": {
      "text/plain": [
       "{'train_dataset_count': 69600, 'test_dataset_count': 17400}"
      ]
     },
     "execution_count": 12,
     "metadata": {},
     "output_type": "execute_result"
    }
   ],
   "execution_count": 12
  },
  {
   "cell_type": "code",
   "metadata": {
    "ExecuteTime": {
     "end_time": "2024-08-12T10:38:39.986848Z",
     "start_time": "2024-08-12T10:38:39.984189Z"
    }
   },
   "source": [
    "# Create data loaders\n",
    "train_loader = torch.utils.data.DataLoader(train_dataset, batch_size=32, shuffle=True)\n",
    "test_loader = torch.utils.data.DataLoader(test_dataset, batch_size=32, shuffle=True)\n"
   ],
   "outputs": [],
   "execution_count": 13
  },
  {
   "cell_type": "code",
   "metadata": {
    "ExecuteTime": {
     "end_time": "2024-08-12T10:38:39.994777Z",
     "start_time": "2024-08-12T10:38:39.989678Z"
    }
   },
   "source": [
    "# Display random images function\n",
    "def show_random_samples(dataset, classes, num_samples=5):\n",
    "    fig, axs = plt.subplots(1, num_samples, figsize=(15, 15))\n",
    "\n",
    "    for i in range(num_samples):\n",
    "        index = np.random.randint(0, len(dataset) - 1)\n",
    "        image, label = dataset[index]\n",
    "\n",
    "        axs[i].imshow(image.permute(1, 2, 0))\n",
    "        axs[i].set_title(classes[label])\n",
    "        axs[i].axis('off')\n",
    "\n",
    "    plt.show()\n"
   ],
   "outputs": [],
   "execution_count": 14
  },
  {
   "cell_type": "code",
   "metadata": {
    "ExecuteTime": {
     "end_time": "2024-08-12T10:38:40.287749Z",
     "start_time": "2024-08-12T10:38:39.995850Z"
    }
   },
   "source": [
    "# Display random images from train dataset\n",
    "show_random_samples(train_dataset, classes)\n"
   ],
   "outputs": [
    {
     "name": "stderr",
     "output_type": "stream",
     "text": [
      "Clipping input data to the valid range for imshow with RGB data ([0..1] for floats or [0..255] for integers). Got range [-2.117904..2.64].\n",
      "Clipping input data to the valid range for imshow with RGB data ([0..1] for floats or [0..255] for integers). Got range [-2.117904..2.64].\n",
      "Clipping input data to the valid range for imshow with RGB data ([0..1] for floats or [0..255] for integers). Got range [-2.117904..2.64].\n",
      "Clipping input data to the valid range for imshow with RGB data ([0..1] for floats or [0..255] for integers). Got range [-2.117904..2.622571].\n",
      "Clipping input data to the valid range for imshow with RGB data ([0..1] for floats or [0..255] for integers). Got range [-2.117904..2.64].\n"
     ]
    },
    {
     "data": {
      "text/plain": [
       "<Figure size 1500x1500 with 5 Axes>"
      ],
      "image/png": "[encoded data removed]"
     },
     "metadata": {},
     "output_type": "display_data"
    }
   ],
   "execution_count": 15
  },
  {
   "cell_type": "code",
   "metadata": {
    "ExecuteTime": {
     "end_time": "2024-08-12T10:38:40.488705Z",
     "start_time": "2024-08-12T10:38:40.288974Z"
    }
   },
   "source": [
    "# Display random images from test dataset\n",
    "show_random_samples(test_dataset, classes)\n"
   ],
   "outputs": [
    {
     "name": "stderr",
     "output_type": "stream",
     "text": [
      "Clipping input data to the valid range for imshow with RGB data ([0..1] for floats or [0..255] for integers). Got range [-2.117904..2.64].\n",
      "Clipping input data to the valid range for imshow with RGB data ([0..1] for floats or [0..255] for integers). Got range [-2.117904..2.64].\n",
      "Clipping input data to the valid range for imshow with RGB data ([0..1] for floats or [0..255] for integers). Got range [-2.117904..2.64].\n",
      "Clipping input data to the valid range for imshow with RGB data ([0..1] for floats or [0..255] for integers). Got range [-2.117904..2.64].\n",
      "Clipping input data to the valid range for imshow with RGB data ([0..1] for floats or [0..255] for integers). Got range [-2.117904..2.64].\n"
     ]
    },
    {
     "data": {
      "text/plain": [
       "<Figure size 1500x1500 with 5 Axes>"
      ],
      "image/png": "[encoded data removed]"
     },
     "metadata": {},
     "output_type": "display_data"
    }
   ],
   "execution_count": 16
  },
  {
   "cell_type": "markdown",
   "metadata": {},
   "source": [
    "## Prepare models\n"
   ]
  },
  {
   "metadata": {},
   "cell_type": "markdown",
   "source": "### Make models folder"
  },
  {
   "metadata": {
    "ExecuteTime": {
     "end_time": "2024-08-12T10:38:40.492824Z",
     "start_time": "2024-08-12T10:38:40.490292Z"
    }
   },
   "cell_type": "code",
   "source": "os.makedirs('tmp/models', exist_ok=True)\n",
   "outputs": [],
   "execution_count": 17
  },
  {
   "metadata": {},
   "cell_type": "markdown",
   "source": "## Make model losses folder\n"
  },
  {
   "metadata": {
    "ExecuteTime": {
     "end_time": "2024-08-12T10:38:40.505370Z",
     "start_time": "2024-08-12T10:38:40.494697Z"
    }
   },
   "cell_type": "code",
   "source": "os.makedirs('tmp/model_losses', exist_ok=True)\n",
   "outputs": [],
   "execution_count": 18
  },
  {
   "cell_type": "markdown",
   "metadata": {},
   "source": [
    "### AlexNet\n"
   ]
  },
  {
   "cell_type": "code",
   "metadata": {
    "ExecuteTime": {
     "end_time": "2024-08-12T10:38:41.121785Z",
     "start_time": "2024-08-12T10:38:40.506786Z"
    }
   },
   "source": [
    "AlexNet_model = models.alexnet()\n",
    "\n",
    "# Freeze model parameters\n",
    "for param in AlexNet_model.parameters():\n",
    "    param.requires_grad = False\n",
    "\n",
    "# Modify the last fully connected layer to fit your number of classes\n",
    "AlexNet_model.classifier[6] = torch.nn.Linear(AlexNet_model.classifier[6].in_features, classes_count)\n",
    "\n",
    "# Move the model to the device (GPU if available)\n",
    "AlexNet_model.to(device)\n",
    "\n",
    "# Define loss function and optimizer\n",
    "AlexNet_model_criterion = torch.nn.CrossEntropyLoss()\n",
    "AlexNet_model_optimizer = torch.optim.Adam(AlexNet_model.parameters(), lr=0.001)\n"
   ],
   "outputs": [],
   "execution_count": 19
  },
  {
   "cell_type": "code",
   "metadata": {
    "ExecuteTime": {
     "end_time": "2024-08-12T10:38:41.327095Z",
     "start_time": "2024-08-12T10:38:41.123135Z"
    }
   },
   "source": [
    "summary(AlexNet_model, input_size=(3, 200, 200))\n"
   ],
   "outputs": [
    {
     "name": "stdout",
     "output_type": "stream",
     "text": [
      "----------------------------------------------------------------\n",
      "        Layer (type)               Output Shape         Param #\n",
      "================================================================\n",
      "            Conv2d-1           [-1, 64, 49, 49]          23,296\n",
      "              ReLU-2           [-1, 64, 49, 49]               0\n",
      "         MaxPool2d-3           [-1, 64, 24, 24]               0\n",
      "            Conv2d-4          [-1, 192, 24, 24]         307,392\n",
      "              ReLU-5          [-1, 192, 24, 24]               0\n",
      "         MaxPool2d-6          [-1, 192, 11, 11]               0\n",
      "            Conv2d-7          [-1, 384, 11, 11]         663,936\n",
      "              ReLU-8          [-1, 384, 11, 11]               0\n",
      "            Conv2d-9          [-1, 256, 11, 11]         884,992\n",
      "             ReLU-10          [-1, 256, 11, 11]               0\n",
      "           Conv2d-11          [-1, 256, 11, 11]         590,080\n",
      "             ReLU-12          [-1, 256, 11, 11]               0\n",
      "        MaxPool2d-13            [-1, 256, 5, 5]               0\n",
      "AdaptiveAvgPool2d-14            [-1, 256, 6, 6]               0\n",
      "          Dropout-15                 [-1, 9216]               0\n",
      "           Linear-16                 [-1, 4096]      37,752,832\n",
      "             ReLU-17                 [-1, 4096]               0\n",
      "          Dropout-18                 [-1, 4096]               0\n",
      "           Linear-19                 [-1, 4096]      16,781,312\n",
      "             ReLU-20                 [-1, 4096]               0\n",
      "           Linear-21                   [-1, 29]         118,813\n",
      "================================================================\n",
      "Total params: 57,122,653\n",
      "Trainable params: 118,813\n",
      "Non-trainable params: 57,003,840\n",
      "----------------------------------------------------------------\n",
      "Input size (MB): 0.46\n",
      "Forward/backward pass size (MB): 6.49\n",
      "Params size (MB): 217.91\n",
      "Estimated Total Size (MB): 224.85\n",
      "----------------------------------------------------------------\n"
     ]
    }
   ],
   "execution_count": 20
  },
  {
   "cell_type": "markdown",
   "metadata": {},
   "source": [
    "### GoogleNet\n"
   ]
  },
  {
   "cell_type": "code",
   "metadata": {
    "ExecuteTime": {
     "end_time": "2024-08-12T10:38:41.505587Z",
     "start_time": "2024-08-12T10:38:41.328383Z"
    }
   },
   "source": [
    "GoogleNet_model = models.googlenet(models.GoogLeNet_Weights.DEFAULT)\n",
    "\n",
    "# Freeze model parameters\n",
    "for param in GoogleNet_model.parameters():\n",
    "    param.requires_grad = False\n",
    "\n",
    "# Modify the last fully connected layer to fit your number of classes\n",
    "GoogleNet_model.fc = torch.nn.Linear(GoogleNet_model.fc.in_features, classes_count)\n",
    "\n",
    "# Move the model to the device (GPU if available)\n",
    "GoogleNet_model.to(device)\n",
    "\n",
    "# Define loss function and optimizer\n",
    "GoogleNet_model_criterion = torch.nn.CrossEntropyLoss()\n",
    "GoogleNet_model_optimizer = torch.optim.Adam(GoogleNet_model.parameters(), lr=0.001)\n"
   ],
   "outputs": [
    {
     "name": "stderr",
     "output_type": "stream",
     "text": [
      "/home/rbrauner/data/workspace/studies/uekat-master-degree-studies-thesis/model/venv/lib/python3.12/site-packages/torchvision/models/_utils.py:135: UserWarning: Using 'weights' as positional parameter(s) is deprecated since 0.13 and may be removed in the future. Please use keyword parameter(s) instead.\n",
      "  warnings.warn(\n"
     ]
    }
   ],
   "execution_count": 21
  },
  {
   "cell_type": "code",
   "metadata": {
    "ExecuteTime": {
     "end_time": "2024-08-12T10:38:41.605053Z",
     "start_time": "2024-08-12T10:38:41.507110Z"
    }
   },
   "source": [
    "summary(GoogleNet_model, input_size=(3, 200, 200))\n"
   ],
   "outputs": [
    {
     "name": "stdout",
     "output_type": "stream",
     "text": [
      "----------------------------------------------------------------\n",
      "        Layer (type)               Output Shape         Param #\n",
      "================================================================\n",
      "            Conv2d-1         [-1, 64, 100, 100]           9,408\n",
      "       BatchNorm2d-2         [-1, 64, 100, 100]             128\n",
      "       BasicConv2d-3         [-1, 64, 100, 100]               0\n",
      "         MaxPool2d-4           [-1, 64, 50, 50]               0\n",
      "            Conv2d-5           [-1, 64, 50, 50]           4,096\n",
      "       BatchNorm2d-6           [-1, 64, 50, 50]             128\n",
      "       BasicConv2d-7           [-1, 64, 50, 50]               0\n",
      "            Conv2d-8          [-1, 192, 50, 50]         110,592\n",
      "       BatchNorm2d-9          [-1, 192, 50, 50]             384\n",
      "      BasicConv2d-10          [-1, 192, 50, 50]               0\n",
      "        MaxPool2d-11          [-1, 192, 25, 25]               0\n",
      "           Conv2d-12           [-1, 64, 25, 25]          12,288\n",
      "      BatchNorm2d-13           [-1, 64, 25, 25]             128\n",
      "      BasicConv2d-14           [-1, 64, 25, 25]               0\n",
      "           Conv2d-15           [-1, 96, 25, 25]          18,432\n",
      "      BatchNorm2d-16           [-1, 96, 25, 25]             192\n",
      "      BasicConv2d-17           [-1, 96, 25, 25]               0\n",
      "           Conv2d-18          [-1, 128, 25, 25]         110,592\n",
      "      BatchNorm2d-19          [-1, 128, 25, 25]             256\n",
      "      BasicConv2d-20          [-1, 128, 25, 25]               0\n",
      "           Conv2d-21           [-1, 16, 25, 25]           3,072\n",
      "      BatchNorm2d-22           [-1, 16, 25, 25]              32\n",
      "      BasicConv2d-23           [-1, 16, 25, 25]               0\n",
      "           Conv2d-24           [-1, 32, 25, 25]           4,608\n",
      "      BatchNorm2d-25           [-1, 32, 25, 25]              64\n",
      "      BasicConv2d-26           [-1, 32, 25, 25]               0\n",
      "        MaxPool2d-27          [-1, 192, 25, 25]               0\n",
      "           Conv2d-28           [-1, 32, 25, 25]           6,144\n",
      "      BatchNorm2d-29           [-1, 32, 25, 25]              64\n",
      "      BasicConv2d-30           [-1, 32, 25, 25]               0\n",
      "        Inception-31          [-1, 256, 25, 25]               0\n",
      "           Conv2d-32          [-1, 128, 25, 25]          32,768\n",
      "      BatchNorm2d-33          [-1, 128, 25, 25]             256\n",
      "      BasicConv2d-34          [-1, 128, 25, 25]               0\n",
      "           Conv2d-35          [-1, 128, 25, 25]          32,768\n",
      "      BatchNorm2d-36          [-1, 128, 25, 25]             256\n",
      "      BasicConv2d-37          [-1, 128, 25, 25]               0\n",
      "           Conv2d-38          [-1, 192, 25, 25]         221,184\n",
      "      BatchNorm2d-39          [-1, 192, 25, 25]             384\n",
      "      BasicConv2d-40          [-1, 192, 25, 25]               0\n",
      "           Conv2d-41           [-1, 32, 25, 25]           8,192\n",
      "      BatchNorm2d-42           [-1, 32, 25, 25]              64\n",
      "      BasicConv2d-43           [-1, 32, 25, 25]               0\n",
      "           Conv2d-44           [-1, 96, 25, 25]          27,648\n",
      "      BatchNorm2d-45           [-1, 96, 25, 25]             192\n",
      "      BasicConv2d-46           [-1, 96, 25, 25]               0\n",
      "        MaxPool2d-47          [-1, 256, 25, 25]               0\n",
      "           Conv2d-48           [-1, 64, 25, 25]          16,384\n",
      "      BatchNorm2d-49           [-1, 64, 25, 25]             128\n",
      "      BasicConv2d-50           [-1, 64, 25, 25]               0\n",
      "        Inception-51          [-1, 480, 25, 25]               0\n",
      "        MaxPool2d-52          [-1, 480, 12, 12]               0\n",
      "           Conv2d-53          [-1, 192, 12, 12]          92,160\n",
      "      BatchNorm2d-54          [-1, 192, 12, 12]             384\n",
      "      BasicConv2d-55          [-1, 192, 12, 12]               0\n",
      "           Conv2d-56           [-1, 96, 12, 12]          46,080\n",
      "      BatchNorm2d-57           [-1, 96, 12, 12]             192\n",
      "      BasicConv2d-58           [-1, 96, 12, 12]               0\n",
      "           Conv2d-59          [-1, 208, 12, 12]         179,712\n",
      "      BatchNorm2d-60          [-1, 208, 12, 12]             416\n",
      "      BasicConv2d-61          [-1, 208, 12, 12]               0\n",
      "           Conv2d-62           [-1, 16, 12, 12]           7,680\n",
      "      BatchNorm2d-63           [-1, 16, 12, 12]              32\n",
      "      BasicConv2d-64           [-1, 16, 12, 12]               0\n",
      "           Conv2d-65           [-1, 48, 12, 12]           6,912\n",
      "      BatchNorm2d-66           [-1, 48, 12, 12]              96\n",
      "      BasicConv2d-67           [-1, 48, 12, 12]               0\n",
      "        MaxPool2d-68          [-1, 480, 12, 12]               0\n",
      "           Conv2d-69           [-1, 64, 12, 12]          30,720\n",
      "      BatchNorm2d-70           [-1, 64, 12, 12]             128\n",
      "      BasicConv2d-71           [-1, 64, 12, 12]               0\n",
      "        Inception-72          [-1, 512, 12, 12]               0\n",
      "           Conv2d-73          [-1, 160, 12, 12]          81,920\n",
      "      BatchNorm2d-74          [-1, 160, 12, 12]             320\n",
      "      BasicConv2d-75          [-1, 160, 12, 12]               0\n",
      "           Conv2d-76          [-1, 112, 12, 12]          57,344\n",
      "      BatchNorm2d-77          [-1, 112, 12, 12]             224\n",
      "      BasicConv2d-78          [-1, 112, 12, 12]               0\n",
      "           Conv2d-79          [-1, 224, 12, 12]         225,792\n",
      "      BatchNorm2d-80          [-1, 224, 12, 12]             448\n",
      "      BasicConv2d-81          [-1, 224, 12, 12]               0\n",
      "           Conv2d-82           [-1, 24, 12, 12]          12,288\n",
      "      BatchNorm2d-83           [-1, 24, 12, 12]              48\n",
      "      BasicConv2d-84           [-1, 24, 12, 12]               0\n",
      "           Conv2d-85           [-1, 64, 12, 12]          13,824\n",
      "      BatchNorm2d-86           [-1, 64, 12, 12]             128\n",
      "      BasicConv2d-87           [-1, 64, 12, 12]               0\n",
      "        MaxPool2d-88          [-1, 512, 12, 12]               0\n",
      "           Conv2d-89           [-1, 64, 12, 12]          32,768\n",
      "      BatchNorm2d-90           [-1, 64, 12, 12]             128\n",
      "      BasicConv2d-91           [-1, 64, 12, 12]               0\n",
      "        Inception-92          [-1, 512, 12, 12]               0\n",
      "           Conv2d-93          [-1, 128, 12, 12]          65,536\n",
      "      BatchNorm2d-94          [-1, 128, 12, 12]             256\n",
      "      BasicConv2d-95          [-1, 128, 12, 12]               0\n",
      "           Conv2d-96          [-1, 128, 12, 12]          65,536\n",
      "      BatchNorm2d-97          [-1, 128, 12, 12]             256\n",
      "      BasicConv2d-98          [-1, 128, 12, 12]               0\n",
      "           Conv2d-99          [-1, 256, 12, 12]         294,912\n",
      "     BatchNorm2d-100          [-1, 256, 12, 12]             512\n",
      "     BasicConv2d-101          [-1, 256, 12, 12]               0\n",
      "          Conv2d-102           [-1, 24, 12, 12]          12,288\n",
      "     BatchNorm2d-103           [-1, 24, 12, 12]              48\n",
      "     BasicConv2d-104           [-1, 24, 12, 12]               0\n",
      "          Conv2d-105           [-1, 64, 12, 12]          13,824\n",
      "     BatchNorm2d-106           [-1, 64, 12, 12]             128\n",
      "     BasicConv2d-107           [-1, 64, 12, 12]               0\n",
      "       MaxPool2d-108          [-1, 512, 12, 12]               0\n",
      "          Conv2d-109           [-1, 64, 12, 12]          32,768\n",
      "     BatchNorm2d-110           [-1, 64, 12, 12]             128\n",
      "     BasicConv2d-111           [-1, 64, 12, 12]               0\n",
      "       Inception-112          [-1, 512, 12, 12]               0\n",
      "          Conv2d-113          [-1, 112, 12, 12]          57,344\n",
      "     BatchNorm2d-114          [-1, 112, 12, 12]             224\n",
      "     BasicConv2d-115          [-1, 112, 12, 12]               0\n",
      "          Conv2d-116          [-1, 144, 12, 12]          73,728\n",
      "     BatchNorm2d-117          [-1, 144, 12, 12]             288\n",
      "     BasicConv2d-118          [-1, 144, 12, 12]               0\n",
      "          Conv2d-119          [-1, 288, 12, 12]         373,248\n",
      "     BatchNorm2d-120          [-1, 288, 12, 12]             576\n",
      "     BasicConv2d-121          [-1, 288, 12, 12]               0\n",
      "          Conv2d-122           [-1, 32, 12, 12]          16,384\n",
      "     BatchNorm2d-123           [-1, 32, 12, 12]              64\n",
      "     BasicConv2d-124           [-1, 32, 12, 12]               0\n",
      "          Conv2d-125           [-1, 64, 12, 12]          18,432\n",
      "     BatchNorm2d-126           [-1, 64, 12, 12]             128\n",
      "     BasicConv2d-127           [-1, 64, 12, 12]               0\n",
      "       MaxPool2d-128          [-1, 512, 12, 12]               0\n",
      "          Conv2d-129           [-1, 64, 12, 12]          32,768\n",
      "     BatchNorm2d-130           [-1, 64, 12, 12]             128\n",
      "     BasicConv2d-131           [-1, 64, 12, 12]               0\n",
      "       Inception-132          [-1, 528, 12, 12]               0\n",
      "          Conv2d-133          [-1, 256, 12, 12]         135,168\n",
      "     BatchNorm2d-134          [-1, 256, 12, 12]             512\n",
      "     BasicConv2d-135          [-1, 256, 12, 12]               0\n",
      "          Conv2d-136          [-1, 160, 12, 12]          84,480\n",
      "     BatchNorm2d-137          [-1, 160, 12, 12]             320\n",
      "     BasicConv2d-138          [-1, 160, 12, 12]               0\n",
      "          Conv2d-139          [-1, 320, 12, 12]         460,800\n",
      "     BatchNorm2d-140          [-1, 320, 12, 12]             640\n",
      "     BasicConv2d-141          [-1, 320, 12, 12]               0\n",
      "          Conv2d-142           [-1, 32, 12, 12]          16,896\n",
      "     BatchNorm2d-143           [-1, 32, 12, 12]              64\n",
      "     BasicConv2d-144           [-1, 32, 12, 12]               0\n",
      "          Conv2d-145          [-1, 128, 12, 12]          36,864\n",
      "     BatchNorm2d-146          [-1, 128, 12, 12]             256\n",
      "     BasicConv2d-147          [-1, 128, 12, 12]               0\n",
      "       MaxPool2d-148          [-1, 528, 12, 12]               0\n",
      "          Conv2d-149          [-1, 128, 12, 12]          67,584\n",
      "     BatchNorm2d-150          [-1, 128, 12, 12]             256\n",
      "     BasicConv2d-151          [-1, 128, 12, 12]               0\n",
      "       Inception-152          [-1, 832, 12, 12]               0\n",
      "       MaxPool2d-153            [-1, 832, 6, 6]               0\n",
      "          Conv2d-154            [-1, 256, 6, 6]         212,992\n",
      "     BatchNorm2d-155            [-1, 256, 6, 6]             512\n",
      "     BasicConv2d-156            [-1, 256, 6, 6]               0\n",
      "          Conv2d-157            [-1, 160, 6, 6]         133,120\n",
      "     BatchNorm2d-158            [-1, 160, 6, 6]             320\n",
      "     BasicConv2d-159            [-1, 160, 6, 6]               0\n",
      "          Conv2d-160            [-1, 320, 6, 6]         460,800\n",
      "     BatchNorm2d-161            [-1, 320, 6, 6]             640\n",
      "     BasicConv2d-162            [-1, 320, 6, 6]               0\n",
      "          Conv2d-163             [-1, 32, 6, 6]          26,624\n",
      "     BatchNorm2d-164             [-1, 32, 6, 6]              64\n",
      "     BasicConv2d-165             [-1, 32, 6, 6]               0\n",
      "          Conv2d-166            [-1, 128, 6, 6]          36,864\n",
      "     BatchNorm2d-167            [-1, 128, 6, 6]             256\n",
      "     BasicConv2d-168            [-1, 128, 6, 6]               0\n",
      "       MaxPool2d-169            [-1, 832, 6, 6]               0\n",
      "          Conv2d-170            [-1, 128, 6, 6]         106,496\n",
      "     BatchNorm2d-171            [-1, 128, 6, 6]             256\n",
      "     BasicConv2d-172            [-1, 128, 6, 6]               0\n",
      "       Inception-173            [-1, 832, 6, 6]               0\n",
      "          Conv2d-174            [-1, 384, 6, 6]         319,488\n",
      "     BatchNorm2d-175            [-1, 384, 6, 6]             768\n",
      "     BasicConv2d-176            [-1, 384, 6, 6]               0\n",
      "          Conv2d-177            [-1, 192, 6, 6]         159,744\n",
      "     BatchNorm2d-178            [-1, 192, 6, 6]             384\n",
      "     BasicConv2d-179            [-1, 192, 6, 6]               0\n",
      "          Conv2d-180            [-1, 384, 6, 6]         663,552\n",
      "     BatchNorm2d-181            [-1, 384, 6, 6]             768\n",
      "     BasicConv2d-182            [-1, 384, 6, 6]               0\n",
      "          Conv2d-183             [-1, 48, 6, 6]          39,936\n",
      "     BatchNorm2d-184             [-1, 48, 6, 6]              96\n",
      "     BasicConv2d-185             [-1, 48, 6, 6]               0\n",
      "          Conv2d-186            [-1, 128, 6, 6]          55,296\n",
      "     BatchNorm2d-187            [-1, 128, 6, 6]             256\n",
      "     BasicConv2d-188            [-1, 128, 6, 6]               0\n",
      "       MaxPool2d-189            [-1, 832, 6, 6]               0\n",
      "          Conv2d-190            [-1, 128, 6, 6]         106,496\n",
      "     BatchNorm2d-191            [-1, 128, 6, 6]             256\n",
      "     BasicConv2d-192            [-1, 128, 6, 6]               0\n",
      "       Inception-193           [-1, 1024, 6, 6]               0\n",
      "AdaptiveAvgPool2d-194           [-1, 1024, 1, 1]               0\n",
      "         Dropout-195                 [-1, 1024]               0\n",
      "          Linear-196                   [-1, 29]          29,725\n",
      "================================================================\n",
      "Total params: 5,629,629\n",
      "Trainable params: 29,725\n",
      "Non-trainable params: 5,599,904\n",
      "----------------------------------------------------------------\n",
      "Input size (MB): 0.46\n",
      "Forward/backward pass size (MB): 73.17\n",
      "Params size (MB): 21.48\n",
      "Estimated Total Size (MB): 95.11\n",
      "----------------------------------------------------------------\n"
     ]
    }
   ],
   "execution_count": 22
  },
  {
   "cell_type": "markdown",
   "metadata": {},
   "source": [
    "### MobileNet V2\n"
   ]
  },
  {
   "cell_type": "code",
   "metadata": {
    "ExecuteTime": {
     "end_time": "2024-08-12T10:38:41.671422Z",
     "start_time": "2024-08-12T10:38:41.606605Z"
    }
   },
   "source": [
    "MobileNetV2_model = models.MobileNetV2()\n",
    "\n",
    "# Freeze model parameters\n",
    "for param in MobileNetV2_model.parameters():\n",
    "    param.requires_grad = False\n",
    "\n",
    "# Modify the last fully connected layer to fit your number of classes\n",
    "MobileNetV2_model.classifier[1] = torch.nn.Linear(MobileNetV2_model.classifier[1].in_features, classes_count)\n",
    "\n",
    "# Move the model to the device (GPU if available)\n",
    "MobileNetV2_model.to(device)\n",
    "\n",
    "# Define loss function and optimizer\n",
    "MobileNetV2_model_criterion = torch.nn.CrossEntropyLoss()\n",
    "MobileNetV2_model_optimizer = torch.optim.Adam(MobileNetV2_model.parameters(), lr=0.001)\n"
   ],
   "outputs": [],
   "execution_count": 23
  },
  {
   "cell_type": "code",
   "metadata": {
    "ExecuteTime": {
     "end_time": "2024-08-12T10:38:41.722360Z",
     "start_time": "2024-08-12T10:38:41.672610Z"
    }
   },
   "source": "summary(MobileNetV2_model, input_size=(3, 200, 200))\n",
   "outputs": [
    {
     "name": "stdout",
     "output_type": "stream",
     "text": [
      "----------------------------------------------------------------\n",
      "        Layer (type)               Output Shape         Param #\n",
      "================================================================\n",
      "            Conv2d-1         [-1, 32, 100, 100]             864\n",
      "       BatchNorm2d-2         [-1, 32, 100, 100]              64\n",
      "             ReLU6-3         [-1, 32, 100, 100]               0\n",
      "            Conv2d-4         [-1, 32, 100, 100]             288\n",
      "       BatchNorm2d-5         [-1, 32, 100, 100]              64\n",
      "             ReLU6-6         [-1, 32, 100, 100]               0\n",
      "            Conv2d-7         [-1, 16, 100, 100]             512\n",
      "       BatchNorm2d-8         [-1, 16, 100, 100]              32\n",
      "  InvertedResidual-9         [-1, 16, 100, 100]               0\n",
      "           Conv2d-10         [-1, 96, 100, 100]           1,536\n",
      "      BatchNorm2d-11         [-1, 96, 100, 100]             192\n",
      "            ReLU6-12         [-1, 96, 100, 100]               0\n",
      "           Conv2d-13           [-1, 96, 50, 50]             864\n",
      "      BatchNorm2d-14           [-1, 96, 50, 50]             192\n",
      "            ReLU6-15           [-1, 96, 50, 50]               0\n",
      "           Conv2d-16           [-1, 24, 50, 50]           2,304\n",
      "      BatchNorm2d-17           [-1, 24, 50, 50]              48\n",
      " InvertedResidual-18           [-1, 24, 50, 50]               0\n",
      "           Conv2d-19          [-1, 144, 50, 50]           3,456\n",
      "      BatchNorm2d-20          [-1, 144, 50, 50]             288\n",
      "            ReLU6-21          [-1, 144, 50, 50]               0\n",
      "           Conv2d-22          [-1, 144, 50, 50]           1,296\n",
      "      BatchNorm2d-23          [-1, 144, 50, 50]             288\n",
      "            ReLU6-24          [-1, 144, 50, 50]               0\n",
      "           Conv2d-25           [-1, 24, 50, 50]           3,456\n",
      "      BatchNorm2d-26           [-1, 24, 50, 50]              48\n",
      " InvertedResidual-27           [-1, 24, 50, 50]               0\n",
      "           Conv2d-28          [-1, 144, 50, 50]           3,456\n",
      "      BatchNorm2d-29          [-1, 144, 50, 50]             288\n",
      "            ReLU6-30          [-1, 144, 50, 50]               0\n",
      "           Conv2d-31          [-1, 144, 25, 25]           1,296\n",
      "      BatchNorm2d-32          [-1, 144, 25, 25]             288\n",
      "            ReLU6-33          [-1, 144, 25, 25]               0\n",
      "           Conv2d-34           [-1, 32, 25, 25]           4,608\n",
      "      BatchNorm2d-35           [-1, 32, 25, 25]              64\n",
      " InvertedResidual-36           [-1, 32, 25, 25]               0\n",
      "           Conv2d-37          [-1, 192, 25, 25]           6,144\n",
      "      BatchNorm2d-38          [-1, 192, 25, 25]             384\n",
      "            ReLU6-39          [-1, 192, 25, 25]               0\n",
      "           Conv2d-40          [-1, 192, 25, 25]           1,728\n",
      "      BatchNorm2d-41          [-1, 192, 25, 25]             384\n",
      "            ReLU6-42          [-1, 192, 25, 25]               0\n",
      "           Conv2d-43           [-1, 32, 25, 25]           6,144\n",
      "      BatchNorm2d-44           [-1, 32, 25, 25]              64\n",
      " InvertedResidual-45           [-1, 32, 25, 25]               0\n",
      "           Conv2d-46          [-1, 192, 25, 25]           6,144\n",
      "      BatchNorm2d-47          [-1, 192, 25, 25]             384\n",
      "            ReLU6-48          [-1, 192, 25, 25]               0\n",
      "           Conv2d-49          [-1, 192, 25, 25]           1,728\n",
      "      BatchNorm2d-50          [-1, 192, 25, 25]             384\n",
      "            ReLU6-51          [-1, 192, 25, 25]               0\n",
      "           Conv2d-52           [-1, 32, 25, 25]           6,144\n",
      "      BatchNorm2d-53           [-1, 32, 25, 25]              64\n",
      " InvertedResidual-54           [-1, 32, 25, 25]               0\n",
      "           Conv2d-55          [-1, 192, 25, 25]           6,144\n",
      "      BatchNorm2d-56          [-1, 192, 25, 25]             384\n",
      "            ReLU6-57          [-1, 192, 25, 25]               0\n",
      "           Conv2d-58          [-1, 192, 13, 13]           1,728\n",
      "      BatchNorm2d-59          [-1, 192, 13, 13]             384\n",
      "            ReLU6-60          [-1, 192, 13, 13]               0\n",
      "           Conv2d-61           [-1, 64, 13, 13]          12,288\n",
      "      BatchNorm2d-62           [-1, 64, 13, 13]             128\n",
      " InvertedResidual-63           [-1, 64, 13, 13]               0\n",
      "           Conv2d-64          [-1, 384, 13, 13]          24,576\n",
      "      BatchNorm2d-65          [-1, 384, 13, 13]             768\n",
      "            ReLU6-66          [-1, 384, 13, 13]               0\n",
      "           Conv2d-67          [-1, 384, 13, 13]           3,456\n",
      "      BatchNorm2d-68          [-1, 384, 13, 13]             768\n",
      "            ReLU6-69          [-1, 384, 13, 13]               0\n",
      "           Conv2d-70           [-1, 64, 13, 13]          24,576\n",
      "      BatchNorm2d-71           [-1, 64, 13, 13]             128\n",
      " InvertedResidual-72           [-1, 64, 13, 13]               0\n",
      "           Conv2d-73          [-1, 384, 13, 13]          24,576\n",
      "      BatchNorm2d-74          [-1, 384, 13, 13]             768\n",
      "            ReLU6-75          [-1, 384, 13, 13]               0\n",
      "           Conv2d-76          [-1, 384, 13, 13]           3,456\n",
      "      BatchNorm2d-77          [-1, 384, 13, 13]             768\n",
      "            ReLU6-78          [-1, 384, 13, 13]               0\n",
      "           Conv2d-79           [-1, 64, 13, 13]          24,576\n",
      "      BatchNorm2d-80           [-1, 64, 13, 13]             128\n",
      " InvertedResidual-81           [-1, 64, 13, 13]               0\n",
      "           Conv2d-82          [-1, 384, 13, 13]          24,576\n",
      "      BatchNorm2d-83          [-1, 384, 13, 13]             768\n",
      "            ReLU6-84          [-1, 384, 13, 13]               0\n",
      "           Conv2d-85          [-1, 384, 13, 13]           3,456\n",
      "      BatchNorm2d-86          [-1, 384, 13, 13]             768\n",
      "            ReLU6-87          [-1, 384, 13, 13]               0\n",
      "           Conv2d-88           [-1, 64, 13, 13]          24,576\n",
      "      BatchNorm2d-89           [-1, 64, 13, 13]             128\n",
      " InvertedResidual-90           [-1, 64, 13, 13]               0\n",
      "           Conv2d-91          [-1, 384, 13, 13]          24,576\n",
      "      BatchNorm2d-92          [-1, 384, 13, 13]             768\n",
      "            ReLU6-93          [-1, 384, 13, 13]               0\n",
      "           Conv2d-94          [-1, 384, 13, 13]           3,456\n",
      "      BatchNorm2d-95          [-1, 384, 13, 13]             768\n",
      "            ReLU6-96          [-1, 384, 13, 13]               0\n",
      "           Conv2d-97           [-1, 96, 13, 13]          36,864\n",
      "      BatchNorm2d-98           [-1, 96, 13, 13]             192\n",
      " InvertedResidual-99           [-1, 96, 13, 13]               0\n",
      "          Conv2d-100          [-1, 576, 13, 13]          55,296\n",
      "     BatchNorm2d-101          [-1, 576, 13, 13]           1,152\n",
      "           ReLU6-102          [-1, 576, 13, 13]               0\n",
      "          Conv2d-103          [-1, 576, 13, 13]           5,184\n",
      "     BatchNorm2d-104          [-1, 576, 13, 13]           1,152\n",
      "           ReLU6-105          [-1, 576, 13, 13]               0\n",
      "          Conv2d-106           [-1, 96, 13, 13]          55,296\n",
      "     BatchNorm2d-107           [-1, 96, 13, 13]             192\n",
      "InvertedResidual-108           [-1, 96, 13, 13]               0\n",
      "          Conv2d-109          [-1, 576, 13, 13]          55,296\n",
      "     BatchNorm2d-110          [-1, 576, 13, 13]           1,152\n",
      "           ReLU6-111          [-1, 576, 13, 13]               0\n",
      "          Conv2d-112          [-1, 576, 13, 13]           5,184\n",
      "     BatchNorm2d-113          [-1, 576, 13, 13]           1,152\n",
      "           ReLU6-114          [-1, 576, 13, 13]               0\n",
      "          Conv2d-115           [-1, 96, 13, 13]          55,296\n",
      "     BatchNorm2d-116           [-1, 96, 13, 13]             192\n",
      "InvertedResidual-117           [-1, 96, 13, 13]               0\n",
      "          Conv2d-118          [-1, 576, 13, 13]          55,296\n",
      "     BatchNorm2d-119          [-1, 576, 13, 13]           1,152\n",
      "           ReLU6-120          [-1, 576, 13, 13]               0\n",
      "          Conv2d-121            [-1, 576, 7, 7]           5,184\n",
      "     BatchNorm2d-122            [-1, 576, 7, 7]           1,152\n",
      "           ReLU6-123            [-1, 576, 7, 7]               0\n",
      "          Conv2d-124            [-1, 160, 7, 7]          92,160\n",
      "     BatchNorm2d-125            [-1, 160, 7, 7]             320\n",
      "InvertedResidual-126            [-1, 160, 7, 7]               0\n",
      "          Conv2d-127            [-1, 960, 7, 7]         153,600\n",
      "     BatchNorm2d-128            [-1, 960, 7, 7]           1,920\n",
      "           ReLU6-129            [-1, 960, 7, 7]               0\n",
      "          Conv2d-130            [-1, 960, 7, 7]           8,640\n",
      "     BatchNorm2d-131            [-1, 960, 7, 7]           1,920\n",
      "           ReLU6-132            [-1, 960, 7, 7]               0\n",
      "          Conv2d-133            [-1, 160, 7, 7]         153,600\n",
      "     BatchNorm2d-134            [-1, 160, 7, 7]             320\n",
      "InvertedResidual-135            [-1, 160, 7, 7]               0\n",
      "          Conv2d-136            [-1, 960, 7, 7]         153,600\n",
      "     BatchNorm2d-137            [-1, 960, 7, 7]           1,920\n",
      "           ReLU6-138            [-1, 960, 7, 7]               0\n",
      "          Conv2d-139            [-1, 960, 7, 7]           8,640\n",
      "     BatchNorm2d-140            [-1, 960, 7, 7]           1,920\n",
      "           ReLU6-141            [-1, 960, 7, 7]               0\n",
      "          Conv2d-142            [-1, 160, 7, 7]         153,600\n",
      "     BatchNorm2d-143            [-1, 160, 7, 7]             320\n",
      "InvertedResidual-144            [-1, 160, 7, 7]               0\n",
      "          Conv2d-145            [-1, 960, 7, 7]         153,600\n",
      "     BatchNorm2d-146            [-1, 960, 7, 7]           1,920\n",
      "           ReLU6-147            [-1, 960, 7, 7]               0\n",
      "          Conv2d-148            [-1, 960, 7, 7]           8,640\n",
      "     BatchNorm2d-149            [-1, 960, 7, 7]           1,920\n",
      "           ReLU6-150            [-1, 960, 7, 7]               0\n",
      "          Conv2d-151            [-1, 320, 7, 7]         307,200\n",
      "     BatchNorm2d-152            [-1, 320, 7, 7]             640\n",
      "InvertedResidual-153            [-1, 320, 7, 7]               0\n",
      "          Conv2d-154           [-1, 1280, 7, 7]         409,600\n",
      "     BatchNorm2d-155           [-1, 1280, 7, 7]           2,560\n",
      "           ReLU6-156           [-1, 1280, 7, 7]               0\n",
      "         Dropout-157                 [-1, 1280]               0\n",
      "          Linear-158                   [-1, 29]          37,149\n",
      "================================================================\n",
      "Total params: 2,261,021\n",
      "Trainable params: 37,149\n",
      "Non-trainable params: 2,223,872\n",
      "----------------------------------------------------------------\n",
      "Input size (MB): 0.46\n",
      "Forward/backward pass size (MB): 125.73\n",
      "Params size (MB): 8.63\n",
      "Estimated Total Size (MB): 134.81\n",
      "----------------------------------------------------------------\n"
     ]
    }
   ],
   "execution_count": 24
  },
  {
   "cell_type": "markdown",
   "metadata": {},
   "source": [
    "### MobileNet V3\n"
   ]
  },
  {
   "cell_type": "code",
   "metadata": {
    "ExecuteTime": {
     "end_time": "2024-08-12T10:38:41.919778Z",
     "start_time": "2024-08-12T10:38:41.723755Z"
    }
   },
   "source": [
    "MobileNetV3_model = models.mobilenet_v3_large()\n",
    "\n",
    "# Freeze model parameters\n",
    "for param in MobileNetV3_model.parameters():\n",
    "    param.requires_grad = False\n",
    "\n",
    "# Modify the last fully connected layer to fit your number of classes\n",
    "MobileNetV3_model.classifier[3] = torch.nn.Linear(MobileNetV3_model.classifier[3].in_features, classes_count)\n",
    "\n",
    "# Move the model to the device (GPU if available)\n",
    "MobileNetV3_model.to(device)\n",
    "\n",
    "# Define loss function and optimizer\n",
    "MobileNetV3_model_criterion = torch.nn.CrossEntropyLoss()\n",
    "MobileNetV3_model_optimizer = torch.optim.Adam(MobileNetV3_model.parameters(), lr=0.001)\n"
   ],
   "outputs": [],
   "execution_count": 25
  },
  {
   "cell_type": "code",
   "metadata": {
    "ExecuteTime": {
     "end_time": "2024-08-12T10:38:41.998830Z",
     "start_time": "2024-08-12T10:38:41.921658Z"
    }
   },
   "source": "summary(MobileNetV3_model, input_size=(3, 200, 200))\n",
   "outputs": [
    {
     "name": "stdout",
     "output_type": "stream",
     "text": [
      "----------------------------------------------------------------\n",
      "        Layer (type)               Output Shape         Param #\n",
      "================================================================\n",
      "            Conv2d-1         [-1, 16, 100, 100]             432\n",
      "       BatchNorm2d-2         [-1, 16, 100, 100]              32\n",
      "         Hardswish-3         [-1, 16, 100, 100]               0\n",
      "            Conv2d-4         [-1, 16, 100, 100]             144\n",
      "       BatchNorm2d-5         [-1, 16, 100, 100]              32\n",
      "              ReLU-6         [-1, 16, 100, 100]               0\n",
      "            Conv2d-7         [-1, 16, 100, 100]             256\n",
      "       BatchNorm2d-8         [-1, 16, 100, 100]              32\n",
      "  InvertedResidual-9         [-1, 16, 100, 100]               0\n",
      "           Conv2d-10         [-1, 64, 100, 100]           1,024\n",
      "      BatchNorm2d-11         [-1, 64, 100, 100]             128\n",
      "             ReLU-12         [-1, 64, 100, 100]               0\n",
      "           Conv2d-13           [-1, 64, 50, 50]             576\n",
      "      BatchNorm2d-14           [-1, 64, 50, 50]             128\n",
      "             ReLU-15           [-1, 64, 50, 50]               0\n",
      "           Conv2d-16           [-1, 24, 50, 50]           1,536\n",
      "      BatchNorm2d-17           [-1, 24, 50, 50]              48\n",
      " InvertedResidual-18           [-1, 24, 50, 50]               0\n",
      "           Conv2d-19           [-1, 72, 50, 50]           1,728\n",
      "      BatchNorm2d-20           [-1, 72, 50, 50]             144\n",
      "             ReLU-21           [-1, 72, 50, 50]               0\n",
      "           Conv2d-22           [-1, 72, 50, 50]             648\n",
      "      BatchNorm2d-23           [-1, 72, 50, 50]             144\n",
      "             ReLU-24           [-1, 72, 50, 50]               0\n",
      "           Conv2d-25           [-1, 24, 50, 50]           1,728\n",
      "      BatchNorm2d-26           [-1, 24, 50, 50]              48\n",
      " InvertedResidual-27           [-1, 24, 50, 50]               0\n",
      "           Conv2d-28           [-1, 72, 50, 50]           1,728\n",
      "      BatchNorm2d-29           [-1, 72, 50, 50]             144\n",
      "             ReLU-30           [-1, 72, 50, 50]               0\n",
      "           Conv2d-31           [-1, 72, 25, 25]           1,800\n",
      "      BatchNorm2d-32           [-1, 72, 25, 25]             144\n",
      "             ReLU-33           [-1, 72, 25, 25]               0\n",
      "AdaptiveAvgPool2d-34             [-1, 72, 1, 1]               0\n",
      "           Conv2d-35             [-1, 24, 1, 1]           1,752\n",
      "             ReLU-36             [-1, 24, 1, 1]               0\n",
      "           Conv2d-37             [-1, 72, 1, 1]           1,800\n",
      "      Hardsigmoid-38             [-1, 72, 1, 1]               0\n",
      "SqueezeExcitation-39           [-1, 72, 25, 25]               0\n",
      "           Conv2d-40           [-1, 40, 25, 25]           2,880\n",
      "      BatchNorm2d-41           [-1, 40, 25, 25]              80\n",
      " InvertedResidual-42           [-1, 40, 25, 25]               0\n",
      "           Conv2d-43          [-1, 120, 25, 25]           4,800\n",
      "      BatchNorm2d-44          [-1, 120, 25, 25]             240\n",
      "             ReLU-45          [-1, 120, 25, 25]               0\n",
      "           Conv2d-46          [-1, 120, 25, 25]           3,000\n",
      "      BatchNorm2d-47          [-1, 120, 25, 25]             240\n",
      "             ReLU-48          [-1, 120, 25, 25]               0\n",
      "AdaptiveAvgPool2d-49            [-1, 120, 1, 1]               0\n",
      "           Conv2d-50             [-1, 32, 1, 1]           3,872\n",
      "             ReLU-51             [-1, 32, 1, 1]               0\n",
      "           Conv2d-52            [-1, 120, 1, 1]           3,960\n",
      "      Hardsigmoid-53            [-1, 120, 1, 1]               0\n",
      "SqueezeExcitation-54          [-1, 120, 25, 25]               0\n",
      "           Conv2d-55           [-1, 40, 25, 25]           4,800\n",
      "      BatchNorm2d-56           [-1, 40, 25, 25]              80\n",
      " InvertedResidual-57           [-1, 40, 25, 25]               0\n",
      "           Conv2d-58          [-1, 120, 25, 25]           4,800\n",
      "      BatchNorm2d-59          [-1, 120, 25, 25]             240\n",
      "             ReLU-60          [-1, 120, 25, 25]               0\n",
      "           Conv2d-61          [-1, 120, 25, 25]           3,000\n",
      "      BatchNorm2d-62          [-1, 120, 25, 25]             240\n",
      "             ReLU-63          [-1, 120, 25, 25]               0\n",
      "AdaptiveAvgPool2d-64            [-1, 120, 1, 1]               0\n",
      "           Conv2d-65             [-1, 32, 1, 1]           3,872\n",
      "             ReLU-66             [-1, 32, 1, 1]               0\n",
      "           Conv2d-67            [-1, 120, 1, 1]           3,960\n",
      "      Hardsigmoid-68            [-1, 120, 1, 1]               0\n",
      "SqueezeExcitation-69          [-1, 120, 25, 25]               0\n",
      "           Conv2d-70           [-1, 40, 25, 25]           4,800\n",
      "      BatchNorm2d-71           [-1, 40, 25, 25]              80\n",
      " InvertedResidual-72           [-1, 40, 25, 25]               0\n",
      "           Conv2d-73          [-1, 240, 25, 25]           9,600\n",
      "      BatchNorm2d-74          [-1, 240, 25, 25]             480\n",
      "        Hardswish-75          [-1, 240, 25, 25]               0\n",
      "           Conv2d-76          [-1, 240, 13, 13]           2,160\n",
      "      BatchNorm2d-77          [-1, 240, 13, 13]             480\n",
      "        Hardswish-78          [-1, 240, 13, 13]               0\n",
      "           Conv2d-79           [-1, 80, 13, 13]          19,200\n",
      "      BatchNorm2d-80           [-1, 80, 13, 13]             160\n",
      " InvertedResidual-81           [-1, 80, 13, 13]               0\n",
      "           Conv2d-82          [-1, 200, 13, 13]          16,000\n",
      "      BatchNorm2d-83          [-1, 200, 13, 13]             400\n",
      "        Hardswish-84          [-1, 200, 13, 13]               0\n",
      "           Conv2d-85          [-1, 200, 13, 13]           1,800\n",
      "      BatchNorm2d-86          [-1, 200, 13, 13]             400\n",
      "        Hardswish-87          [-1, 200, 13, 13]               0\n",
      "           Conv2d-88           [-1, 80, 13, 13]          16,000\n",
      "      BatchNorm2d-89           [-1, 80, 13, 13]             160\n",
      " InvertedResidual-90           [-1, 80, 13, 13]               0\n",
      "           Conv2d-91          [-1, 184, 13, 13]          14,720\n",
      "      BatchNorm2d-92          [-1, 184, 13, 13]             368\n",
      "        Hardswish-93          [-1, 184, 13, 13]               0\n",
      "           Conv2d-94          [-1, 184, 13, 13]           1,656\n",
      "      BatchNorm2d-95          [-1, 184, 13, 13]             368\n",
      "        Hardswish-96          [-1, 184, 13, 13]               0\n",
      "           Conv2d-97           [-1, 80, 13, 13]          14,720\n",
      "      BatchNorm2d-98           [-1, 80, 13, 13]             160\n",
      " InvertedResidual-99           [-1, 80, 13, 13]               0\n",
      "          Conv2d-100          [-1, 184, 13, 13]          14,720\n",
      "     BatchNorm2d-101          [-1, 184, 13, 13]             368\n",
      "       Hardswish-102          [-1, 184, 13, 13]               0\n",
      "          Conv2d-103          [-1, 184, 13, 13]           1,656\n",
      "     BatchNorm2d-104          [-1, 184, 13, 13]             368\n",
      "       Hardswish-105          [-1, 184, 13, 13]               0\n",
      "          Conv2d-106           [-1, 80, 13, 13]          14,720\n",
      "     BatchNorm2d-107           [-1, 80, 13, 13]             160\n",
      "InvertedResidual-108           [-1, 80, 13, 13]               0\n",
      "          Conv2d-109          [-1, 480, 13, 13]          38,400\n",
      "     BatchNorm2d-110          [-1, 480, 13, 13]             960\n",
      "       Hardswish-111          [-1, 480, 13, 13]               0\n",
      "          Conv2d-112          [-1, 480, 13, 13]           4,320\n",
      "     BatchNorm2d-113          [-1, 480, 13, 13]             960\n",
      "       Hardswish-114          [-1, 480, 13, 13]               0\n",
      "AdaptiveAvgPool2d-115            [-1, 480, 1, 1]               0\n",
      "          Conv2d-116            [-1, 120, 1, 1]          57,720\n",
      "            ReLU-117            [-1, 120, 1, 1]               0\n",
      "          Conv2d-118            [-1, 480, 1, 1]          58,080\n",
      "     Hardsigmoid-119            [-1, 480, 1, 1]               0\n",
      "SqueezeExcitation-120          [-1, 480, 13, 13]               0\n",
      "          Conv2d-121          [-1, 112, 13, 13]          53,760\n",
      "     BatchNorm2d-122          [-1, 112, 13, 13]             224\n",
      "InvertedResidual-123          [-1, 112, 13, 13]               0\n",
      "          Conv2d-124          [-1, 672, 13, 13]          75,264\n",
      "     BatchNorm2d-125          [-1, 672, 13, 13]           1,344\n",
      "       Hardswish-126          [-1, 672, 13, 13]               0\n",
      "          Conv2d-127          [-1, 672, 13, 13]           6,048\n",
      "     BatchNorm2d-128          [-1, 672, 13, 13]           1,344\n",
      "       Hardswish-129          [-1, 672, 13, 13]               0\n",
      "AdaptiveAvgPool2d-130            [-1, 672, 1, 1]               0\n",
      "          Conv2d-131            [-1, 168, 1, 1]         113,064\n",
      "            ReLU-132            [-1, 168, 1, 1]               0\n",
      "          Conv2d-133            [-1, 672, 1, 1]         113,568\n",
      "     Hardsigmoid-134            [-1, 672, 1, 1]               0\n",
      "SqueezeExcitation-135          [-1, 672, 13, 13]               0\n",
      "          Conv2d-136          [-1, 112, 13, 13]          75,264\n",
      "     BatchNorm2d-137          [-1, 112, 13, 13]             224\n",
      "InvertedResidual-138          [-1, 112, 13, 13]               0\n",
      "          Conv2d-139          [-1, 672, 13, 13]          75,264\n",
      "     BatchNorm2d-140          [-1, 672, 13, 13]           1,344\n",
      "       Hardswish-141          [-1, 672, 13, 13]               0\n",
      "          Conv2d-142            [-1, 672, 7, 7]          16,800\n",
      "     BatchNorm2d-143            [-1, 672, 7, 7]           1,344\n",
      "       Hardswish-144            [-1, 672, 7, 7]               0\n",
      "AdaptiveAvgPool2d-145            [-1, 672, 1, 1]               0\n",
      "          Conv2d-146            [-1, 168, 1, 1]         113,064\n",
      "            ReLU-147            [-1, 168, 1, 1]               0\n",
      "          Conv2d-148            [-1, 672, 1, 1]         113,568\n",
      "     Hardsigmoid-149            [-1, 672, 1, 1]               0\n",
      "SqueezeExcitation-150            [-1, 672, 7, 7]               0\n",
      "          Conv2d-151            [-1, 160, 7, 7]         107,520\n",
      "     BatchNorm2d-152            [-1, 160, 7, 7]             320\n",
      "InvertedResidual-153            [-1, 160, 7, 7]               0\n",
      "          Conv2d-154            [-1, 960, 7, 7]         153,600\n",
      "     BatchNorm2d-155            [-1, 960, 7, 7]           1,920\n",
      "       Hardswish-156            [-1, 960, 7, 7]               0\n",
      "          Conv2d-157            [-1, 960, 7, 7]          24,000\n",
      "     BatchNorm2d-158            [-1, 960, 7, 7]           1,920\n",
      "       Hardswish-159            [-1, 960, 7, 7]               0\n",
      "AdaptiveAvgPool2d-160            [-1, 960, 1, 1]               0\n",
      "          Conv2d-161            [-1, 240, 1, 1]         230,640\n",
      "            ReLU-162            [-1, 240, 1, 1]               0\n",
      "          Conv2d-163            [-1, 960, 1, 1]         231,360\n",
      "     Hardsigmoid-164            [-1, 960, 1, 1]               0\n",
      "SqueezeExcitation-165            [-1, 960, 7, 7]               0\n",
      "          Conv2d-166            [-1, 160, 7, 7]         153,600\n",
      "     BatchNorm2d-167            [-1, 160, 7, 7]             320\n",
      "InvertedResidual-168            [-1, 160, 7, 7]               0\n",
      "          Conv2d-169            [-1, 960, 7, 7]         153,600\n",
      "     BatchNorm2d-170            [-1, 960, 7, 7]           1,920\n",
      "       Hardswish-171            [-1, 960, 7, 7]               0\n",
      "          Conv2d-172            [-1, 960, 7, 7]          24,000\n",
      "     BatchNorm2d-173            [-1, 960, 7, 7]           1,920\n",
      "       Hardswish-174            [-1, 960, 7, 7]               0\n",
      "AdaptiveAvgPool2d-175            [-1, 960, 1, 1]               0\n",
      "          Conv2d-176            [-1, 240, 1, 1]         230,640\n",
      "            ReLU-177            [-1, 240, 1, 1]               0\n",
      "          Conv2d-178            [-1, 960, 1, 1]         231,360\n",
      "     Hardsigmoid-179            [-1, 960, 1, 1]               0\n",
      "SqueezeExcitation-180            [-1, 960, 7, 7]               0\n",
      "          Conv2d-181            [-1, 160, 7, 7]         153,600\n",
      "     BatchNorm2d-182            [-1, 160, 7, 7]             320\n",
      "InvertedResidual-183            [-1, 160, 7, 7]               0\n",
      "          Conv2d-184            [-1, 960, 7, 7]         153,600\n",
      "     BatchNorm2d-185            [-1, 960, 7, 7]           1,920\n",
      "       Hardswish-186            [-1, 960, 7, 7]               0\n",
      "AdaptiveAvgPool2d-187            [-1, 960, 1, 1]               0\n",
      "          Linear-188                 [-1, 1280]       1,230,080\n",
      "       Hardswish-189                 [-1, 1280]               0\n",
      "         Dropout-190                 [-1, 1280]               0\n",
      "          Linear-191                   [-1, 29]          37,149\n",
      "================================================================\n",
      "Total params: 4,239,181\n",
      "Trainable params: 37,149\n",
      "Non-trainable params: 4,202,032\n",
      "----------------------------------------------------------------\n",
      "Input size (MB): 0.46\n",
      "Forward/backward pass size (MB): 87.15\n",
      "Params size (MB): 16.17\n",
      "Estimated Total Size (MB): 103.78\n",
      "----------------------------------------------------------------\n"
     ]
    }
   ],
   "execution_count": 26
  },
  {
   "cell_type": "markdown",
   "metadata": {},
   "source": [
    "### ResNet 18\n"
   ]
  },
  {
   "cell_type": "code",
   "metadata": {
    "ExecuteTime": {
     "end_time": "2024-08-12T10:38:42.144896Z",
     "start_time": "2024-08-12T10:38:41.999868Z"
    }
   },
   "source": [
    "ResNet18_model = models.resnet18()\n",
    "\n",
    "# Freeze model parameters\n",
    "for param in ResNet18_model.parameters():\n",
    "    param.requires_grad = False\n",
    "\n",
    "# Modify the last fully connected layer to fit your number of classes\n",
    "ResNet18_model.fc = torch.nn.Linear(ResNet18_model.fc.in_features, classes_count)\n",
    "\n",
    "# Move the model to the device (GPU if available)\n",
    "ResNet18_model.to(device)\n",
    "\n",
    "# Define loss function and optimizer\n",
    "ResNet18_model_criterion = torch.nn.CrossEntropyLoss()\n",
    "ResNet18_model_optimizer = torch.optim.Adam(ResNet18_model.parameters(), lr=0.001)\n"
   ],
   "outputs": [],
   "execution_count": 27
  },
  {
   "cell_type": "code",
   "metadata": {
    "ExecuteTime": {
     "end_time": "2024-08-12T10:38:42.174667Z",
     "start_time": "2024-08-12T10:38:42.145852Z"
    }
   },
   "source": [
    "summary(ResNet18_model, input_size=(3, 200, 200))\n"
   ],
   "outputs": [
    {
     "name": "stdout",
     "output_type": "stream",
     "text": [
      "----------------------------------------------------------------\n",
      "        Layer (type)               Output Shape         Param #\n",
      "================================================================\n",
      "            Conv2d-1         [-1, 64, 100, 100]           9,408\n",
      "       BatchNorm2d-2         [-1, 64, 100, 100]             128\n",
      "              ReLU-3         [-1, 64, 100, 100]               0\n",
      "         MaxPool2d-4           [-1, 64, 50, 50]               0\n",
      "            Conv2d-5           [-1, 64, 50, 50]          36,864\n",
      "       BatchNorm2d-6           [-1, 64, 50, 50]             128\n",
      "              ReLU-7           [-1, 64, 50, 50]               0\n",
      "            Conv2d-8           [-1, 64, 50, 50]          36,864\n",
      "       BatchNorm2d-9           [-1, 64, 50, 50]             128\n",
      "             ReLU-10           [-1, 64, 50, 50]               0\n",
      "       BasicBlock-11           [-1, 64, 50, 50]               0\n",
      "           Conv2d-12           [-1, 64, 50, 50]          36,864\n",
      "      BatchNorm2d-13           [-1, 64, 50, 50]             128\n",
      "             ReLU-14           [-1, 64, 50, 50]               0\n",
      "           Conv2d-15           [-1, 64, 50, 50]          36,864\n",
      "      BatchNorm2d-16           [-1, 64, 50, 50]             128\n",
      "             ReLU-17           [-1, 64, 50, 50]               0\n",
      "       BasicBlock-18           [-1, 64, 50, 50]               0\n",
      "           Conv2d-19          [-1, 128, 25, 25]          73,728\n",
      "      BatchNorm2d-20          [-1, 128, 25, 25]             256\n",
      "             ReLU-21          [-1, 128, 25, 25]               0\n",
      "           Conv2d-22          [-1, 128, 25, 25]         147,456\n",
      "      BatchNorm2d-23          [-1, 128, 25, 25]             256\n",
      "           Conv2d-24          [-1, 128, 25, 25]           8,192\n",
      "      BatchNorm2d-25          [-1, 128, 25, 25]             256\n",
      "             ReLU-26          [-1, 128, 25, 25]               0\n",
      "       BasicBlock-27          [-1, 128, 25, 25]               0\n",
      "           Conv2d-28          [-1, 128, 25, 25]         147,456\n",
      "      BatchNorm2d-29          [-1, 128, 25, 25]             256\n",
      "             ReLU-30          [-1, 128, 25, 25]               0\n",
      "           Conv2d-31          [-1, 128, 25, 25]         147,456\n",
      "      BatchNorm2d-32          [-1, 128, 25, 25]             256\n",
      "             ReLU-33          [-1, 128, 25, 25]               0\n",
      "       BasicBlock-34          [-1, 128, 25, 25]               0\n",
      "           Conv2d-35          [-1, 256, 13, 13]         294,912\n",
      "      BatchNorm2d-36          [-1, 256, 13, 13]             512\n",
      "             ReLU-37          [-1, 256, 13, 13]               0\n",
      "           Conv2d-38          [-1, 256, 13, 13]         589,824\n",
      "      BatchNorm2d-39          [-1, 256, 13, 13]             512\n",
      "           Conv2d-40          [-1, 256, 13, 13]          32,768\n",
      "      BatchNorm2d-41          [-1, 256, 13, 13]             512\n",
      "             ReLU-42          [-1, 256, 13, 13]               0\n",
      "       BasicBlock-43          [-1, 256, 13, 13]               0\n",
      "           Conv2d-44          [-1, 256, 13, 13]         589,824\n",
      "      BatchNorm2d-45          [-1, 256, 13, 13]             512\n",
      "             ReLU-46          [-1, 256, 13, 13]               0\n",
      "           Conv2d-47          [-1, 256, 13, 13]         589,824\n",
      "      BatchNorm2d-48          [-1, 256, 13, 13]             512\n",
      "             ReLU-49          [-1, 256, 13, 13]               0\n",
      "       BasicBlock-50          [-1, 256, 13, 13]               0\n",
      "           Conv2d-51            [-1, 512, 7, 7]       1,179,648\n",
      "      BatchNorm2d-52            [-1, 512, 7, 7]           1,024\n",
      "             ReLU-53            [-1, 512, 7, 7]               0\n",
      "           Conv2d-54            [-1, 512, 7, 7]       2,359,296\n",
      "      BatchNorm2d-55            [-1, 512, 7, 7]           1,024\n",
      "           Conv2d-56            [-1, 512, 7, 7]         131,072\n",
      "      BatchNorm2d-57            [-1, 512, 7, 7]           1,024\n",
      "             ReLU-58            [-1, 512, 7, 7]               0\n",
      "       BasicBlock-59            [-1, 512, 7, 7]               0\n",
      "           Conv2d-60            [-1, 512, 7, 7]       2,359,296\n",
      "      BatchNorm2d-61            [-1, 512, 7, 7]           1,024\n",
      "             ReLU-62            [-1, 512, 7, 7]               0\n",
      "           Conv2d-63            [-1, 512, 7, 7]       2,359,296\n",
      "      BatchNorm2d-64            [-1, 512, 7, 7]           1,024\n",
      "             ReLU-65            [-1, 512, 7, 7]               0\n",
      "       BasicBlock-66            [-1, 512, 7, 7]               0\n",
      "AdaptiveAvgPool2d-67            [-1, 512, 1, 1]               0\n",
      "           Linear-68                   [-1, 29]          14,877\n",
      "================================================================\n",
      "Total params: 11,191,389\n",
      "Trainable params: 14,877\n",
      "Non-trainable params: 11,176,512\n",
      "----------------------------------------------------------------\n",
      "Input size (MB): 0.46\n",
      "Forward/backward pass size (MB): 51.07\n",
      "Params size (MB): 42.69\n",
      "Estimated Total Size (MB): 94.22\n",
      "----------------------------------------------------------------\n"
     ]
    }
   ],
   "execution_count": 28
  },
  {
   "cell_type": "markdown",
   "metadata": {},
   "source": [
    "### ResNet 50\n"
   ]
  },
  {
   "cell_type": "code",
   "metadata": {
    "ExecuteTime": {
     "end_time": "2024-08-12T10:38:42.500269Z",
     "start_time": "2024-08-12T10:38:42.175673Z"
    }
   },
   "source": [
    "ResNet50_model = models.resnet50()\n",
    "\n",
    "# Freeze model parameters\n",
    "for param in ResNet50_model.parameters():\n",
    "    param.requires_grad = False\n",
    "\n",
    "# Modify the last fully connected layer to fit your number of classes\n",
    "ResNet50_model.fc = torch.nn.Linear(ResNet50_model.fc.in_features, classes_count)\n",
    "\n",
    "# Move the model to the device (GPU if available)\n",
    "ResNet50_model.to(device)\n",
    "\n",
    "# Define loss function and optimizer\n",
    "ResNet50_model_criterion = torch.nn.CrossEntropyLoss()\n",
    "ResNet50_model_optimizer = torch.optim.Adam(ResNet50_model.parameters(), lr=0.001)\n"
   ],
   "outputs": [],
   "execution_count": 29
  },
  {
   "cell_type": "code",
   "metadata": {
    "ExecuteTime": {
     "end_time": "2024-08-12T10:38:42.560365Z",
     "start_time": "2024-08-12T10:38:42.501955Z"
    }
   },
   "source": [
    "summary(ResNet50_model, input_size=(3, 200, 200))\n"
   ],
   "outputs": [
    {
     "name": "stdout",
     "output_type": "stream",
     "text": [
      "----------------------------------------------------------------\n",
      "        Layer (type)               Output Shape         Param #\n",
      "================================================================\n",
      "            Conv2d-1         [-1, 64, 100, 100]           9,408\n",
      "       BatchNorm2d-2         [-1, 64, 100, 100]             128\n",
      "              ReLU-3         [-1, 64, 100, 100]               0\n",
      "         MaxPool2d-4           [-1, 64, 50, 50]               0\n",
      "            Conv2d-5           [-1, 64, 50, 50]           4,096\n",
      "       BatchNorm2d-6           [-1, 64, 50, 50]             128\n",
      "              ReLU-7           [-1, 64, 50, 50]               0\n",
      "            Conv2d-8           [-1, 64, 50, 50]          36,864\n",
      "       BatchNorm2d-9           [-1, 64, 50, 50]             128\n",
      "             ReLU-10           [-1, 64, 50, 50]               0\n",
      "           Conv2d-11          [-1, 256, 50, 50]          16,384\n",
      "      BatchNorm2d-12          [-1, 256, 50, 50]             512\n",
      "           Conv2d-13          [-1, 256, 50, 50]          16,384\n",
      "      BatchNorm2d-14          [-1, 256, 50, 50]             512\n",
      "             ReLU-15          [-1, 256, 50, 50]               0\n",
      "       Bottleneck-16          [-1, 256, 50, 50]               0\n",
      "           Conv2d-17           [-1, 64, 50, 50]          16,384\n",
      "      BatchNorm2d-18           [-1, 64, 50, 50]             128\n",
      "             ReLU-19           [-1, 64, 50, 50]               0\n",
      "           Conv2d-20           [-1, 64, 50, 50]          36,864\n",
      "      BatchNorm2d-21           [-1, 64, 50, 50]             128\n",
      "             ReLU-22           [-1, 64, 50, 50]               0\n",
      "           Conv2d-23          [-1, 256, 50, 50]          16,384\n",
      "      BatchNorm2d-24          [-1, 256, 50, 50]             512\n",
      "             ReLU-25          [-1, 256, 50, 50]               0\n",
      "       Bottleneck-26          [-1, 256, 50, 50]               0\n",
      "           Conv2d-27           [-1, 64, 50, 50]          16,384\n",
      "      BatchNorm2d-28           [-1, 64, 50, 50]             128\n",
      "             ReLU-29           [-1, 64, 50, 50]               0\n",
      "           Conv2d-30           [-1, 64, 50, 50]          36,864\n",
      "      BatchNorm2d-31           [-1, 64, 50, 50]             128\n",
      "             ReLU-32           [-1, 64, 50, 50]               0\n",
      "           Conv2d-33          [-1, 256, 50, 50]          16,384\n",
      "      BatchNorm2d-34          [-1, 256, 50, 50]             512\n",
      "             ReLU-35          [-1, 256, 50, 50]               0\n",
      "       Bottleneck-36          [-1, 256, 50, 50]               0\n",
      "           Conv2d-37          [-1, 128, 50, 50]          32,768\n",
      "      BatchNorm2d-38          [-1, 128, 50, 50]             256\n",
      "             ReLU-39          [-1, 128, 50, 50]               0\n",
      "           Conv2d-40          [-1, 128, 25, 25]         147,456\n",
      "      BatchNorm2d-41          [-1, 128, 25, 25]             256\n",
      "             ReLU-42          [-1, 128, 25, 25]               0\n",
      "           Conv2d-43          [-1, 512, 25, 25]          65,536\n",
      "      BatchNorm2d-44          [-1, 512, 25, 25]           1,024\n",
      "           Conv2d-45          [-1, 512, 25, 25]         131,072\n",
      "      BatchNorm2d-46          [-1, 512, 25, 25]           1,024\n",
      "             ReLU-47          [-1, 512, 25, 25]               0\n",
      "       Bottleneck-48          [-1, 512, 25, 25]               0\n",
      "           Conv2d-49          [-1, 128, 25, 25]          65,536\n",
      "      BatchNorm2d-50          [-1, 128, 25, 25]             256\n",
      "             ReLU-51          [-1, 128, 25, 25]               0\n",
      "           Conv2d-52          [-1, 128, 25, 25]         147,456\n",
      "      BatchNorm2d-53          [-1, 128, 25, 25]             256\n",
      "             ReLU-54          [-1, 128, 25, 25]               0\n",
      "           Conv2d-55          [-1, 512, 25, 25]          65,536\n",
      "      BatchNorm2d-56          [-1, 512, 25, 25]           1,024\n",
      "             ReLU-57          [-1, 512, 25, 25]               0\n",
      "       Bottleneck-58          [-1, 512, 25, 25]               0\n",
      "           Conv2d-59          [-1, 128, 25, 25]          65,536\n",
      "      BatchNorm2d-60          [-1, 128, 25, 25]             256\n",
      "             ReLU-61          [-1, 128, 25, 25]               0\n",
      "           Conv2d-62          [-1, 128, 25, 25]         147,456\n",
      "      BatchNorm2d-63          [-1, 128, 25, 25]             256\n",
      "             ReLU-64          [-1, 128, 25, 25]               0\n",
      "           Conv2d-65          [-1, 512, 25, 25]          65,536\n",
      "      BatchNorm2d-66          [-1, 512, 25, 25]           1,024\n",
      "             ReLU-67          [-1, 512, 25, 25]               0\n",
      "       Bottleneck-68          [-1, 512, 25, 25]               0\n",
      "           Conv2d-69          [-1, 128, 25, 25]          65,536\n",
      "      BatchNorm2d-70          [-1, 128, 25, 25]             256\n",
      "             ReLU-71          [-1, 128, 25, 25]               0\n",
      "           Conv2d-72          [-1, 128, 25, 25]         147,456\n",
      "      BatchNorm2d-73          [-1, 128, 25, 25]             256\n",
      "             ReLU-74          [-1, 128, 25, 25]               0\n",
      "           Conv2d-75          [-1, 512, 25, 25]          65,536\n",
      "      BatchNorm2d-76          [-1, 512, 25, 25]           1,024\n",
      "             ReLU-77          [-1, 512, 25, 25]               0\n",
      "       Bottleneck-78          [-1, 512, 25, 25]               0\n",
      "           Conv2d-79          [-1, 256, 25, 25]         131,072\n",
      "      BatchNorm2d-80          [-1, 256, 25, 25]             512\n",
      "             ReLU-81          [-1, 256, 25, 25]               0\n",
      "           Conv2d-82          [-1, 256, 13, 13]         589,824\n",
      "      BatchNorm2d-83          [-1, 256, 13, 13]             512\n",
      "             ReLU-84          [-1, 256, 13, 13]               0\n",
      "           Conv2d-85         [-1, 1024, 13, 13]         262,144\n",
      "      BatchNorm2d-86         [-1, 1024, 13, 13]           2,048\n",
      "           Conv2d-87         [-1, 1024, 13, 13]         524,288\n",
      "      BatchNorm2d-88         [-1, 1024, 13, 13]           2,048\n",
      "             ReLU-89         [-1, 1024, 13, 13]               0\n",
      "       Bottleneck-90         [-1, 1024, 13, 13]               0\n",
      "           Conv2d-91          [-1, 256, 13, 13]         262,144\n",
      "      BatchNorm2d-92          [-1, 256, 13, 13]             512\n",
      "             ReLU-93          [-1, 256, 13, 13]               0\n",
      "           Conv2d-94          [-1, 256, 13, 13]         589,824\n",
      "      BatchNorm2d-95          [-1, 256, 13, 13]             512\n",
      "             ReLU-96          [-1, 256, 13, 13]               0\n",
      "           Conv2d-97         [-1, 1024, 13, 13]         262,144\n",
      "      BatchNorm2d-98         [-1, 1024, 13, 13]           2,048\n",
      "             ReLU-99         [-1, 1024, 13, 13]               0\n",
      "      Bottleneck-100         [-1, 1024, 13, 13]               0\n",
      "          Conv2d-101          [-1, 256, 13, 13]         262,144\n",
      "     BatchNorm2d-102          [-1, 256, 13, 13]             512\n",
      "            ReLU-103          [-1, 256, 13, 13]               0\n",
      "          Conv2d-104          [-1, 256, 13, 13]         589,824\n",
      "     BatchNorm2d-105          [-1, 256, 13, 13]             512\n",
      "            ReLU-106          [-1, 256, 13, 13]               0\n",
      "          Conv2d-107         [-1, 1024, 13, 13]         262,144\n",
      "     BatchNorm2d-108         [-1, 1024, 13, 13]           2,048\n",
      "            ReLU-109         [-1, 1024, 13, 13]               0\n",
      "      Bottleneck-110         [-1, 1024, 13, 13]               0\n",
      "          Conv2d-111          [-1, 256, 13, 13]         262,144\n",
      "     BatchNorm2d-112          [-1, 256, 13, 13]             512\n",
      "            ReLU-113          [-1, 256, 13, 13]               0\n",
      "          Conv2d-114          [-1, 256, 13, 13]         589,824\n",
      "     BatchNorm2d-115          [-1, 256, 13, 13]             512\n",
      "            ReLU-116          [-1, 256, 13, 13]               0\n",
      "          Conv2d-117         [-1, 1024, 13, 13]         262,144\n",
      "     BatchNorm2d-118         [-1, 1024, 13, 13]           2,048\n",
      "            ReLU-119         [-1, 1024, 13, 13]               0\n",
      "      Bottleneck-120         [-1, 1024, 13, 13]               0\n",
      "          Conv2d-121          [-1, 256, 13, 13]         262,144\n",
      "     BatchNorm2d-122          [-1, 256, 13, 13]             512\n",
      "            ReLU-123          [-1, 256, 13, 13]               0\n",
      "          Conv2d-124          [-1, 256, 13, 13]         589,824\n",
      "     BatchNorm2d-125          [-1, 256, 13, 13]             512\n",
      "            ReLU-126          [-1, 256, 13, 13]               0\n",
      "          Conv2d-127         [-1, 1024, 13, 13]         262,144\n",
      "     BatchNorm2d-128         [-1, 1024, 13, 13]           2,048\n",
      "            ReLU-129         [-1, 1024, 13, 13]               0\n",
      "      Bottleneck-130         [-1, 1024, 13, 13]               0\n",
      "          Conv2d-131          [-1, 256, 13, 13]         262,144\n",
      "     BatchNorm2d-132          [-1, 256, 13, 13]             512\n",
      "            ReLU-133          [-1, 256, 13, 13]               0\n",
      "          Conv2d-134          [-1, 256, 13, 13]         589,824\n",
      "     BatchNorm2d-135          [-1, 256, 13, 13]             512\n",
      "            ReLU-136          [-1, 256, 13, 13]               0\n",
      "          Conv2d-137         [-1, 1024, 13, 13]         262,144\n",
      "     BatchNorm2d-138         [-1, 1024, 13, 13]           2,048\n",
      "            ReLU-139         [-1, 1024, 13, 13]               0\n",
      "      Bottleneck-140         [-1, 1024, 13, 13]               0\n",
      "          Conv2d-141          [-1, 512, 13, 13]         524,288\n",
      "     BatchNorm2d-142          [-1, 512, 13, 13]           1,024\n",
      "            ReLU-143          [-1, 512, 13, 13]               0\n",
      "          Conv2d-144            [-1, 512, 7, 7]       2,359,296\n",
      "     BatchNorm2d-145            [-1, 512, 7, 7]           1,024\n",
      "            ReLU-146            [-1, 512, 7, 7]               0\n",
      "          Conv2d-147           [-1, 2048, 7, 7]       1,048,576\n",
      "     BatchNorm2d-148           [-1, 2048, 7, 7]           4,096\n",
      "          Conv2d-149           [-1, 2048, 7, 7]       2,097,152\n",
      "     BatchNorm2d-150           [-1, 2048, 7, 7]           4,096\n",
      "            ReLU-151           [-1, 2048, 7, 7]               0\n",
      "      Bottleneck-152           [-1, 2048, 7, 7]               0\n",
      "          Conv2d-153            [-1, 512, 7, 7]       1,048,576\n",
      "     BatchNorm2d-154            [-1, 512, 7, 7]           1,024\n",
      "            ReLU-155            [-1, 512, 7, 7]               0\n",
      "          Conv2d-156            [-1, 512, 7, 7]       2,359,296\n",
      "     BatchNorm2d-157            [-1, 512, 7, 7]           1,024\n",
      "            ReLU-158            [-1, 512, 7, 7]               0\n",
      "          Conv2d-159           [-1, 2048, 7, 7]       1,048,576\n",
      "     BatchNorm2d-160           [-1, 2048, 7, 7]           4,096\n",
      "            ReLU-161           [-1, 2048, 7, 7]               0\n",
      "      Bottleneck-162           [-1, 2048, 7, 7]               0\n",
      "          Conv2d-163            [-1, 512, 7, 7]       1,048,576\n",
      "     BatchNorm2d-164            [-1, 512, 7, 7]           1,024\n",
      "            ReLU-165            [-1, 512, 7, 7]               0\n",
      "          Conv2d-166            [-1, 512, 7, 7]       2,359,296\n",
      "     BatchNorm2d-167            [-1, 512, 7, 7]           1,024\n",
      "            ReLU-168            [-1, 512, 7, 7]               0\n",
      "          Conv2d-169           [-1, 2048, 7, 7]       1,048,576\n",
      "     BatchNorm2d-170           [-1, 2048, 7, 7]           4,096\n",
      "            ReLU-171           [-1, 2048, 7, 7]               0\n",
      "      Bottleneck-172           [-1, 2048, 7, 7]               0\n",
      "AdaptiveAvgPool2d-173           [-1, 2048, 1, 1]               0\n",
      "          Linear-174                   [-1, 29]          59,421\n",
      "================================================================\n",
      "Total params: 23,567,453\n",
      "Trainable params: 59,421\n",
      "Non-trainable params: 23,508,032\n",
      "----------------------------------------------------------------\n",
      "Input size (MB): 0.46\n",
      "Forward/backward pass size (MB): 234.76\n",
      "Params size (MB): 89.90\n",
      "Estimated Total Size (MB): 325.12\n",
      "----------------------------------------------------------------\n"
     ]
    }
   ],
   "execution_count": 30
  },
  {
   "cell_type": "markdown",
   "metadata": {},
   "source": [
    "### Vgg16\n"
   ]
  },
  {
   "cell_type": "code",
   "metadata": {
    "ExecuteTime": {
     "end_time": "2024-08-12T10:38:44.252865Z",
     "start_time": "2024-08-12T10:38:42.561626Z"
    }
   },
   "source": [
    "Vgg16_model = models.vgg16()\n",
    "\n",
    "# Freeze model parameters\n",
    "for param in Vgg16_model.parameters():\n",
    "    param.requires_grad = False\n",
    "\n",
    "# Modify the last fully connected layer to fit your number of classes\n",
    "Vgg16_model.classifier[6] = torch.nn.Linear(Vgg16_model.classifier[6].in_features, classes_count)\n",
    "\n",
    "# Move the model to the device (GPU if available)\n",
    "Vgg16_model.to(device)\n",
    "\n",
    "# Define loss function and optimizer\n",
    "Vgg16_model_criterion = torch.nn.CrossEntropyLoss()\n",
    "Vgg16_model_optimizer = torch.optim.Adam(Vgg16_model.parameters(), lr=0.001)\n"
   ],
   "outputs": [],
   "execution_count": 31
  },
  {
   "cell_type": "code",
   "metadata": {
    "ExecuteTime": {
     "end_time": "2024-08-12T10:38:44.302840Z",
     "start_time": "2024-08-12T10:38:44.254206Z"
    }
   },
   "source": [
    "summary(Vgg16_model, input_size=(3, 200, 200))\n"
   ],
   "outputs": [
    {
     "name": "stdout",
     "output_type": "stream",
     "text": [
      "----------------------------------------------------------------\n",
      "        Layer (type)               Output Shape         Param #\n",
      "================================================================\n",
      "            Conv2d-1         [-1, 64, 200, 200]           1,792\n",
      "              ReLU-2         [-1, 64, 200, 200]               0\n",
      "            Conv2d-3         [-1, 64, 200, 200]          36,928\n",
      "              ReLU-4         [-1, 64, 200, 200]               0\n",
      "         MaxPool2d-5         [-1, 64, 100, 100]               0\n",
      "            Conv2d-6        [-1, 128, 100, 100]          73,856\n",
      "              ReLU-7        [-1, 128, 100, 100]               0\n",
      "            Conv2d-8        [-1, 128, 100, 100]         147,584\n",
      "              ReLU-9        [-1, 128, 100, 100]               0\n",
      "        MaxPool2d-10          [-1, 128, 50, 50]               0\n",
      "           Conv2d-11          [-1, 256, 50, 50]         295,168\n",
      "             ReLU-12          [-1, 256, 50, 50]               0\n",
      "           Conv2d-13          [-1, 256, 50, 50]         590,080\n",
      "             ReLU-14          [-1, 256, 50, 50]               0\n",
      "           Conv2d-15          [-1, 256, 50, 50]         590,080\n",
      "             ReLU-16          [-1, 256, 50, 50]               0\n",
      "        MaxPool2d-17          [-1, 256, 25, 25]               0\n",
      "           Conv2d-18          [-1, 512, 25, 25]       1,180,160\n",
      "             ReLU-19          [-1, 512, 25, 25]               0\n",
      "           Conv2d-20          [-1, 512, 25, 25]       2,359,808\n",
      "             ReLU-21          [-1, 512, 25, 25]               0\n",
      "           Conv2d-22          [-1, 512, 25, 25]       2,359,808\n",
      "             ReLU-23          [-1, 512, 25, 25]               0\n",
      "        MaxPool2d-24          [-1, 512, 12, 12]               0\n",
      "           Conv2d-25          [-1, 512, 12, 12]       2,359,808\n",
      "             ReLU-26          [-1, 512, 12, 12]               0\n",
      "           Conv2d-27          [-1, 512, 12, 12]       2,359,808\n",
      "             ReLU-28          [-1, 512, 12, 12]               0\n",
      "           Conv2d-29          [-1, 512, 12, 12]       2,359,808\n",
      "             ReLU-30          [-1, 512, 12, 12]               0\n",
      "        MaxPool2d-31            [-1, 512, 6, 6]               0\n",
      "AdaptiveAvgPool2d-32            [-1, 512, 7, 7]               0\n",
      "           Linear-33                 [-1, 4096]     102,764,544\n",
      "             ReLU-34                 [-1, 4096]               0\n",
      "          Dropout-35                 [-1, 4096]               0\n",
      "           Linear-36                 [-1, 4096]      16,781,312\n",
      "             ReLU-37                 [-1, 4096]               0\n",
      "          Dropout-38                 [-1, 4096]               0\n",
      "           Linear-39                   [-1, 29]         118,813\n",
      "================================================================\n",
      "Total params: 134,379,357\n",
      "Trainable params: 118,813\n",
      "Non-trainable params: 134,260,544\n",
      "----------------------------------------------------------------\n",
      "Input size (MB): 0.46\n",
      "Forward/backward pass size (MB): 174.13\n",
      "Params size (MB): 512.62\n",
      "Estimated Total Size (MB): 687.21\n",
      "----------------------------------------------------------------\n"
     ]
    }
   ],
   "execution_count": 32
  },
  {
   "cell_type": "markdown",
   "metadata": {},
   "source": [
    "### Vgg19\n"
   ]
  },
  {
   "cell_type": "code",
   "metadata": {
    "ExecuteTime": {
     "end_time": "2024-08-12T10:38:45.845410Z",
     "start_time": "2024-08-12T10:38:44.303654Z"
    }
   },
   "source": [
    "Vgg19_model = models.vgg16()\n",
    "\n",
    "# Freeze model parameters\n",
    "for param in Vgg19_model.parameters():\n",
    "    param.requires_grad = False\n",
    "\n",
    "# Modify the last fully connected layer to fit your number of classes\n",
    "Vgg19_model.classifier[6] = torch.nn.Linear(Vgg19_model.classifier[6].in_features, classes_count)\n",
    "\n",
    "# Move the model to the device (GPU if available)\n",
    "Vgg19_model.to(device)\n",
    "\n",
    "# Define loss function and optimizer\n",
    "Vgg19_model_criterion = torch.nn.CrossEntropyLoss()\n",
    "Vgg19_model_optimizer = torch.optim.Adam(Vgg19_model.parameters(), lr=0.001)\n"
   ],
   "outputs": [],
   "execution_count": 33
  },
  {
   "cell_type": "code",
   "metadata": {
    "ExecuteTime": {
     "end_time": "2024-08-12T10:38:45.879774Z",
     "start_time": "2024-08-12T10:38:45.846385Z"
    }
   },
   "source": [
    "summary(Vgg19_model, input_size=(3, 200, 200))\n"
   ],
   "outputs": [
    {
     "name": "stdout",
     "output_type": "stream",
     "text": [
      "----------------------------------------------------------------\n",
      "        Layer (type)               Output Shape         Param #\n",
      "================================================================\n",
      "            Conv2d-1         [-1, 64, 200, 200]           1,792\n",
      "              ReLU-2         [-1, 64, 200, 200]               0\n",
      "            Conv2d-3         [-1, 64, 200, 200]          36,928\n",
      "              ReLU-4         [-1, 64, 200, 200]               0\n",
      "         MaxPool2d-5         [-1, 64, 100, 100]               0\n",
      "            Conv2d-6        [-1, 128, 100, 100]          73,856\n",
      "              ReLU-7        [-1, 128, 100, 100]               0\n",
      "            Conv2d-8        [-1, 128, 100, 100]         147,584\n",
      "              ReLU-9        [-1, 128, 100, 100]               0\n",
      "        MaxPool2d-10          [-1, 128, 50, 50]               0\n",
      "           Conv2d-11          [-1, 256, 50, 50]         295,168\n",
      "             ReLU-12          [-1, 256, 50, 50]               0\n",
      "           Conv2d-13          [-1, 256, 50, 50]         590,080\n",
      "             ReLU-14          [-1, 256, 50, 50]               0\n",
      "           Conv2d-15          [-1, 256, 50, 50]         590,080\n",
      "             ReLU-16          [-1, 256, 50, 50]               0\n",
      "        MaxPool2d-17          [-1, 256, 25, 25]               0\n",
      "           Conv2d-18          [-1, 512, 25, 25]       1,180,160\n",
      "             ReLU-19          [-1, 512, 25, 25]               0\n",
      "           Conv2d-20          [-1, 512, 25, 25]       2,359,808\n",
      "             ReLU-21          [-1, 512, 25, 25]               0\n",
      "           Conv2d-22          [-1, 512, 25, 25]       2,359,808\n",
      "             ReLU-23          [-1, 512, 25, 25]               0\n",
      "        MaxPool2d-24          [-1, 512, 12, 12]               0\n",
      "           Conv2d-25          [-1, 512, 12, 12]       2,359,808\n",
      "             ReLU-26          [-1, 512, 12, 12]               0\n",
      "           Conv2d-27          [-1, 512, 12, 12]       2,359,808\n",
      "             ReLU-28          [-1, 512, 12, 12]               0\n",
      "           Conv2d-29          [-1, 512, 12, 12]       2,359,808\n",
      "             ReLU-30          [-1, 512, 12, 12]               0\n",
      "        MaxPool2d-31            [-1, 512, 6, 6]               0\n",
      "AdaptiveAvgPool2d-32            [-1, 512, 7, 7]               0\n",
      "           Linear-33                 [-1, 4096]     102,764,544\n",
      "             ReLU-34                 [-1, 4096]               0\n",
      "          Dropout-35                 [-1, 4096]               0\n",
      "           Linear-36                 [-1, 4096]      16,781,312\n",
      "             ReLU-37                 [-1, 4096]               0\n",
      "          Dropout-38                 [-1, 4096]               0\n",
      "           Linear-39                   [-1, 29]         118,813\n",
      "================================================================\n",
      "Total params: 134,379,357\n",
      "Trainable params: 118,813\n",
      "Non-trainable params: 134,260,544\n",
      "----------------------------------------------------------------\n",
      "Input size (MB): 0.46\n",
      "Forward/backward pass size (MB): 174.13\n",
      "Params size (MB): 512.62\n",
      "Estimated Total Size (MB): 687.21\n",
      "----------------------------------------------------------------\n"
     ]
    }
   ],
   "execution_count": 34
  },
  {
   "metadata": {},
   "cell_type": "markdown",
   "source": "### Custom\n"
  },
  {
   "cell_type": "code",
   "metadata": {
    "ExecuteTime": {
     "end_time": "2024-08-12T10:38:45.885866Z",
     "start_time": "2024-08-12T10:38:45.881103Z"
    }
   },
   "source": [
    "class CustomCNN(torch.nn.Module):\n",
    "    def __init__(self, num_classes):\n",
    "        super(CustomCNN, self).__init__()\n",
    "\n",
    "    def forward(self, x):\n",
    "        return x\n"
   ],
   "outputs": [],
   "execution_count": 35
  },
  {
   "cell_type": "code",
   "metadata": {
    "ExecuteTime": {
     "end_time": "2024-08-12T10:38:46.044206Z",
     "start_time": "2024-08-12T10:38:45.886947Z"
    }
   },
   "source": [
    "Custom_model = CustomCNN(num_classes=classes_count)\n",
    "\n",
    "# Freeze model parameters\n",
    "for param in Custom_model.parameters():\n",
    "    param.requires_grad = False\n",
    "\n",
    "# Modify the last fully connected layer to fit your number of classes\n",
    "#Custom_model.classifier[6] = torch.nn.Linear(Custom_model.classifier[6].in_features, classes_count)\n",
    "\n",
    "# Move the model to the device (GPU if available)\n",
    "Custom_model.to(device)\n",
    "\n",
    "# Define loss function and optimizer\n",
    "Custom_model_criterion = torch.nn.CrossEntropyLoss()\n",
    "Custom_model_optimizer = torch.optim.Adam(Custom_model.parameters(), lr=0.001)\n",
    "\n"
   ],
   "outputs": [],
   "execution_count": 36
  },
  {
   "metadata": {
    "ExecuteTime": {
     "end_time": "2024-08-12T10:38:46.056567Z",
     "start_time": "2024-08-12T10:38:46.045360Z"
    }
   },
   "cell_type": "code",
   "source": "summary(Custom_model, input_size=(3, 200, 200))\n",
   "outputs": [
    {
     "name": "stdout",
     "output_type": "stream",
     "text": [
      "----------------------------------------------------------------\n",
      "        Layer (type)               Output Shape         Param #\n",
      "================================================================\n",
      "            Conv2d-1         [-1, 16, 200, 200]             448\n",
      "         MaxPool2d-2         [-1, 16, 100, 100]               0\n",
      "            Conv2d-3         [-1, 32, 100, 100]           4,640\n",
      "         MaxPool2d-4           [-1, 32, 50, 50]               0\n",
      "            Conv2d-5           [-1, 64, 50, 50]          18,496\n",
      "         MaxPool2d-6           [-1, 64, 25, 25]               0\n",
      "            Linear-7                  [-1, 512]      20,480,512\n",
      "            Linear-8                   [-1, 29]          14,877\n",
      "================================================================\n",
      "Total params: 20,518,973\n",
      "Trainable params: 0\n",
      "Non-trainable params: 20,518,973\n",
      "----------------------------------------------------------------\n",
      "Input size (MB): 0.46\n",
      "Forward/backward pass size (MB): 10.69\n",
      "Params size (MB): 78.27\n",
      "Estimated Total Size (MB): 89.42\n",
      "----------------------------------------------------------------\n"
     ]
    }
   ],
   "execution_count": 37
  },
  {
   "cell_type": "markdown",
   "metadata": {},
   "source": [
    "## Train models\n"
   ]
  },
  {
   "cell_type": "code",
   "metadata": {
    "ExecuteTime": {
     "end_time": "2024-08-12T10:38:46.060849Z",
     "start_time": "2024-08-12T10:38:46.057590Z"
    }
   },
   "source": [
    "# train model function\n",
    "def train_model(model, train_loader, criterion, optimizer, device, num_epochs=10):\n",
    "    epochs_losses = []\n",
    "    for epoch in range(num_epochs):\n",
    "        model.train()\n",
    "        epoch_loss = 0.0\n",
    "        for inputs, labels in train_loader:\n",
    "            inputs, labels = inputs.to(device), labels.to(device)\n",
    "            optimizer.zero_grad()\n",
    "            outputs = model(inputs)\n",
    "            loss = criterion(outputs, labels)\n",
    "            loss.backward()\n",
    "            optimizer.step()\n",
    "            epoch_loss += loss.item() * inputs.size(0)\n",
    "        epoch_loss /= len(train_loader.dataset)\n",
    "        epochs_losses.append(epoch_loss)\n",
    "        print(f\"Epoch {epoch+1}/{num_epochs}, Loss: {epoch_loss:.4f}\")\n",
    "    return epochs_losses\n"
   ],
   "outputs": [],
   "execution_count": 38
  },
  {
   "cell_type": "markdown",
   "metadata": {},
   "source": [
    "### AlexNet\n"
   ]
  },
  {
   "cell_type": "code",
   "metadata": {
    "ExecuteTime": {
     "end_time": "2024-08-12T10:38:46.611100Z",
     "start_time": "2024-08-12T10:38:46.062094Z"
    }
   },
   "source": [
    "AlexNet_model_losses = None\n",
    "model_path = 'tmp/models/ASL_AlexNet_model_V1.0.0.pth'\n",
    "model_losses_path = 'tmp/model_losses/ASL_AlexNet_model_losses_V1.0.0.json'\n",
    "\n",
    "if os.path.isfile(model_path):\n",
    "    AlexNet_model = torch.load(model_path)\n",
    "\n",
    "    with open(model_losses_path) as filehandle:\n",
    "        AlexNet_model_losses = json.load(filehandle)\n",
    "else:\n",
    "    AlexNet_model_losses = train_model(AlexNet_model, train_loader, AlexNet_model_criterion, AlexNet_model_optimizer, device, num_epochs=10)\n",
    "    torch.save(AlexNet_model, model_path)\n",
    "\n",
    "    with open(model_losses_path, 'w') as filehandle:\n",
    "        json.dump(AlexNet_model_losses, filehandle)\n"
   ],
   "outputs": [
    {
     "name": "stderr",
     "output_type": "stream",
     "text": [
      "/tmp/ipykernel_15430/4078207358.py:6: FutureWarning: You are using `torch.load` with `weights_only=False` (the current default value), which uses the default pickle module implicitly. It is possible to construct malicious pickle data which will execute arbitrary code during unpickling (See https://github.com/pytorch/pytorch/blob/main/SECURITY.md#untrusted-models for more details). In a future release, the default value for `weights_only` will be flipped to `True`. This limits the functions that could be executed during unpickling. Arbitrary objects will no longer be allowed to be loaded via this mode unless they are explicitly allowlisted by the user via `torch.serialization.add_safe_globals`. We recommend you start setting `weights_only=True` for any use case where you don't have full control of the loaded file. Please open an issue on GitHub for any issues related to this experimental feature.\n",
      "  AlexNet_model = torch.load(model_path)\n"
     ]
    }
   ],
   "execution_count": 39
  },
  {
   "metadata": {
    "ExecuteTime": {
     "end_time": "2024-08-12T10:38:46.615034Z",
     "start_time": "2024-08-12T10:38:46.611888Z"
    }
   },
   "cell_type": "code",
   "source": "AlexNet_model_losses\n",
   "outputs": [
    {
     "data": {
      "text/plain": [
       "[3.3359750007760938,\n",
       " 3.2868938556758835,\n",
       " 3.254464733956874,\n",
       " 3.227686857903141,\n",
       " 3.2068073042507828,\n",
       " 3.1876751477690948,\n",
       " 3.1705563032216038,\n",
       " 3.1564471135194276,\n",
       " 3.1416036286847344,\n",
       " 3.1283197047792632]"
      ]
     },
     "execution_count": 40,
     "metadata": {},
     "output_type": "execute_result"
    }
   ],
   "execution_count": 40
  },
  {
   "cell_type": "markdown",
   "metadata": {},
   "source": [
    "### GoogleNet\n"
   ]
  },
  {
   "cell_type": "code",
   "metadata": {
    "ExecuteTime": {
     "end_time": "2024-08-12T10:38:46.734009Z",
     "start_time": "2024-08-12T10:38:46.619318Z"
    }
   },
   "source": [
    "GoogleNet_model_losses = None\n",
    "model_path = 'tmp/models/ASL_GoogleNet_model_V1.0.0.pth'\n",
    "model_losses_path = 'tmp/model_losses/ASL_GoogleNet_model_losses_V1.0.0.json'\n",
    "\n",
    "if os.path.isfile(model_path):\n",
    "    GoogleNet_model = torch.load(model_path)\n",
    "\n",
    "    with open(model_losses_path) as filehandle:\n",
    "        GoogleNet_model_losses = json.load(filehandle)\n",
    "else:\n",
    "    GoogleNet_model_losses = train_model(GoogleNet_model, train_loader, GoogleNet_model_criterion, GoogleNet_model_optimizer, device, num_epochs=10)\n",
    "    torch.save(GoogleNet_model, model_path)\n",
    "\n",
    "    with open(model_losses_path, 'w') as filehandle:\n",
    "        json.dump(GoogleNet_model_losses, filehandle)\n"
   ],
   "outputs": [
    {
     "name": "stderr",
     "output_type": "stream",
     "text": [
      "/tmp/ipykernel_15430/1472256004.py:6: FutureWarning: You are using `torch.load` with `weights_only=False` (the current default value), which uses the default pickle module implicitly. It is possible to construct malicious pickle data which will execute arbitrary code during unpickling (See https://github.com/pytorch/pytorch/blob/main/SECURITY.md#untrusted-models for more details). In a future release, the default value for `weights_only` will be flipped to `True`. This limits the functions that could be executed during unpickling. Arbitrary objects will no longer be allowed to be loaded via this mode unless they are explicitly allowlisted by the user via `torch.serialization.add_safe_globals`. We recommend you start setting `weights_only=True` for any use case where you don't have full control of the loaded file. Please open an issue on GitHub for any issues related to this experimental feature.\n",
      "  GoogleNet_model = torch.load(model_path)\n"
     ]
    }
   ],
   "execution_count": 41
  },
  {
   "metadata": {
    "ExecuteTime": {
     "end_time": "2024-08-12T10:38:46.737698Z",
     "start_time": "2024-08-12T10:38:46.734812Z"
    }
   },
   "cell_type": "code",
   "source": "GoogleNet_model_losses\n",
   "outputs": [
    {
     "data": {
      "text/plain": [
       "[0.7923016272536639,\n",
       " 0.3358603435583498,\n",
       " 0.27094705465196195,\n",
       " 0.24122620480841603,\n",
       " 0.2319349822573278,\n",
       " 0.2167101205979613,\n",
       " 0.2124257630786334,\n",
       " 0.20576974114124802,\n",
       " 0.20216896911719065,\n",
       " 0.19896673297231224]"
      ]
     },
     "execution_count": 42,
     "metadata": {},
     "output_type": "execute_result"
    }
   ],
   "execution_count": 42
  },
  {
   "cell_type": "markdown",
   "metadata": {},
   "source": [
    "### MobileNet V2\n"
   ]
  },
  {
   "cell_type": "code",
   "metadata": {
    "ExecuteTime": {
     "end_time": "2024-08-12T10:38:46.816918Z",
     "start_time": "2024-08-12T10:38:46.738469Z"
    }
   },
   "source": [
    "MobileNetV2_model_losses = None\n",
    "model_path = 'tmp/models/ASL_MobileNetV2_model_V1.0.0.pth'\n",
    "model_losses_path = 'tmp/model_losses/ASL_MobileNetV2_model_losses_V1.0.0.json'\n",
    "\n",
    "if os.path.isfile(model_path):\n",
    "    MobileNetV2_model = torch.load(model_path)\n",
    "\n",
    "    with open(model_losses_path) as filehandle:\n",
    "        MobileNetV2_model_losses = json.load(filehandle)\n",
    "else:\n",
    "    MobileNetV2_model_losses = train_model(MobileNetV2_model, train_loader, MobileNetV2_model_criterion, MobileNetV2_model_optimizer, device, num_epochs=10)\n",
    "    torch.save(MobileNetV2_model, model_path)\n",
    "\n",
    "    with open(model_losses_path, 'w') as filehandle:\n",
    "        json.dump(MobileNetV2_model_losses, filehandle)\n"
   ],
   "outputs": [
    {
     "name": "stderr",
     "output_type": "stream",
     "text": [
      "/tmp/ipykernel_15430/3427863762.py:6: FutureWarning: You are using `torch.load` with `weights_only=False` (the current default value), which uses the default pickle module implicitly. It is possible to construct malicious pickle data which will execute arbitrary code during unpickling (See https://github.com/pytorch/pytorch/blob/main/SECURITY.md#untrusted-models for more details). In a future release, the default value for `weights_only` will be flipped to `True`. This limits the functions that could be executed during unpickling. Arbitrary objects will no longer be allowed to be loaded via this mode unless they are explicitly allowlisted by the user via `torch.serialization.add_safe_globals`. We recommend you start setting `weights_only=True` for any use case where you don't have full control of the loaded file. Please open an issue on GitHub for any issues related to this experimental feature.\n",
      "  MobileNetV2_model = torch.load(model_path)\n"
     ]
    }
   ],
   "execution_count": 43
  },
  {
   "metadata": {
    "ExecuteTime": {
     "end_time": "2024-08-12T10:38:46.821048Z",
     "start_time": "2024-08-12T10:38:46.817793Z"
    }
   },
   "cell_type": "code",
   "source": "MobileNetV2_model_losses\n",
   "outputs": [
    {
     "data": {
      "text/plain": [
       "[3.2671033352818983,\n",
       " 3.182671429206585,\n",
       " 3.158789984604408,\n",
       " 3.1437734454801713,\n",
       " 3.1388411470391286,\n",
       " 3.137629798034142,\n",
       " 3.1300801690419515,\n",
       " 3.1276025392817353,\n",
       " 3.1296565166561083,\n",
       " 3.1289925769279745]"
      ]
     },
     "execution_count": 44,
     "metadata": {},
     "output_type": "execute_result"
    }
   ],
   "execution_count": 44
  },
  {
   "cell_type": "markdown",
   "metadata": {},
   "source": "### MobileNet V3\n"
  },
  {
   "cell_type": "code",
   "metadata": {
    "ExecuteTime": {
     "end_time": "2024-08-12T10:38:46.920725Z",
     "start_time": "2024-08-12T10:38:46.822092Z"
    }
   },
   "source": [
    "MobileNetV3_model_losses = None\n",
    "model_path = 'tmp/models/ASL_MobileNetV3_model_V1.0.0.pth'\n",
    "model_losses_path = 'tmp/model_losses/ASL_MobileNetV3_model_losses_V1.0.0.json'\n",
    "\n",
    "if os.path.isfile(model_path):\n",
    "    MobileNetV3_model = torch.load(model_path)\n",
    "\n",
    "    with open(model_losses_path) as filehandle:\n",
    "        MobileNetV3_model_losses = json.load(filehandle)\n",
    "else:\n",
    "    MobileNetV3_model_losses = train_model(MobileNetV3_model, train_loader, MobileNetV3_model_criterion, MobileNetV3_model_optimizer, device, num_epochs=10)\n",
    "    torch.save(MobileNetV3_model, model_path)\n",
    "\n",
    "    with open(model_losses_path, 'w') as filehandle:\n",
    "        json.dump(MobileNetV3_model_losses, filehandle)\n"
   ],
   "outputs": [
    {
     "name": "stderr",
     "output_type": "stream",
     "text": [
      "/tmp/ipykernel_15430/2089748051.py:6: FutureWarning: You are using `torch.load` with `weights_only=False` (the current default value), which uses the default pickle module implicitly. It is possible to construct malicious pickle data which will execute arbitrary code during unpickling (See https://github.com/pytorch/pytorch/blob/main/SECURITY.md#untrusted-models for more details). In a future release, the default value for `weights_only` will be flipped to `True`. This limits the functions that could be executed during unpickling. Arbitrary objects will no longer be allowed to be loaded via this mode unless they are explicitly allowlisted by the user via `torch.serialization.add_safe_globals`. We recommend you start setting `weights_only=True` for any use case where you don't have full control of the loaded file. Please open an issue on GitHub for any issues related to this experimental feature.\n",
      "  MobileNetV3_model = torch.load(model_path)\n"
     ]
    }
   ],
   "execution_count": 45
  },
  {
   "metadata": {
    "ExecuteTime": {
     "end_time": "2024-08-12T10:38:46.926059Z",
     "start_time": "2024-08-12T10:38:46.922019Z"
    }
   },
   "cell_type": "code",
   "source": "MobileNetV3_model_losses\n",
   "outputs": [
    {
     "data": {
      "text/plain": [
       "[3.2070814531698995,\n",
       " 3.078909124505931,\n",
       " 3.0094806751163525,\n",
       " 2.961643283668606,\n",
       " 2.9239454576338844,\n",
       " 2.8983464495340985,\n",
       " 2.8717991804802554,\n",
       " 2.8504027408292925,\n",
       " 2.8358486945053625,\n",
       " 2.822098655591066]"
      ]
     },
     "execution_count": 46,
     "metadata": {},
     "output_type": "execute_result"
    }
   ],
   "execution_count": 46
  },
  {
   "cell_type": "markdown",
   "metadata": {},
   "source": [
    "### ResNet 18\n"
   ]
  },
  {
   "cell_type": "code",
   "metadata": {
    "ExecuteTime": {
     "end_time": "2024-08-12T10:38:47.050556Z",
     "start_time": "2024-08-12T10:38:46.927283Z"
    }
   },
   "source": [
    "ResNet18_model_losses = None\n",
    "model_path = 'tmp/models/ASL_ResNet18_model_V1.0.0.pth'\n",
    "model_losses_path = 'tmp/model_losses/ASL_ResNet18_model_losses_V1.0.0.json'\n",
    "\n",
    "if os.path.isfile(model_path):\n",
    "    ResNet18_model = torch.load(model_path)\n",
    "\n",
    "    with open(model_losses_path) as filehandle:\n",
    "        ResNet18_model_losses = json.load(filehandle)\n",
    "else:\n",
    "    ResNet18_model_losses = train_model(ResNet18_model, train_loader, ResNet18_model_criterion, ResNet18_model_optimizer, device, num_epochs=10)\n",
    "    torch.save(ResNet18_model, model_path)\n",
    "\n",
    "    with open(model_losses_path, 'w') as filehandle:\n",
    "        json.dump(ResNet18_model_losses, filehandle)\n"
   ],
   "outputs": [
    {
     "name": "stderr",
     "output_type": "stream",
     "text": [
      "/tmp/ipykernel_15430/2969148049.py:6: FutureWarning: You are using `torch.load` with `weights_only=False` (the current default value), which uses the default pickle module implicitly. It is possible to construct malicious pickle data which will execute arbitrary code during unpickling (See https://github.com/pytorch/pytorch/blob/main/SECURITY.md#untrusted-models for more details). In a future release, the default value for `weights_only` will be flipped to `True`. This limits the functions that could be executed during unpickling. Arbitrary objects will no longer be allowed to be loaded via this mode unless they are explicitly allowlisted by the user via `torch.serialization.add_safe_globals`. We recommend you start setting `weights_only=True` for any use case where you don't have full control of the loaded file. Please open an issue on GitHub for any issues related to this experimental feature.\n",
      "  ResNet18_model = torch.load(model_path)\n"
     ]
    }
   ],
   "execution_count": 47
  },
  {
   "metadata": {
    "ExecuteTime": {
     "end_time": "2024-08-12T10:38:47.055097Z",
     "start_time": "2024-08-12T10:38:47.051465Z"
    }
   },
   "cell_type": "code",
   "source": "ResNet18_model_losses\n",
   "outputs": [
    {
     "data": {
      "text/plain": [
       "[3.0488622390264752,\n",
       " 2.6016368850072227,\n",
       " 2.339406366622311,\n",
       " 2.154723244919174,\n",
       " 2.018670006456046,\n",
       " 1.912053126192641,\n",
       " 1.825718586965539,\n",
       " 1.7507426060753306,\n",
       " 1.687544457282143,\n",
       " 1.6353598319525007]"
      ]
     },
     "execution_count": 48,
     "metadata": {},
     "output_type": "execute_result"
    }
   ],
   "execution_count": 48
  },
  {
   "cell_type": "markdown",
   "metadata": {},
   "source": [
    "### ResNet 50\n"
   ]
  },
  {
   "cell_type": "code",
   "metadata": {
    "ExecuteTime": {
     "end_time": "2024-08-12T10:38:47.330689Z",
     "start_time": "2024-08-12T10:38:47.056336Z"
    }
   },
   "source": [
    "ResNet50_model_losses = None\n",
    "model_path = 'tmp/models/ASL_ResNet50_model_V1.0.0.pth'\n",
    "model_losses_path = 'tmp/model_losses/ASL_ResNet50_model_losses_V1.0.0.json'\n",
    "\n",
    "if os.path.isfile(model_path):\n",
    "    ResNet50_model = torch.load(model_path)\n",
    "\n",
    "    with open(model_losses_path) as filehandle:\n",
    "        ResNet50_model_losses = json.load(filehandle)\n",
    "else:\n",
    "    ResNet50_model_losses = train_model(ResNet50_model, train_loader, ResNet50_model_criterion, ResNet50_model_optimizer, device, num_epochs=10)\n",
    "    torch.save(ResNet50_model, model_path)\n",
    "\n",
    "    with open(model_losses_path, 'w') as filehandle:\n",
    "        json.dump(ResNet50_model_losses, filehandle)\n"
   ],
   "outputs": [
    {
     "name": "stderr",
     "output_type": "stream",
     "text": [
      "/tmp/ipykernel_15430/2992874523.py:6: FutureWarning: You are using `torch.load` with `weights_only=False` (the current default value), which uses the default pickle module implicitly. It is possible to construct malicious pickle data which will execute arbitrary code during unpickling (See https://github.com/pytorch/pytorch/blob/main/SECURITY.md#untrusted-models for more details). In a future release, the default value for `weights_only` will be flipped to `True`. This limits the functions that could be executed during unpickling. Arbitrary objects will no longer be allowed to be loaded via this mode unless they are explicitly allowlisted by the user via `torch.serialization.add_safe_globals`. We recommend you start setting `weights_only=True` for any use case where you don't have full control of the loaded file. Please open an issue on GitHub for any issues related to this experimental feature.\n",
      "  ResNet50_model = torch.load(model_path)\n"
     ]
    }
   ],
   "execution_count": 49
  },
  {
   "metadata": {
    "ExecuteTime": {
     "end_time": "2024-08-12T10:38:47.334850Z",
     "start_time": "2024-08-12T10:38:47.331712Z"
    }
   },
   "cell_type": "code",
   "source": "ResNet50_model_losses\n",
   "outputs": [
    {
     "data": {
      "text/plain": [
       "[3.3468441212314297,\n",
       " 2.892827894386204,\n",
       " 2.617551605016336,\n",
       " 2.432728089518931,\n",
       " 2.2967000583670605,\n",
       " 2.215279701441184,\n",
       " 2.1256081685252575,\n",
       " 2.0582952606815033,\n",
       " 2.009901752033453,\n",
       " 1.9547103526674467]"
      ]
     },
     "execution_count": 50,
     "metadata": {},
     "output_type": "execute_result"
    }
   ],
   "execution_count": 50
  },
  {
   "cell_type": "markdown",
   "metadata": {},
   "source": [
    "### Vgg16\n"
   ]
  },
  {
   "cell_type": "code",
   "metadata": {
    "ExecuteTime": {
     "end_time": "2024-08-12T10:38:48.622463Z",
     "start_time": "2024-08-12T10:38:47.335887Z"
    }
   },
   "source": [
    "Vgg16_model_losses = None\n",
    "model_path = 'tmp/models/ASL_Vgg16_model_V1.0.0.pth'\n",
    "model_losses_path = 'tmp/model_losses/ASL_Vgg16_model_losses_V1.0.0.json'\n",
    "\n",
    "if os.path.isfile(model_path):\n",
    "    Vgg16_model = torch.load(model_path)\n",
    "\n",
    "    with open(model_losses_path) as filehandle:\n",
    "        Vgg16_model_losses = json.load(filehandle)\n",
    "else:\n",
    "    Vgg16_model_losses = train_model(Vgg16_model, train_loader, Vgg16_model_criterion, Vgg16_model_optimizer, device, num_epochs=10)\n",
    "    torch.save(Vgg16_model, model_path)\n",
    "\n",
    "    with open(model_losses_path, 'w') as filehandle:\n",
    "        json.dump(Vgg16_model_losses, filehandle)\n"
   ],
   "outputs": [
    {
     "name": "stderr",
     "output_type": "stream",
     "text": [
      "/tmp/ipykernel_15430/2129765.py:6: FutureWarning: You are using `torch.load` with `weights_only=False` (the current default value), which uses the default pickle module implicitly. It is possible to construct malicious pickle data which will execute arbitrary code during unpickling (See https://github.com/pytorch/pytorch/blob/main/SECURITY.md#untrusted-models for more details). In a future release, the default value for `weights_only` will be flipped to `True`. This limits the functions that could be executed during unpickling. Arbitrary objects will no longer be allowed to be loaded via this mode unless they are explicitly allowlisted by the user via `torch.serialization.add_safe_globals`. We recommend you start setting `weights_only=True` for any use case where you don't have full control of the loaded file. Please open an issue on GitHub for any issues related to this experimental feature.\n",
      "  Vgg16_model = torch.load(model_path)\n"
     ]
    }
   ],
   "execution_count": 51
  },
  {
   "metadata": {
    "ExecuteTime": {
     "end_time": "2024-08-12T10:38:48.627306Z",
     "start_time": "2024-08-12T10:38:48.623313Z"
    }
   },
   "cell_type": "code",
   "source": "Vgg16_model_losses\n",
   "outputs": [
    {
     "data": {
      "text/plain": [
       "[3.2517616985584126,\n",
       " 3.107810601968875,\n",
       " 3.034263639888544,\n",
       " 2.9905968663884304,\n",
       " 2.958649457186118,\n",
       " 2.941178780698228,\n",
       " 2.920728112911356,\n",
       " 2.9112937031669177,\n",
       " 2.895607093613723,\n",
       " 2.8907437826573164]"
      ]
     },
     "execution_count": 52,
     "metadata": {},
     "output_type": "execute_result"
    }
   ],
   "execution_count": 52
  },
  {
   "cell_type": "markdown",
   "metadata": {},
   "source": [
    "### Vgg19\n"
   ]
  },
  {
   "cell_type": "code",
   "metadata": {
    "ExecuteTime": {
     "end_time": "2024-08-12T10:38:49.898574Z",
     "start_time": "2024-08-12T10:38:48.628613Z"
    }
   },
   "source": [
    "Vgg19_model_losses = None\n",
    "model_path = 'tmp/models/ASL_Vgg19_model_V1.0.0.pth'\n",
    "model_losses_path = 'tmp/model_losses/ASL_Vgg19_model_losses_V1.0.0.json'\n",
    "\n",
    "if os.path.isfile(model_path):\n",
    "    Vgg19_model = torch.load(model_path)\n",
    "\n",
    "    with open(model_losses_path) as filehandle:\n",
    "        Vgg19_model_losses = json.load(filehandle)\n",
    "else:\n",
    "    Vgg19_model_losses = train_model(Vgg19_model, train_loader, Vgg19_model_criterion, Vgg19_model_optimizer, device, num_epochs=10)\n",
    "    torch.save(Vgg19_model, model_path)\n",
    "\n",
    "    with open(model_losses_path, 'w') as filehandle:\n",
    "        json.dump(Vgg19_model_losses, filehandle)\n"
   ],
   "outputs": [
    {
     "name": "stderr",
     "output_type": "stream",
     "text": [
      "/tmp/ipykernel_15430/3466827899.py:6: FutureWarning: You are using `torch.load` with `weights_only=False` (the current default value), which uses the default pickle module implicitly. It is possible to construct malicious pickle data which will execute arbitrary code during unpickling (See https://github.com/pytorch/pytorch/blob/main/SECURITY.md#untrusted-models for more details). In a future release, the default value for `weights_only` will be flipped to `True`. This limits the functions that could be executed during unpickling. Arbitrary objects will no longer be allowed to be loaded via this mode unless they are explicitly allowlisted by the user via `torch.serialization.add_safe_globals`. We recommend you start setting `weights_only=True` for any use case where you don't have full control of the loaded file. Please open an issue on GitHub for any issues related to this experimental feature.\n",
      "  Vgg19_model = torch.load(model_path)\n"
     ]
    }
   ],
   "execution_count": 53
  },
  {
   "metadata": {
    "ExecuteTime": {
     "end_time": "2024-08-12T10:38:49.903303Z",
     "start_time": "2024-08-12T10:38:49.899514Z"
    }
   },
   "cell_type": "code",
   "source": "Vgg19_model_losses\n",
   "outputs": [
    {
     "data": {
      "text/plain": [
       "[3.213971840211715,\n",
       " 3.051010123724225,\n",
       " 2.974899961318093,\n",
       " 2.9330778336799006,\n",
       " 2.9044920863228283,\n",
       " 2.8806046074834364,\n",
       " 2.8631773362214537,\n",
       " 2.846315928382435,\n",
       " 2.843897694225969,\n",
       " 2.833175481379717]"
      ]
     },
     "execution_count": 54,
     "metadata": {},
     "output_type": "execute_result"
    }
   ],
   "execution_count": 54
  },
  {
   "cell_type": "markdown",
   "metadata": {},
   "source": [
    "### Custom\n"
   ]
  },
  {
   "cell_type": "code",
   "metadata": {
    "ExecuteTime": {
     "end_time": "2024-08-12T10:38:50.281288Z",
     "start_time": "2024-08-12T10:38:49.904259Z"
    }
   },
   "source": [
    "Custom_model_losses = None\n",
    "model_path = 'tmp/models/ASL_Custom_model_V1.0.0.pth'\n",
    "model_losses_path = 'tmp/model_losses/ASL_Custom_model_losses_V1.0.0.json'\n",
    "\n",
    "if os.path.isfile(model_path):\n",
    "    Custom_model = torch.load(model_path)\n",
    "\n",
    "    with open(model_losses_path) as filehandle:\n",
    "        Custom_model_losses = json.load(filehandle)\n",
    "else:\n",
    "    Custom_model_losses = train_model(Custom_model, train_loader, Custom_model_criterion, Custom_model_optimizer, device, num_epochs=10)\n",
    "    torch.save(Custom_model, model_path)\n",
    "\n",
    "    with open(model_losses_path, 'w') as filehandle:\n",
    "        json.dump(Custom_model_losses, filehandle)\n"
   ],
   "outputs": [
    {
     "ename": "RuntimeError",
     "evalue": "element 0 of tensors does not require grad and does not have a grad_fn",
     "output_type": "error",
     "traceback": [
      "\u001B[0;31m---------------------------------------------------------------------------\u001B[0m",
      "\u001B[0;31mRuntimeError\u001B[0m                              Traceback (most recent call last)",
      "Cell \u001B[0;32mIn[55], line 11\u001B[0m\n\u001B[1;32m      9\u001B[0m         Custom_model_losses \u001B[38;5;241m=\u001B[39m json\u001B[38;5;241m.\u001B[39mload(filehandle)\n\u001B[1;32m     10\u001B[0m \u001B[38;5;28;01melse\u001B[39;00m:\n\u001B[0;32m---> 11\u001B[0m     Custom_model_losses \u001B[38;5;241m=\u001B[39m \u001B[43mtrain_model\u001B[49m\u001B[43m(\u001B[49m\u001B[43mCustom_model\u001B[49m\u001B[43m,\u001B[49m\u001B[43m \u001B[49m\u001B[43mtrain_loader\u001B[49m\u001B[43m,\u001B[49m\u001B[43m \u001B[49m\u001B[43mCustom_model_criterion\u001B[49m\u001B[43m,\u001B[49m\u001B[43m \u001B[49m\u001B[43mCustom_model_optimizer\u001B[49m\u001B[43m,\u001B[49m\u001B[43m \u001B[49m\u001B[43mdevice\u001B[49m\u001B[43m,\u001B[49m\u001B[43m \u001B[49m\u001B[43mnum_epochs\u001B[49m\u001B[38;5;241;43m=\u001B[39;49m\u001B[38;5;241;43m10\u001B[39;49m\u001B[43m)\u001B[49m\n\u001B[1;32m     12\u001B[0m     torch\u001B[38;5;241m.\u001B[39msave(Custom_model, model_path)\n\u001B[1;32m     14\u001B[0m     \u001B[38;5;28;01mwith\u001B[39;00m \u001B[38;5;28mopen\u001B[39m(model_losses_path, \u001B[38;5;124m'\u001B[39m\u001B[38;5;124mw\u001B[39m\u001B[38;5;124m'\u001B[39m) \u001B[38;5;28;01mas\u001B[39;00m filehandle:\n",
      "Cell \u001B[0;32mIn[38], line 12\u001B[0m, in \u001B[0;36mtrain_model\u001B[0;34m(model, train_loader, criterion, optimizer, device, num_epochs)\u001B[0m\n\u001B[1;32m     10\u001B[0m outputs \u001B[38;5;241m=\u001B[39m model(inputs)\n\u001B[1;32m     11\u001B[0m loss \u001B[38;5;241m=\u001B[39m criterion(outputs, labels)\n\u001B[0;32m---> 12\u001B[0m \u001B[43mloss\u001B[49m\u001B[38;5;241;43m.\u001B[39;49m\u001B[43mbackward\u001B[49m\u001B[43m(\u001B[49m\u001B[43m)\u001B[49m\n\u001B[1;32m     13\u001B[0m optimizer\u001B[38;5;241m.\u001B[39mstep()\n\u001B[1;32m     14\u001B[0m epoch_loss \u001B[38;5;241m+\u001B[39m\u001B[38;5;241m=\u001B[39m loss\u001B[38;5;241m.\u001B[39mitem() \u001B[38;5;241m*\u001B[39m inputs\u001B[38;5;241m.\u001B[39msize(\u001B[38;5;241m0\u001B[39m)\n",
      "File \u001B[0;32m~/data/workspace/studies/uekat-master-degree-studies-thesis/model/venv/lib/python3.12/site-packages/torch/_tensor.py:521\u001B[0m, in \u001B[0;36mTensor.backward\u001B[0;34m(self, gradient, retain_graph, create_graph, inputs)\u001B[0m\n\u001B[1;32m    511\u001B[0m \u001B[38;5;28;01mif\u001B[39;00m has_torch_function_unary(\u001B[38;5;28mself\u001B[39m):\n\u001B[1;32m    512\u001B[0m     \u001B[38;5;28;01mreturn\u001B[39;00m handle_torch_function(\n\u001B[1;32m    513\u001B[0m         Tensor\u001B[38;5;241m.\u001B[39mbackward,\n\u001B[1;32m    514\u001B[0m         (\u001B[38;5;28mself\u001B[39m,),\n\u001B[0;32m   (...)\u001B[0m\n\u001B[1;32m    519\u001B[0m         inputs\u001B[38;5;241m=\u001B[39minputs,\n\u001B[1;32m    520\u001B[0m     )\n\u001B[0;32m--> 521\u001B[0m \u001B[43mtorch\u001B[49m\u001B[38;5;241;43m.\u001B[39;49m\u001B[43mautograd\u001B[49m\u001B[38;5;241;43m.\u001B[39;49m\u001B[43mbackward\u001B[49m\u001B[43m(\u001B[49m\n\u001B[1;32m    522\u001B[0m \u001B[43m    \u001B[49m\u001B[38;5;28;43mself\u001B[39;49m\u001B[43m,\u001B[49m\u001B[43m \u001B[49m\u001B[43mgradient\u001B[49m\u001B[43m,\u001B[49m\u001B[43m \u001B[49m\u001B[43mretain_graph\u001B[49m\u001B[43m,\u001B[49m\u001B[43m \u001B[49m\u001B[43mcreate_graph\u001B[49m\u001B[43m,\u001B[49m\u001B[43m \u001B[49m\u001B[43minputs\u001B[49m\u001B[38;5;241;43m=\u001B[39;49m\u001B[43minputs\u001B[49m\n\u001B[1;32m    523\u001B[0m \u001B[43m\u001B[49m\u001B[43m)\u001B[49m\n",
      "File \u001B[0;32m~/data/workspace/studies/uekat-master-degree-studies-thesis/model/venv/lib/python3.12/site-packages/torch/autograd/__init__.py:289\u001B[0m, in \u001B[0;36mbackward\u001B[0;34m(tensors, grad_tensors, retain_graph, create_graph, grad_variables, inputs)\u001B[0m\n\u001B[1;32m    284\u001B[0m     retain_graph \u001B[38;5;241m=\u001B[39m create_graph\n\u001B[1;32m    286\u001B[0m \u001B[38;5;66;03m# The reason we repeat the same comment below is that\u001B[39;00m\n\u001B[1;32m    287\u001B[0m \u001B[38;5;66;03m# some Python versions print out the first line of a multi-line function\u001B[39;00m\n\u001B[1;32m    288\u001B[0m \u001B[38;5;66;03m# calls in the traceback and some print out the last line\u001B[39;00m\n\u001B[0;32m--> 289\u001B[0m \u001B[43m_engine_run_backward\u001B[49m\u001B[43m(\u001B[49m\n\u001B[1;32m    290\u001B[0m \u001B[43m    \u001B[49m\u001B[43mtensors\u001B[49m\u001B[43m,\u001B[49m\n\u001B[1;32m    291\u001B[0m \u001B[43m    \u001B[49m\u001B[43mgrad_tensors_\u001B[49m\u001B[43m,\u001B[49m\n\u001B[1;32m    292\u001B[0m \u001B[43m    \u001B[49m\u001B[43mretain_graph\u001B[49m\u001B[43m,\u001B[49m\n\u001B[1;32m    293\u001B[0m \u001B[43m    \u001B[49m\u001B[43mcreate_graph\u001B[49m\u001B[43m,\u001B[49m\n\u001B[1;32m    294\u001B[0m \u001B[43m    \u001B[49m\u001B[43minputs\u001B[49m\u001B[43m,\u001B[49m\n\u001B[1;32m    295\u001B[0m \u001B[43m    \u001B[49m\u001B[43mallow_unreachable\u001B[49m\u001B[38;5;241;43m=\u001B[39;49m\u001B[38;5;28;43;01mTrue\u001B[39;49;00m\u001B[43m,\u001B[49m\n\u001B[1;32m    296\u001B[0m \u001B[43m    \u001B[49m\u001B[43maccumulate_grad\u001B[49m\u001B[38;5;241;43m=\u001B[39;49m\u001B[38;5;28;43;01mTrue\u001B[39;49;00m\u001B[43m,\u001B[49m\n\u001B[1;32m    297\u001B[0m \u001B[43m\u001B[49m\u001B[43m)\u001B[49m\n",
      "File \u001B[0;32m~/data/workspace/studies/uekat-master-degree-studies-thesis/model/venv/lib/python3.12/site-packages/torch/autograd/graph.py:768\u001B[0m, in \u001B[0;36m_engine_run_backward\u001B[0;34m(t_outputs, *args, **kwargs)\u001B[0m\n\u001B[1;32m    766\u001B[0m     unregister_hooks \u001B[38;5;241m=\u001B[39m _register_logging_hooks_on_whole_graph(t_outputs)\n\u001B[1;32m    767\u001B[0m \u001B[38;5;28;01mtry\u001B[39;00m:\n\u001B[0;32m--> 768\u001B[0m     \u001B[38;5;28;01mreturn\u001B[39;00m \u001B[43mVariable\u001B[49m\u001B[38;5;241;43m.\u001B[39;49m\u001B[43m_execution_engine\u001B[49m\u001B[38;5;241;43m.\u001B[39;49m\u001B[43mrun_backward\u001B[49m\u001B[43m(\u001B[49m\u001B[43m  \u001B[49m\u001B[38;5;66;43;03m# Calls into the C++ engine to run the backward pass\u001B[39;49;00m\n\u001B[1;32m    769\u001B[0m \u001B[43m        \u001B[49m\u001B[43mt_outputs\u001B[49m\u001B[43m,\u001B[49m\u001B[43m \u001B[49m\u001B[38;5;241;43m*\u001B[39;49m\u001B[43margs\u001B[49m\u001B[43m,\u001B[49m\u001B[43m \u001B[49m\u001B[38;5;241;43m*\u001B[39;49m\u001B[38;5;241;43m*\u001B[39;49m\u001B[43mkwargs\u001B[49m\n\u001B[1;32m    770\u001B[0m \u001B[43m    \u001B[49m\u001B[43m)\u001B[49m  \u001B[38;5;66;03m# Calls into the C++ engine to run the backward pass\u001B[39;00m\n\u001B[1;32m    771\u001B[0m \u001B[38;5;28;01mfinally\u001B[39;00m:\n\u001B[1;32m    772\u001B[0m     \u001B[38;5;28;01mif\u001B[39;00m attach_logging_hooks:\n",
      "\u001B[0;31mRuntimeError\u001B[0m: element 0 of tensors does not require grad and does not have a grad_fn"
     ]
    }
   ],
   "execution_count": 55
  },
  {
   "metadata": {},
   "cell_type": "code",
   "source": "Custom_model_losses\n",
   "outputs": [],
   "execution_count": null
  },
  {
   "metadata": {},
   "cell_type": "markdown",
   "source": "### Losses plot\n"
  },
  {
   "metadata": {},
   "cell_type": "code",
   "source": [
    "all_losses = [\n",
    "    AlexNet_model_losses,\n",
    "    GoogleNet_model_losses,\n",
    "    MobileNetV2_model_losses,\n",
    "    MobileNetV3_model_losses,\n",
    "    ResNet18_model_losses,\n",
    "    ResNet50_model_losses,\n",
    "    Vgg16_model_losses,\n",
    "    Vgg19_model_losses,\n",
    "    Custom_model_losses,\n",
    "]\n",
    "\n",
    "plt.figure(figsize=(10, 5))\n",
    "for losses in all_losses:\n",
    "    plt.plot(losses)\n",
    "plt.title('Model Losses')\n",
    "plt.ylabel('Loss')\n",
    "plt.xlabel('Epoch')\n",
    "plt.legend([\n",
    "    \"AlexNet\",\n",
    "    \"GoogleNet\",\n",
    "    \"MobileNetV2\",\n",
    "    \"MobileNetV3\",\n",
    "    \"ResNet18\",\n",
    "    \"ResNet50\",\n",
    "    \"Vgg16\",\n",
    "    \"Vgg19\",\n",
    "    \"Custom\",\n",
    "])\n",
    "plt.show()\n"
   ],
   "outputs": [],
   "execution_count": null
  },
  {
   "cell_type": "markdown",
   "metadata": {},
   "source": [
    "## Evaluate\n"
   ]
  },
  {
   "metadata": {},
   "cell_type": "code",
   "source": [
    "# test model function\n",
    "def test_model(model, test_loader, criterion, device):\n",
    "    model.eval()\n",
    "    correct = 0\n",
    "    total = 0\n",
    "    with torch.no_grad():\n",
    "        for inputs, labels in test_loader:\n",
    "            inputs, labels = inputs.to(device), labels.to(device)\n",
    "            outputs = model(inputs)\n",
    "            _, predicted = torch.max(outputs, 1)\n",
    "            total += labels.size(0)\n",
    "            correct += (predicted == labels).sum().item()\n",
    "    accuracy = correct / total * 100\n",
    "    print(f\"Test Accuracy: {accuracy:.2f}%\")\n",
    "    return accuracy\n"
   ],
   "outputs": [],
   "execution_count": null
  },
  {
   "cell_type": "markdown",
   "metadata": {},
   "source": [
    "### AlexNet\n"
   ]
  },
  {
   "metadata": {},
   "cell_type": "code",
   "source": [
    "# test the model\n",
    "AlexNet_model_accuracy = test_model(AlexNet_model, test_loader, AlexNet_model_criterion, device)\n"
   ],
   "outputs": [],
   "execution_count": null
  },
  {
   "cell_type": "markdown",
   "metadata": {},
   "source": [
    "### GoogleNet\n"
   ]
  },
  {
   "metadata": {},
   "cell_type": "code",
   "source": [
    "# test the model\n",
    "GoogleNet_model_accuracy = test_model(GoogleNet_model, test_loader, GoogleNet_model_criterion, device)\n"
   ],
   "outputs": [],
   "execution_count": null
  },
  {
   "cell_type": "markdown",
   "metadata": {},
   "source": [
    "### MobileNet V2\n"
   ]
  },
  {
   "metadata": {},
   "cell_type": "code",
   "source": [
    "# test the model\n",
    "MobileNetV2_model_accuracy = test_model(MobileNetV2_model, test_loader, MobileNetV2_model_criterion, device)\n"
   ],
   "outputs": [],
   "execution_count": null
  },
  {
   "cell_type": "markdown",
   "metadata": {},
   "source": [
    "### MobileNet V3\n"
   ]
  },
  {
   "metadata": {},
   "cell_type": "code",
   "source": [
    "# test the model\n",
    "MobileNetV3_model_accuracy = test_model(MobileNetV3_model, test_loader, MobileNetV3_model_criterion, device)\n"
   ],
   "outputs": [],
   "execution_count": null
  },
  {
   "cell_type": "markdown",
   "metadata": {},
   "source": [
    "### ResNet 18\n"
   ]
  },
  {
   "metadata": {},
   "cell_type": "code",
   "source": [
    "# test the model\n",
    "ResNet18_model_accuracy = test_model(ResNet18_model, test_loader, ResNet18_model_criterion, device)\n"
   ],
   "outputs": [],
   "execution_count": null
  },
  {
   "cell_type": "markdown",
   "metadata": {},
   "source": [
    "### ResNet 50\n"
   ]
  },
  {
   "metadata": {},
   "cell_type": "code",
   "source": [
    "# test the model\n",
    "ResNet50_model_accuracy = test_model(ResNet50_model, test_loader, ResNet50_model_criterion, device)\n"
   ],
   "outputs": [],
   "execution_count": null
  },
  {
   "cell_type": "markdown",
   "metadata": {},
   "source": [
    "### Vgg16\n"
   ]
  },
  {
   "metadata": {},
   "cell_type": "code",
   "source": [
    "# test the model\n",
    "Vgg16_model_accuracy = test_model(Vgg16_model, test_loader, Vgg16_model_criterion, device)\n"
   ],
   "outputs": [],
   "execution_count": null
  },
  {
   "cell_type": "markdown",
   "metadata": {},
   "source": [
    "### Vgg19\n"
   ]
  },
  {
   "metadata": {},
   "cell_type": "code",
   "source": [
    "# test the model\n",
    "Vgg19_model_accuracy = test_model(Vgg19_model, test_loader, Vgg19_model_criterion, device)\n"
   ],
   "outputs": [],
   "execution_count": null
  },
  {
   "cell_type": "markdown",
   "metadata": {},
   "source": [
    "### Custom\n"
   ]
  },
  {
   "metadata": {},
   "cell_type": "code",
   "source": [
    "# test the model\n",
    "Custom_model_accuracy = test_model(Custom_model, test_loader, Custom_model_criterion, device)\n"
   ],
   "outputs": [],
   "execution_count": null
  },
  {
   "metadata": {},
   "cell_type": "markdown",
   "source": "### Summary\n"
  },
  {
   "metadata": {},
   "cell_type": "code",
   "source": [
    "# Create a dictionary to store results\n",
    "model_results = {\n",
    "    \"Model\": [\n",
    "        \"AlexNet\",\n",
    "        \"GoogleNet\",\n",
    "        \"MobileNetV2\",\n",
    "        \"MobileNetV3\",\n",
    "        \"ResNet18\",\n",
    "        \"ResNet50\",\n",
    "        \"Vgg16\",\n",
    "        \"Vgg19\",\n",
    "        \"Custom\",\n",
    "    ],\n",
    "    \"Loss\": [\n",
    "        AlexNet_model_losses[-1],\n",
    "        GoogleNet_model_losses[-1],\n",
    "        MobileNetV2_model_losses[-1],\n",
    "        MobileNetV3_model_losses[-1],\n",
    "        ResNet18_model_losses[-1],\n",
    "        ResNet50_model_losses[-1],\n",
    "        Vgg16_model_losses[-1],\n",
    "        Vgg19_model_losses[-1],\n",
    "        Custom_model_losses[-1],\n",
    "    ],\n",
    "    \"Accuracy\": [\n",
    "        AlexNet_model_accuracy,\n",
    "        GoogleNet_model_accuracy,\n",
    "        MobileNetV2_model_accuracy,\n",
    "        MobileNetV3_model_accuracy,\n",
    "        ResNet18_model_accuracy,\n",
    "        ResNet50_model_accuracy,\n",
    "        Vgg16_model_accuracy,\n",
    "        Vgg19_model_accuracy,\n",
    "        Custom_model_accuracy,\n",
    "    ]\n",
    "}\n",
    "\n",
    "# Create a Pandas DataFrame from the dictionary\n",
    "df = pd.DataFrame(model_results)\n",
    "\n",
    "# Print the DataFrame as a table\n",
    "print(df.to_string())\n"
   ],
   "outputs": [],
   "execution_count": null
  },
  {
   "cell_type": "markdown",
   "metadata": {},
   "source": [
    "## Test\n"
   ]
  },
  {
   "metadata": {},
   "cell_type": "code",
   "source": [
    "# predict and display image function\n",
    "def predict_and_display_image(model, image_path, transform, device):\n",
    "    # Load the image\n",
    "    image = Image.open(image_path).convert('RGB')\n",
    "\n",
    "    # Preprocess the image\n",
    "    image_tensor = transform(image).unsqueeze(0).to(device)\n",
    "\n",
    "    # Set the model to evaluation mode\n",
    "    model.eval()\n",
    "\n",
    "    with torch.no_grad():\n",
    "        # Make a prediction\n",
    "        outputs = model(image_tensor)\n",
    "        _, predicted = torch.max(outputs, 1)\n",
    "        predicted_class = classes[predicted.item()]\n",
    "\n",
    "    # Display the image and prediction\n",
    "    plt.imshow(image)\n",
    "    plt.title(f\"Predicted: {predicted_class} - {model.__class__.__name__}\")\n",
    "    plt.axis('off')\n",
    "    plt.show()\n"
   ],
   "outputs": [],
   "execution_count": null
  },
  {
   "metadata": {},
   "cell_type": "code",
   "source": [
    "images_paths = [\n",
    "    'tmp/test_g.jpeg',\n",
    "    'tmp/test_dataset/G_test.jpg',\n",
    "]\n"
   ],
   "outputs": [],
   "execution_count": null
  },
  {
   "cell_type": "markdown",
   "metadata": {},
   "source": [
    "### AlexNet\n"
   ]
  },
  {
   "metadata": {},
   "cell_type": "code",
   "source": [
    "for image_path in images_paths:\n",
    "    predict_and_display_image(AlexNet_model, image_path, transform, device)\n"
   ],
   "outputs": [],
   "execution_count": null
  },
  {
   "cell_type": "markdown",
   "metadata": {},
   "source": [
    "### GoogleNet\n"
   ]
  },
  {
   "metadata": {},
   "cell_type": "code",
   "source": [
    "for image_path in images_paths:\n",
    "    predict_and_display_image(GoogleNet_model, image_path, transform, device)\n"
   ],
   "outputs": [],
   "execution_count": null
  },
  {
   "cell_type": "markdown",
   "metadata": {},
   "source": [
    "### MobileNet V2\n"
   ]
  },
  {
   "metadata": {},
   "cell_type": "code",
   "source": [
    "for image_path in images_paths:\n",
    "    predict_and_display_image(MobileNetV2_model, image_path, transform, device)\n"
   ],
   "outputs": [],
   "execution_count": null
  },
  {
   "cell_type": "markdown",
   "metadata": {},
   "source": [
    "### MobileNet V3\n"
   ]
  },
  {
   "metadata": {},
   "cell_type": "code",
   "source": [
    "for image_path in images_paths:\n",
    "    predict_and_display_image(MobileNetV3_model, image_path, transform, device)\n"
   ],
   "outputs": [],
   "execution_count": null
  },
  {
   "cell_type": "markdown",
   "metadata": {},
   "source": [
    "### ResNet 18\n"
   ]
  },
  {
   "metadata": {},
   "cell_type": "code",
   "source": [
    "for image_path in images_paths:\n",
    "    predict_and_display_image(ResNet18_model, image_path, transform, device)\n"
   ],
   "outputs": [],
   "execution_count": null
  },
  {
   "cell_type": "markdown",
   "metadata": {},
   "source": [
    "### ResNet 50\n"
   ]
  },
  {
   "metadata": {},
   "cell_type": "code",
   "source": [
    "for image_path in images_paths:\n",
    "    predict_and_display_image(ResNet50_model, image_path, transform, device)\n"
   ],
   "outputs": [],
   "execution_count": null
  },
  {
   "cell_type": "markdown",
   "metadata": {},
   "source": [
    "### Vgg16\n"
   ]
  },
  {
   "metadata": {},
   "cell_type": "code",
   "source": [
    "for image_path in images_paths:\n",
    "    predict_and_display_image(Vgg16_model, image_path, transform, device)\n"
   ],
   "outputs": [],
   "execution_count": null
  },
  {
   "cell_type": "markdown",
   "metadata": {},
   "source": [
    "### Vgg19\n"
   ]
  },
  {
   "metadata": {},
   "cell_type": "code",
   "source": [
    "for image_path in images_paths:\n",
    "    predict_and_display_image(Vgg19_model, image_path, transform, device)\n"
   ],
   "outputs": [],
   "execution_count": null
  },
  {
   "cell_type": "markdown",
   "metadata": {},
   "source": [
    "### Custom\n"
   ]
  },
  {
   "metadata": {},
   "cell_type": "code",
   "source": [
    "for image_path in images_paths:\n",
    "    predict_and_display_image(Custom_model, image_path, transform, device)\n"
   ],
   "outputs": [],
   "execution_count": null
  }
 ],
 "metadata": {
  "kernelspec": {
   "display_name": "venv",
   "language": "python",
   "name": "python3"
  },
  "language_info": {
   "codemirror_mode": {
    "name": "ipython",
    "version": 3
   },
   "file_extension": ".py",
   "mimetype": "text/x-python",
   "name": "python",
   "nbconvert_exporter": "python",
   "pygments_lexer": "ipython3",
   "version": "3.12.3"
  }
 },
 "nbformat": 4,
 "nbformat_minor": 0
}
