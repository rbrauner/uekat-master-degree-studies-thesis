{
  "cells": [
    {
      "cell_type": "markdown",
      "metadata": {
        "id": "4-SkfO5iGDun"
      },
      "source": [
        "Dataset: https://www.kaggle.com/datasets/grassknoted/asl-alphabet"
      ]
    },
    {
      "cell_type": "code",
      "execution_count": null,
      "metadata": {},
      "outputs": [],
      "source": [
        "# imports\n",
        "import os\n",
        "import kaggle\n"
      ]
    },
    {
      "cell_type": "code",
      "execution_count": null,
      "metadata": {},
      "outputs": [],
      "source": [
        "# dataset path\n",
        "dataset_path = 'tmp/asl-alphabet'\n"
      ]
    },
    {
      "cell_type": "code",
      "execution_count": null,
      "metadata": {},
      "outputs": [],
      "source": [
        "# download dataset\n",
        "if not os.path.exists(dataset_path):\n",
        "    parent_dir = os.path.dirname(dataset_path)\n",
        "\n",
        "    os.makedirs(parent_dir, exist_ok=True)\n",
        "\n",
        "    kaggle.api.authenticate()\n",
        "    kaggle.api.dataset_download_files('grassknoted/asl-alphabet', path=parent_dir, unzip=True)\n"
      ]
    },
    {
      "cell_type": "code",
      "execution_count": null,
      "metadata": {
        "id": "7hQeI5ohXBhp"
      },
      "outputs": [],
      "source": [
        "import torch\n",
        "from torchvision import transforms\n",
        "from torch.utils.data import Dataset\n",
        "from torchvision import datasets\n",
        "from torchvision.transforms import ToTensor\n",
        "import matplotlib.pyplot as plt\n",
        "from torch.utils.data import DataLoader\n",
        "import torchvision\n",
        "from torch import nn\n",
        "from torchsummary import summary\n",
        "import torch.nn.functional as F\n",
        "import torch.optim as optim\n",
        "from torchvision import models\n",
        "from torch.utils.data import DataLoader, random_split\n",
        "\n",
        "\n",
        "import matplotlib.pyplot as plt\n",
        "import numpy as np\n",
        "import pandas as pd\n",
        "from PIL import Image\n",
        "from tqdm import tqdm\n",
        "import random\n",
        "import os\n"
      ]
    },
    {
      "cell_type": "code",
      "execution_count": null,
      "metadata": {
        "colab": {
          "base_uri": "https://localhost:8080/"
        },
        "id": "MwZVq954XE7n",
        "outputId": "7d32a206-02c4-49dc-f873-26aec1d40393"
      },
      "outputs": [],
      "source": [
        "os.environ['CUDA_LAUNCH_BLOCKING'] = '1'\n",
        "device = torch.device(\"cuda\" if torch.cuda.is_available() else \"cpu\")\n",
        "device\n"
      ]
    },
    {
      "cell_type": "code",
      "execution_count": null,
      "metadata": {
        "id": "6NfxEQMEXJgd"
      },
      "outputs": [],
      "source": [
        "# Paths to your training and testing data\n",
        "data_dir = '/content/data_dir/asl_alphabet_train/asl_alphabet_train'\n",
        "Val_dir = '/content/data_dir/asl_alphabet_train/asl_alphabet_train'\n"
      ]
    },
    {
      "cell_type": "code",
      "execution_count": null,
      "metadata": {
        "id": "kCK2WG2JXQDF"
      },
      "outputs": [],
      "source": [
        "# Define transformations\n",
        "transform = transforms.Compose([\n",
        "    transforms.Resize((200, 200)),\n",
        "    transforms.ToTensor(),\n",
        "    transforms.Normalize(mean=[0.485, 0.456, 0.406], std=[0.229, 0.224, 0.225]),\n",
        "])\n"
      ]
    },
    {
      "cell_type": "code",
      "execution_count": null,
      "metadata": {
        "id": "VxyUg2mWXSFY"
      },
      "outputs": [],
      "source": [
        "# Load the dataset using ImageFolder\n",
        "dataset = datasets.ImageFolder(root=data_dir, transform=transform)\n"
      ]
    },
    {
      "cell_type": "code",
      "execution_count": null,
      "metadata": {
        "colab": {
          "base_uri": "https://localhost:8080/"
        },
        "id": "WEJFlXhjXUjz",
        "outputId": "b2474173-6213-4f07-a507-99f001544cda"
      },
      "outputs": [],
      "source": [
        "# Get class names\n",
        "class_names = dataset.classes\n",
        "num_classes = len(class_names)\n",
        "class_names\n"
      ]
    },
    {
      "cell_type": "code",
      "execution_count": null,
      "metadata": {
        "id": "1J0w_FZYXXO8"
      },
      "outputs": [],
      "source": [
        "# Define the ratio for train/test split\n",
        "train_ratio = 0.8\n",
        "train_size = int(train_ratio * len(dataset))\n",
        "test_size = len(dataset) - train_size\n"
      ]
    },
    {
      "cell_type": "code",
      "execution_count": null,
      "metadata": {
        "id": "PscIF4a8XZ_h"
      },
      "outputs": [],
      "source": [
        "# Split the dataset into training and testing sets\n",
        "train_dataset, test_dataset = random_split(dataset, [train_size, test_size])\n"
      ]
    },
    {
      "cell_type": "code",
      "execution_count": null,
      "metadata": {
        "colab": {
          "base_uri": "https://localhost:8080/"
        },
        "id": "VYoH7PSsXbnt",
        "outputId": "4b21da8f-4133-4a2f-e1fc-fa904aa27e72"
      },
      "outputs": [],
      "source": [
        "# Get the number of samples in each set\n",
        "num_train_samples = len(train_dataset)\n",
        "num_test_samples = len(test_dataset)\n",
        "\n",
        "print(f'Number of training samples: {num_train_samples}')\n",
        "print(f'Number of testing samples: {num_test_samples}')\n"
      ]
    },
    {
      "cell_type": "code",
      "execution_count": null,
      "metadata": {
        "colab": {
          "base_uri": "https://localhost:8080/"
        },
        "id": "mssvNUQcXd6z",
        "outputId": "fd9da8d0-d6f6-4689-ced6-55695e17fe8c"
      },
      "outputs": [],
      "source": [
        "num_classes = len(dataset.classes)\n",
        "num_classes\n"
      ]
    },
    {
      "cell_type": "code",
      "execution_count": null,
      "metadata": {
        "colab": {
          "base_uri": "https://localhost:8080/"
        },
        "id": "Xn3IyShhXgb2",
        "outputId": "b4d3f7c1-8637-4556-9315-d4d310e0eb3e"
      },
      "outputs": [],
      "source": [
        "# Create DataLoaders for training and testing sets\n",
        "# Create DataLoaders\n",
        "train_loader = DataLoader(train_dataset, batch_size=32, shuffle=True, num_workers=4, pin_memory=True)\n",
        "test_loader = DataLoader(test_dataset, batch_size=32, shuffle=False, num_workers=4, pin_memory=True)\n"
      ]
    },
    {
      "cell_type": "code",
      "execution_count": null,
      "metadata": {
        "colab": {
          "base_uri": "https://localhost:8080/"
        },
        "id": "1g2BVn7TXjy5",
        "outputId": "284a4630-ada7-442c-bbbe-128130095445"
      },
      "outputs": [],
      "source": [
        "# Example of iterating over the training data\n",
        "for images, labels in train_loader:\n",
        "    # Your training code here\n",
        "    print(images.shape, labels.shape)\n",
        "    break\n",
        "\n",
        "# Example of iterating over the testing data\n",
        "for images, labels in test_loader:\n",
        "    # Your testing code here\n",
        "    print(images.shape, labels.shape)\n",
        "    break\n"
      ]
    },
    {
      "cell_type": "code",
      "execution_count": null,
      "metadata": {
        "id": "1fEL6fUSXnbM"
      },
      "outputs": [],
      "source": [
        "# Function to display random samples\n",
        "def show_random_samples(dataset, class_names, num_samples=5):\n",
        "    fig, axes = plt.subplots(1, num_samples, figsize=(15, 15))\n",
        "    for i in range(num_samples):\n",
        "        random_idx = random.randint(0, len(dataset) - 1)\n",
        "        img, label = dataset[random_idx]\n",
        "        img = img.permute(1, 2, 0)  # Convert from (C, H, W) to (H, W, C) for displaying\n",
        "        axes[i].imshow(img)\n",
        "        axes[i].set_title(class_names[label])\n",
        "        axes[i].axis('off')\n",
        "    plt.show()\n"
      ]
    },
    {
      "cell_type": "code",
      "execution_count": null,
      "metadata": {
        "colab": {
          "base_uri": "https://localhost:8080/",
          "height": 351
        },
        "id": "DMGllH6RXpsM",
        "outputId": "9d9816fa-6440-4e27-d40d-dd85ffcdeff1"
      },
      "outputs": [],
      "source": [
        "# Display random samples from the training set\n",
        "show_random_samples(train_dataset, class_names)\n"
      ]
    },
    {
      "cell_type": "code",
      "execution_count": null,
      "metadata": {
        "colab": {
          "base_uri": "https://localhost:8080/",
          "height": 351
        },
        "id": "r3lkCOCsXtd3",
        "outputId": "98cbbea3-74a2-477b-f147-9a581105ed09"
      },
      "outputs": [],
      "source": [
        "# Display random samples from the testing set\n",
        "show_random_samples(test_dataset, class_names)\n"
      ]
    },
    {
      "cell_type": "markdown",
      "metadata": {
        "id": "w8QYq5z9YJur"
      },
      "source": [
        "# My Simple Model"
      ]
    },
    {
      "cell_type": "code",
      "execution_count": null,
      "metadata": {
        "id": "A7hqRG1SXx0A"
      },
      "outputs": [],
      "source": [
        "class SimpleCNN(nn.Module):\n",
        "    def __init__(self, num_classes=29):\n",
        "        super(SimpleCNN, self).__init__()\n",
        "        self.conv1 = nn.Conv2d(3, 32, 3, 1)\n",
        "        self.conv2 = nn.Conv2d(32, 64, 3, 1)\n",
        "        self.conv3 = nn.Conv2d(64, 128, 3, 1)\n",
        "        self.fc1 = nn.Linear(128 * 23 * 23, 512)\n",
        "        self.fc2 = nn.Linear(512, num_classes)\n",
        "        self.dropout = nn.Dropout(0.5)\n",
        "        self.pool = nn.MaxPool2d(2, 2)\n",
        "\n",
        "    def forward(self, x):\n",
        "        x = self.pool(F.relu(self.conv1(x)))\n",
        "        x = self.pool(F.relu(self.conv2(x)))\n",
        "        x = self.pool(F.relu(self.conv3(x)))\n",
        "        x = x.view(-1, 128 * 23 * 23)  # Flatten the tensor\n",
        "        x = F.relu(self.fc1(x))\n",
        "        x = self.dropout(x)\n",
        "        x = self.fc2(x)\n",
        "        return x\n"
      ]
    },
    {
      "cell_type": "code",
      "execution_count": null,
      "metadata": {
        "id": "SgKk50yJXz-0"
      },
      "outputs": [],
      "source": [
        "# Instantiate and move the model to the GPU\n",
        "my_model = SimpleCNN(num_classes=num_classes).to(device)\n",
        "# Define loss function and optimizer\n",
        "my_model_criterion = nn.CrossEntropyLoss()\n",
        "my_model_optimizer = optim.Adam(my_model.parameters(), lr=0.001)\n"
      ]
    },
    {
      "cell_type": "code",
      "execution_count": null,
      "metadata": {
        "colab": {
          "base_uri": "https://localhost:8080/"
        },
        "id": "EDuYt9bKX1_v",
        "outputId": "c83126d3-3e5d-436a-a390-4b371edd9f47"
      },
      "outputs": [],
      "source": [
        "summary(my_model, input_size=(3, 200, 200))\n"
      ]
    },
    {
      "cell_type": "markdown",
      "metadata": {
        "id": "nxoV7gK5YLWq"
      },
      "source": [
        "# AlexNet Model"
      ]
    },
    {
      "cell_type": "code",
      "execution_count": null,
      "metadata": {
        "colab": {
          "base_uri": "https://localhost:8080/"
        },
        "id": "tK1KmPzoX6Ya",
        "outputId": "824edcf5-e859-4e5f-a5c4-76b399460e35"
      },
      "outputs": [],
      "source": [
        "AlexNet_model = models.alexnet(pretrained=True)\n",
        "\n",
        "# Freeze model parameters\n",
        "for param in AlexNet_model.parameters():\n",
        "    param.requires_grad = False\n"
      ]
    },
    {
      "cell_type": "code",
      "execution_count": null,
      "metadata": {
        "id": "uUco8RD_YAo9"
      },
      "outputs": [],
      "source": [
        "# Modify the last fully connected layer to fit your number of classes\n",
        "AlexNet_model.classifier[6] = nn.Linear(4096, num_classes)\n",
        "\n",
        "# Move the model to the device (GPU if available)\n",
        "AlexNet_model.to(device)\n",
        "\n",
        "# Define loss function and optimizer\n",
        "AlexNet_model_criterion = nn.CrossEntropyLoss()\n",
        "AlexNet_model_optimizer = optim.Adam(AlexNet_model.parameters(), lr=0.001)\n"
      ]
    },
    {
      "cell_type": "code",
      "execution_count": null,
      "metadata": {
        "colab": {
          "base_uri": "https://localhost:8080/"
        },
        "id": "Mp8MR2BtYDDF",
        "outputId": "ad429c73-3e6c-45d0-f84d-0665b208609b"
      },
      "outputs": [],
      "source": [
        "summary(AlexNet_model, input_size=(3, 200, 200))\n"
      ]
    },
    {
      "cell_type": "markdown",
      "metadata": {
        "id": "EWxaxx1TYP5F"
      },
      "source": [
        "# Vgg16 Model"
      ]
    },
    {
      "cell_type": "code",
      "execution_count": null,
      "metadata": {
        "colab": {
          "base_uri": "https://localhost:8080/"
        },
        "id": "d3Un7ALvYSj8",
        "outputId": "715a3378-d7e3-4944-c98a-070f0873e79b"
      },
      "outputs": [],
      "source": [
        "# Load pre-trained VGG16 model\n",
        "Vgg16_model = models.vgg16(pretrained=True)\n",
        "\n",
        "# Freeze model parameters\n",
        "for param in Vgg16_model.parameters():\n",
        "    param.requires_grad = False\n",
        "\n",
        "# Modify the last fully connected layer to fit your number of classes\n",
        "Vgg16_model.classifier[6] = nn.Linear(Vgg16_model.classifier[6].in_features, num_classes)\n",
        "\n",
        "# Move the model to the device (GPU if available)\n",
        "Vgg16_model.to(device)\n",
        "\n",
        "# Define loss function and optimizer\n",
        "Vgg16_model_criterion = nn.CrossEntropyLoss()\n",
        "Vgg16_model_optimizer = optim.Adam(Vgg16_model.parameters(), lr=0.001)\n"
      ]
    },
    {
      "cell_type": "code",
      "execution_count": null,
      "metadata": {
        "colab": {
          "base_uri": "https://localhost:8080/"
        },
        "id": "BT7DkQIvYWZ0",
        "outputId": "ec0323fc-707a-4452-bd76-49fa8544d52b"
      },
      "outputs": [],
      "source": [
        "summary(Vgg16_model, input_size=(3, 200, 200))\n"
      ]
    },
    {
      "cell_type": "markdown",
      "metadata": {
        "id": "aJY4l9YAYZCk"
      },
      "source": [
        "# Vgg19 Model"
      ]
    },
    {
      "cell_type": "code",
      "execution_count": null,
      "metadata": {
        "colab": {
          "base_uri": "https://localhost:8080/"
        },
        "id": "IeK8Ml05YabC",
        "outputId": "c34e67e6-f58b-4cc7-e30a-77730e65b4d3"
      },
      "outputs": [],
      "source": [
        "# Load pre-trained VGG19 model\n",
        "Vgg19_model = models.vgg19(pretrained=True)\n",
        "\n",
        "# Freeze model parameters\n",
        "for param in Vgg19_model.parameters():\n",
        "    param.requires_grad = False\n",
        "\n",
        "# Modify the last fully connected layer to fit your number of classes\n",
        "num_classes = len(dataset.classes)\n",
        "Vgg19_model.classifier[6] = nn.Linear(Vgg19_model.classifier[6].in_features, num_classes)\n",
        "\n",
        "# Move the model to the device (GPU if available)\n",
        "Vgg19_model.to(device)\n",
        "\n",
        "# Define loss function and optimizer\n",
        "Vgg19_model_criterion = nn.CrossEntropyLoss()\n",
        "Vgg19_model_optimizer = optim.Adam(Vgg19_model.parameters(), lr=0.001)\n"
      ]
    },
    {
      "cell_type": "code",
      "execution_count": null,
      "metadata": {
        "colab": {
          "base_uri": "https://localhost:8080/"
        },
        "id": "zX7fRYMDYd7x",
        "outputId": "7cbcbdb7-b738-4c63-e4de-abb02e43164e"
      },
      "outputs": [],
      "source": [
        "summary(Vgg19_model, input_size=(3, 200, 200))\n"
      ]
    },
    {
      "cell_type": "markdown",
      "metadata": {
        "id": "Y0IiqkjEYhbw"
      },
      "source": [
        "# GoogleNet Model"
      ]
    },
    {
      "cell_type": "code",
      "execution_count": null,
      "metadata": {
        "colab": {
          "base_uri": "https://localhost:8080/"
        },
        "id": "aoByI4jRYfzH",
        "outputId": "753ee1e9-63a8-4ada-eb4a-afb72608891f"
      },
      "outputs": [],
      "source": [
        "# Load pre-trained GoogleNet model\n",
        "googlenet_model = models.googlenet(pretrained=True)\n",
        "\n",
        "# Freeze model parameters\n",
        "for param in googlenet_model.parameters():\n",
        "    param.requires_grad = False\n",
        "\n",
        "# Modify the last fully connected layer to fit your number of classes\n",
        "num_classes = len(dataset.classes)\n",
        "#googlenet_model.fc = nn.Linear(googlenet_model.fc[6].in_features, num_classes)\n",
        "googlenet_model.fc = nn.Linear(googlenet_model.fc.in_features, num_classes)\n",
        "\n",
        "# Move the model to the device (GPU if available)\n",
        "googlenet_model.to(device)\n",
        "\n",
        "# Define loss function and optimizer\n",
        "googlenet_model_criterion = nn.CrossEntropyLoss()\n",
        "googlenet_model_optimizer = optim.Adam(googlenet_model.parameters(), lr=0.001)\n"
      ]
    },
    {
      "cell_type": "code",
      "execution_count": null,
      "metadata": {
        "colab": {
          "base_uri": "https://localhost:8080/"
        },
        "id": "1fobh0mCYk0o",
        "outputId": "cf5e5202-fe92-49f6-e320-7768053952e3"
      },
      "outputs": [],
      "source": [
        "summary(googlenet_model, input_size=(3, 200, 200))\n"
      ]
    },
    {
      "cell_type": "markdown",
      "metadata": {
        "id": "5A4fIaihYoTk"
      },
      "source": [
        "# ResNet Model"
      ]
    },
    {
      "cell_type": "code",
      "execution_count": null,
      "metadata": {
        "colab": {
          "base_uri": "https://localhost:8080/"
        },
        "id": "HsLGUaS6YpeN",
        "outputId": "fd704f67-5ff1-4559-ff3f-ae64bfb9af19"
      },
      "outputs": [],
      "source": [
        "# Load pre-trained Resnet model\n",
        "resnet18_model = models.resnet18(pretrained=True)\n",
        "\n",
        "# Freeze model parameters\n",
        "for param in resnet18_model.parameters():\n",
        "    param.requires_grad = False\n",
        "\n",
        "# Modify the last fully connected layer to fit your number of classes\n",
        "num_classes = len(dataset.classes)\n",
        "#googlenet_model.fc = nn.Linear(googlenet_model.fc[6].in_features, num_classes)\n",
        "resnet18_model.fc = nn.Linear(resnet18_model.fc.in_features, num_classes)\n",
        "\n",
        "# Move the model to the device (GPU if available)\n",
        "resnet18_model.to(device)\n",
        "\n",
        "# Define loss function and optimizer\n",
        "resnet18_model_criterion = nn.CrossEntropyLoss()\n",
        "resnet18_model_optimizer = optim.Adam(resnet18_model.parameters(), lr=0.001)\n"
      ]
    },
    {
      "cell_type": "code",
      "execution_count": null,
      "metadata": {
        "colab": {
          "base_uri": "https://localhost:8080/"
        },
        "id": "6TEQf_MkYsdd",
        "outputId": "14dc8028-079b-4a0d-e00b-2569711b8031"
      },
      "outputs": [],
      "source": [
        "summary(resnet18_model, input_size=(3, 200, 200))\n"
      ]
    },
    {
      "cell_type": "markdown",
      "metadata": {
        "id": "aosJBU2IYvpC"
      },
      "source": [
        "# Train"
      ]
    },
    {
      "cell_type": "code",
      "execution_count": null,
      "metadata": {
        "id": "RGuI2lLUYwvs"
      },
      "outputs": [],
      "source": [
        "# Training loop\n",
        "def train_model(model, train_loader, criterion, optimizer, device, num_epochs=10):\n",
        "    for epoch in range(num_epochs):\n",
        "        model.train()\n",
        "        epoch_loss = 0.0\n",
        "        for inputs, labels in train_loader:\n",
        "            inputs, labels = inputs.to(device), labels.to(device)\n",
        "            optimizer.zero_grad()\n",
        "            outputs = model(inputs)\n",
        "            loss = criterion(outputs, labels)\n",
        "            loss.backward()\n",
        "            optimizer.step()\n",
        "            epoch_loss += loss.item() * inputs.size(0)\n",
        "        epoch_loss /= len(train_loader.dataset)\n",
        "        print(f\"Epoch {epoch+1}/{num_epochs}, Loss: {epoch_loss:.4f}\")\n",
        "    return epoch_loss\n"
      ]
    },
    {
      "cell_type": "markdown",
      "metadata": {
        "id": "4fF45MWLYzh0"
      },
      "source": [
        "## My Model Training"
      ]
    },
    {
      "cell_type": "code",
      "execution_count": null,
      "metadata": {
        "colab": {
          "base_uri": "https://localhost:8080/"
        },
        "id": "iKGebH2FY0XX",
        "outputId": "5b8c7b28-e529-4df5-d624-27bb8655e496"
      },
      "outputs": [],
      "source": [
        "# Train the model\n",
        "my_model_loss=train_model(my_model, train_loader, my_model_criterion, my_model_optimizer, device, num_epochs=10)\n"
      ]
    },
    {
      "cell_type": "code",
      "execution_count": null,
      "metadata": {
        "id": "tLMgNjzTY38L"
      },
      "outputs": [],
      "source": [
        "torch.save(my_model, 'ASL_my_model_V1.0.1.pth')\n"
      ]
    },
    {
      "cell_type": "markdown",
      "metadata": {
        "id": "sKPuLQJ4Y6Nj"
      },
      "source": [
        "## AlexNet Model Training"
      ]
    },
    {
      "cell_type": "code",
      "execution_count": null,
      "metadata": {
        "colab": {
          "base_uri": "https://localhost:8080/"
        },
        "id": "tfc6Bx5wY7K9",
        "outputId": "ae53e78e-7bf0-42dc-f364-8ee1613999d3"
      },
      "outputs": [],
      "source": [
        "AlexNet_model_loss=train_model(AlexNet_model, train_loader, AlexNet_model_criterion, AlexNet_model_optimizer, device, num_epochs=10)\n"
      ]
    },
    {
      "cell_type": "code",
      "execution_count": null,
      "metadata": {
        "id": "QksgGDJAY-Y5"
      },
      "outputs": [],
      "source": [
        "torch.save(AlexNet_model, 'ASL_AlexNet_model_V1.0.1.pth')\n"
      ]
    },
    {
      "cell_type": "markdown",
      "metadata": {
        "id": "yAVL0UUMZA0v"
      },
      "source": [
        "## Vgg16 Model Training"
      ]
    },
    {
      "cell_type": "code",
      "execution_count": null,
      "metadata": {
        "id": "8NP-aYApZB0v"
      },
      "outputs": [],
      "source": [
        "Vgg16_model_loss=train_model(Vgg16_model, train_loader, Vgg16_model_criterion, Vgg16_model_optimizer, device, num_epochs=10)\n"
      ]
    },
    {
      "cell_type": "code",
      "execution_count": null,
      "metadata": {
        "id": "-W5xNDHrZEgD"
      },
      "outputs": [],
      "source": [
        "torch.save(Vgg16_model, 'ASL_Vgg16_model_V1.0.1.pth')\n"
      ]
    },
    {
      "cell_type": "markdown",
      "metadata": {
        "id": "rQa8geKYZGm9"
      },
      "source": [
        "## Vgg19 Model Training"
      ]
    },
    {
      "cell_type": "code",
      "execution_count": null,
      "metadata": {
        "id": "jKh_0bk2ZHyD"
      },
      "outputs": [],
      "source": [
        "Vgg19_model_loss=train_model(Vgg19_model, train_loader, Vgg19_model_criterion, Vgg19_model_optimizer, device, num_epochs=10)\n"
      ]
    },
    {
      "cell_type": "code",
      "execution_count": null,
      "metadata": {
        "id": "c4bxHortZKXK"
      },
      "outputs": [],
      "source": [
        "torch.save(Vgg19_model, 'ASL_Vgg19_model_V1.0.1.pth')\n"
      ]
    },
    {
      "cell_type": "markdown",
      "metadata": {
        "id": "cDC64FAsZMDN"
      },
      "source": [
        "## GoogleNet Model Training"
      ]
    },
    {
      "cell_type": "code",
      "execution_count": null,
      "metadata": {
        "id": "1MNPe8aTZNsK"
      },
      "outputs": [],
      "source": [
        "googlenet_model_loss=train_model(googlenet_model, train_loader, googlenet_model_criterion, googlenet_model_optimizer, device, num_epochs=10)\n"
      ]
    },
    {
      "cell_type": "code",
      "execution_count": null,
      "metadata": {
        "id": "lY9dJSR1ZPlS"
      },
      "outputs": [],
      "source": [
        "torch.save(googlenet_model, 'ASL_googlenet_model_V1.0.1.pth')\n"
      ]
    },
    {
      "cell_type": "markdown",
      "metadata": {
        "id": "LxWHabzfZTw1"
      },
      "source": [
        "## ResNet Model Training"
      ]
    },
    {
      "cell_type": "code",
      "execution_count": null,
      "metadata": {
        "id": "k87YbQRTZV6U"
      },
      "outputs": [],
      "source": [
        "resnet18_model_loss=train_model(resnet18_model, train_loader, resnet18_model_criterion, resnet18_model_optimizer, device, num_epochs=10)\n"
      ]
    },
    {
      "cell_type": "code",
      "execution_count": null,
      "metadata": {
        "id": "tuu9mqR5ZYjr"
      },
      "outputs": [],
      "source": [
        "torch.save(resnet18_model, 'ASL_resnet18_model_V1.0.1.pth')\n"
      ]
    },
    {
      "cell_type": "code",
      "execution_count": null,
      "metadata": {
        "id": "aPK_y-CoZapa"
      },
      "outputs": [],
      "source": [
        "model_losses = {\n",
        "    \"My Model\": my_model_loss,\n",
        "    \"AlexNet\": AlexNet_model_loss,\n",
        "    \"Vgg16\": Vgg16_model_loss,\n",
        "    \"Vgg19\": Vgg19_model_loss,\n",
        "    \"GoogLeNet\": googlenet_model_loss,\n",
        "    \"ResNet18\": resnet18_model_loss\n",
        "}\n"
      ]
    },
    {
      "cell_type": "code",
      "execution_count": null,
      "metadata": {
        "id": "aBQ7KgbVZdkN"
      },
      "outputs": [],
      "source": [
        "df = pd.DataFrame.from_dict(model_losses, orient='index', columns=['Loss'])\n"
      ]
    },
    {
      "cell_type": "code",
      "execution_count": null,
      "metadata": {
        "id": "pDa5yKzcZfWt"
      },
      "outputs": [],
      "source": [
        "print(df.to_string())\n"
      ]
    },
    {
      "cell_type": "markdown",
      "metadata": {
        "id": "shs8T3MCZhyM"
      },
      "source": [
        "# Evaluation"
      ]
    },
    {
      "cell_type": "code",
      "execution_count": null,
      "metadata": {
        "id": "2HrfxWyeZjH1"
      },
      "outputs": [],
      "source": [
        "def test_model(model, test_loader, criterion, device):\n",
        "    model.eval()\n",
        "    correct = 0\n",
        "    total = 0\n",
        "    with torch.no_grad():\n",
        "        for inputs, labels in test_loader:\n",
        "            inputs, labels = inputs.to(device), labels.to(device)\n",
        "            outputs = model(inputs)\n",
        "            _, predicted = torch.max(outputs, 1)\n",
        "            total += labels.size(0)\n",
        "            correct += (predicted == labels).sum().item()\n",
        "    accuracy = correct / total * 100\n",
        "    print(f\"Test Accuracy: {accuracy:.2f}%\")\n",
        "    return accuracy\n"
      ]
    },
    {
      "cell_type": "code",
      "execution_count": null,
      "metadata": {
        "id": "P6oIDYGoZlIF"
      },
      "outputs": [],
      "source": [
        "# Test the model\n",
        "my_model_accuracy=test_model(my_model, test_loader, my_model_criterion, device)\n"
      ]
    },
    {
      "cell_type": "code",
      "execution_count": null,
      "metadata": {
        "id": "tv1v_66mZoUn"
      },
      "outputs": [],
      "source": [
        "# Test the model\n",
        "AlexNet_model_accuracy=test_model(AlexNet_model, test_loader, AlexNet_model_criterion, device)\n"
      ]
    },
    {
      "cell_type": "code",
      "execution_count": null,
      "metadata": {
        "id": "6ENvDfnvZqSF"
      },
      "outputs": [],
      "source": [
        "# Test the model\n",
        "Vgg16_model_accuracy=test_model(Vgg16_model, test_loader, Vgg16_model_criterion, device)\n"
      ]
    },
    {
      "cell_type": "code",
      "execution_count": null,
      "metadata": {
        "id": "6r-tQBYaZr-5"
      },
      "outputs": [],
      "source": [
        "# Test the model\n",
        "googlenet_model_accuracy=test_model(googlenet_model, test_loader, googlenet_model_criterion, device)\n"
      ]
    },
    {
      "cell_type": "code",
      "execution_count": null,
      "metadata": {
        "id": "L3AGYYhXZuYv"
      },
      "outputs": [],
      "source": [
        "# Test the model\n",
        "resnet18_model_accuracy=test_model(resnet18_model, test_loader, resnet18_model_criterion, device)\n"
      ]
    },
    {
      "cell_type": "code",
      "execution_count": null,
      "metadata": {
        "id": "NF5uDOczZw5O"
      },
      "outputs": [],
      "source": [
        "# Create a dictionary to store results\n",
        "model_results = {\n",
        "    \"Model\": [\"My Model\", \"AlexNet\", \"Vgg16\", \"Vgg19\", \"GoogLeNet\", \"ResNet18\"],\n",
        "    \"Loss\": [my_model_loss, AlexNet_model_loss, Vgg16_model_loss, Vgg19_model_loss, googlenet_model_loss, resnet18_model_loss],\n",
        "    \"Accuracy\": [my_model_accuracy, AlexNet_model_accuracy, Vgg16_model_accuracy, Vgg19_model_accuracy, googlenet_model_accuracy, resnet18_model_accuracy]\n",
        "}\n",
        "\n",
        "# Create a Pandas DataFrame from the dictionary\n",
        "df = pd.DataFrame(model_results)\n",
        "\n",
        "# Print the DataFrame as a table\n",
        "print(df.to_string())\n"
      ]
    },
    {
      "cell_type": "markdown",
      "metadata": {
        "id": "qS9u0dz4Zz4M"
      },
      "source": [
        "# Visualization"
      ]
    },
    {
      "cell_type": "code",
      "execution_count": null,
      "metadata": {
        "id": "sXrQfy8QZ2Uj"
      },
      "outputs": [],
      "source": [
        "# if you need load saved model use this\n",
        "MyModel = SimpleCNN()  # Define your model\n",
        "MyModel = torch.load('ASL_my_model_V1.0.1.pth')\n",
        "MyModel = MyModel.to(device)\n"
      ]
    },
    {
      "cell_type": "code",
      "execution_count": null,
      "metadata": {
        "id": "XqeIhm2rZ4WT"
      },
      "outputs": [],
      "source": [
        "def predict_and_display_image(model, image_path, transform, device):\n",
        "    # Load the image\n",
        "    image = Image.open(image_path).convert('RGB')\n",
        "\n",
        "    # Preprocess the image\n",
        "    image_tensor = transform(image).unsqueeze(0).to(device)\n",
        "\n",
        "    # Set the model to evaluation mode\n",
        "    model.eval()\n",
        "\n",
        "    with torch.no_grad():\n",
        "        # Make a prediction\n",
        "        outputs = model(image_tensor)\n",
        "        _, predicted = torch.max(outputs, 1)\n",
        "        predicted_class = class_names[predicted.item()]\n",
        "\n",
        "    # Display the image and prediction\n",
        "    plt.imshow(image)\n",
        "    plt.title(f\"Predicted: {predicted_class}\")\n",
        "    plt.axis('off')\n",
        "    plt.show()\n"
      ]
    },
    {
      "cell_type": "code",
      "execution_count": null,
      "metadata": {
        "id": "-G5VECheZ6--"
      },
      "outputs": [],
      "source": [
        "image_path = 'D:/IAAA/DeepLearning/Practice/Sixth\\Datasets/asl_alphabet_test/G_test.jpg'\n",
        "predict_and_display_image(my_model, image_path, transform, device)\n"
      ]
    },
    {
      "cell_type": "code",
      "execution_count": null,
      "metadata": {
        "id": "D_JUSaQhZ86L"
      },
      "outputs": [],
      "source": [
        "image_path = 'D:/IAAA/DeepLearning/Practice/Sixth\\Datasets/asl_alphabet_test/G_test.jpg'\n",
        "predict_and_display_image(AlexNet_model, image_path, transform, device)\n"
      ]
    },
    {
      "cell_type": "code",
      "execution_count": null,
      "metadata": {
        "id": "wKVgqcsbZ-mi"
      },
      "outputs": [],
      "source": [
        "image_path = 'D:/IAAA/DeepLearning/Practice/Sixth\\Datasets/asl_alphabet_test/G_test.jpg'\n",
        "predict_and_display_image(Vgg16_model, image_path, transform, device)\n"
      ]
    },
    {
      "cell_type": "code",
      "execution_count": null,
      "metadata": {
        "id": "TeXDEDJDaA5Y"
      },
      "outputs": [],
      "source": [
        "image_path = 'D:/IAAA/DeepLearning/Practice/Sixth\\Datasets/asl_alphabet_test/G_test.jpg'\n",
        "predict_and_display_image(Vgg19_model, image_path, transform, device)\n"
      ]
    },
    {
      "cell_type": "code",
      "execution_count": null,
      "metadata": {
        "id": "gFxzHlELaClD"
      },
      "outputs": [],
      "source": [
        "image_path = 'D:/IAAA/DeepLearning/Practice/Sixth\\Datasets/asl_alphabet_test/G_test.jpg'\n",
        "predict_and_display_image(googlenet_model, image_path, transform, device)\n"
      ]
    },
    {
      "cell_type": "code",
      "execution_count": null,
      "metadata": {
        "id": "Hx9ylxKMaE_v"
      },
      "outputs": [],
      "source": [
        "image_path = 'D:/IAAA/DeepLearning/Practice/Sixth\\Datasets/asl_alphabet_test/G_test.jpg'\n",
        "predict_and_display_image(resnet18_model, image_path, transform, device)\n"
      ]
    }
  ],
  "metadata": {
    "accelerator": "GPU",
    "colab": {
      "gpuType": "T4",
      "provenance": []
    },
    "kernelspec": {
      "display_name": "Python 3",
      "name": "python3"
    },
    "language_info": {
      "codemirror_mode": {
        "name": "ipython",
        "version": 3
      },
      "file_extension": ".py",
      "mimetype": "text/x-python",
      "name": "python",
      "nbconvert_exporter": "python",
      "pygments_lexer": "ipython3",
      "version": "3.11.2"
    }
  },
  "nbformat": 4,
  "nbformat_minor": 0
}
