{
 "cells": [
  {
   "cell_type": "markdown",
   "metadata": {},
   "source": [
    "## Imports\n"
   ]
  },
  {
   "cell_type": "code",
   "execution_count": 10,
   "metadata": {},
   "outputs": [],
   "source": [
    "# imports\n",
    "import os\n",
    "import shutil\n",
    "import kaggle\n"
   ]
  },
  {
   "cell_type": "markdown",
   "metadata": {},
   "source": [
    "## Prepare data"
   ]
  },
  {
   "cell_type": "code",
   "execution_count": 8,
   "metadata": {},
   "outputs": [],
   "source": [
    "# paths\n",
    "tmp_path = 'tmp'\n",
    "train_dataset_path = f'{tmp_path}/train_dataset'\n",
    "test_dataset_path = f'{tmp_path}/test_dataset'\n"
   ]
  },
  {
   "cell_type": "code",
   "execution_count": 13,
   "metadata": {},
   "outputs": [],
   "source": [
    "# download dataset\n",
    "if not os.path.exists(train_dataset_path) or not os.path.exists(test_dataset_path):\n",
    "    kaggle.api.authenticate()\n",
    "    kaggle.api.dataset_download_files('grassknoted/asl-alphabet', path=tmp_path, unzip=True)\n",
    "\n",
    "    shutil.move(f\"{tmp_path}/asl_alphabet_train/asl_alphabet_train\", train_dataset_path)\n",
    "    shutil.move(f\"{tmp_path}/asl_alphabet_test/asl_alphabet_test\", test_dataset_path)\n",
    "\n",
    "    shutil.rmtree(f\"{tmp_path}/asl_alphabet_train\")\n",
    "    shutil.rmtree(f\"{tmp_path}/asl_alphabet_test\")\n"
   ]
  },
  {
   "cell_type": "markdown",
   "metadata": {},
   "source": [
    "## Configure Pytorch\n"
   ]
  },
  {
   "cell_type": "markdown",
   "metadata": {},
   "source": [
    "## Prepare models\n"
   ]
  },
  {
   "cell_type": "markdown",
   "metadata": {},
   "source": [
    "## Train models\n"
   ]
  },
  {
   "cell_type": "markdown",
   "metadata": {},
   "source": [
    "## Evaluate\n"
   ]
  },
  {
   "cell_type": "markdown",
   "metadata": {},
   "source": [
    "## Test\n"
   ]
  }
 ],
 "metadata": {
  "kernelspec": {
   "display_name": "venv",
   "language": "python",
   "name": "python3"
  },
  "language_info": {
   "codemirror_mode": {
    "name": "ipython",
    "version": 3
   },
   "file_extension": ".py",
   "mimetype": "text/x-python",
   "name": "python",
   "nbconvert_exporter": "python",
   "pygments_lexer": "ipython3",
   "version": "3.12.4"
  }
 },
 "nbformat": 4,
 "nbformat_minor": 0
}
